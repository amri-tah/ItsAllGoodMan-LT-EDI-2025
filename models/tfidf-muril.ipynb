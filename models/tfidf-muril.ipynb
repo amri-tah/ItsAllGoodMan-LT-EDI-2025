{
 "cells": [
  {
   "cell_type": "code",
   "execution_count": 34,
   "metadata": {
    "_cell_guid": "b1076dfc-b9ad-4769-8c92-a6c4dae69d19",
    "_uuid": "8f2839f25d086af736a60e9eeb907d3b93b6e0e5",
    "execution": {
     "iopub.execute_input": "2025-03-26T04:14:37.580916Z",
     "iopub.status.busy": "2025-03-26T04:14:37.580631Z",
     "iopub.status.idle": "2025-03-26T04:14:39.913238Z",
     "shell.execute_reply": "2025-03-26T04:14:39.912232Z",
     "shell.execute_reply.started": "2025-03-26T04:14:37.580895Z"
    },
    "trusted": true
   },
   "outputs": [
    {
     "name": "stderr",
     "output_type": "stream",
     "text": [
      "[nltk_data] Downloading package stopwords to\n",
      "[nltk_data]     /Users/vishalthehuman/nltk_data...\n",
      "[nltk_data]   Package stopwords is already up-to-date!\n"
     ]
    },
    {
     "data": {
      "text/plain": [
       "True"
      ]
     },
     "execution_count": 34,
     "metadata": {},
     "output_type": "execute_result"
    }
   ],
   "source": [
    "import pandas as pd\n",
    "import numpy as np\n",
    "import matplotlib.pyplot as plt\n",
    "import seaborn as sns\n",
    "import re\n",
    "import emoji\n",
    "\n",
    "from sklearn.model_selection import train_test_split, cross_val_score, GridSearchCV, StratifiedKFold\n",
    "from sklearn.feature_extraction.text import TfidfVectorizer\n",
    "from sklearn.metrics import accuracy_score, f1_score, confusion_matrix\n",
    "from sklearn.ensemble import RandomForestClassifier, GradientBoostingClassifier, AdaBoostClassifier\n",
    "\n",
    "\n",
    "import re\n",
    "import emoji\n",
    "import pandas as pd\n",
    "from nltk.corpus import stopwords\n",
    "from wordsegment import load, segment\n",
    "\n",
    "\n",
    "import nltk\n",
    "from nltk.corpus import stopwords\n",
    "nltk.download('stopwords')"
   ]
  },
  {
   "cell_type": "code",
   "execution_count": 35,
   "metadata": {
    "execution": {
     "iopub.execute_input": "2025-03-26T04:14:39.915148Z",
     "iopub.status.busy": "2025-03-26T04:14:39.914608Z",
     "iopub.status.idle": "2025-03-26T04:14:43.944444Z",
     "shell.execute_reply": "2025-03-26T04:14:43.943581Z",
     "shell.execute_reply.started": "2025-03-26T04:14:39.915107Z"
    },
    "trusted": true
   },
   "outputs": [],
   "source": [
    "import pandas as pd\n",
    "from sklearn.model_selection import train_test_split\n",
    "from sklearn.feature_extraction.text import TfidfVectorizer\n",
    "from sklearn.ensemble import StackingClassifier, VotingClassifier\n",
    "from sklearn.linear_model import LogisticRegression\n",
    "from sklearn.naive_bayes import MultinomialNB\n",
    "from sklearn.svm import LinearSVC\n",
    "from sklearn.tree import DecisionTreeClassifier\n",
    "from sklearn.ensemble import RandomForestClassifier\n",
    "from xgboost import XGBClassifier\n",
    "from lightgbm import LGBMClassifier\n",
    "from sklearn.model_selection import StratifiedKFold\n",
    "from sklearn.metrics import accuracy_score, f1_score, confusion_matrix\n",
    "import seaborn as sns\n",
    "import matplotlib.pyplot as plt\n",
    "from tqdm import tqdm\n",
    "import numpy as np"
   ]
  },
  {
   "cell_type": "code",
   "execution_count": 36,
   "metadata": {
    "execution": {
     "iopub.execute_input": "2025-03-26T04:17:15.001766Z",
     "iopub.status.busy": "2025-03-26T04:17:15.001365Z",
     "iopub.status.idle": "2025-03-26T04:17:15.051208Z",
     "shell.execute_reply": "2025-03-26T04:17:15.050396Z",
     "shell.execute_reply.started": "2025-03-26T04:17:15.001737Z"
    },
    "trusted": true
   },
   "outputs": [
    {
     "data": {
      "application/vnd.microsoft.datawrangler.viewer.v0+json": {
       "columns": [
        {
         "name": "index",
         "rawType": "int64",
         "type": "integer"
        },
        {
         "name": "id",
         "rawType": "int64",
         "type": "integer"
        },
        {
         "name": "text",
         "rawType": "object",
         "type": "string"
        },
        {
         "name": "label",
         "rawType": "int64",
         "type": "integer"
        }
       ],
       "conversionMethod": "pd.DataFrame",
       "ref": "f6c8e232-bc5f-4d23-98f7-7167b672ef43",
       "rows": [
        [
         "0",
         "3268",
         "Indha ariya kandupidippin moolam neenga solla varum karuthu?",
         "0"
        ],
        [
         "1",
         "6239",
         " @vijayakumarp7959  unmai therincha nee pesu",
         "0"
        ],
        [
         "2",
         "5859",
         "Inga erukka yella dev... boys  vadakkan vadakkan solli prachanaiya avanungala kelappi vidudanunga eppa kelampidanunga eni Anga erukka velaiya enga erukka dev... Payalunga poi papanunga muthal pottu tholil panravanukkutha vali theriyum antha pakuthi yella velaikku alkitaikkama alayaporanunga",
         "1"
        ],
        [
         "3",
         "3519",
         "பீகாரி பிரசாந்த் கிஷோரிடம் கொடுத்த 350 கோடியை எப்படி வாங்கறது .அதான் இப்படி",
         "1"
        ],
        [
         "4",
         "5136",
         "Mumbai Bangalore la 80% percentage outsiders",
         "1"
        ],
        [
         "5",
         "3166",
         "யோவ் முதல்ல புரிஞ்சிக்க சிங்கப்பூர், மலேசிய Developed Country... And INDIA la Individual State Development panamaa other state la All Hindi people ah Job ku anuppi viitaa angaa irukkura own state people's ku job poidun basic fundamental rights poooidum and Political ah Tamilnadu wick aagidum... So konjam Realise Pannu Yoosi.. and ivlo years ilaama Why MODI period la ipdi nadakuthu yosi.. DIGITAL India nu summa solrnga so ithu thaaan DIGITAL INDIA VA ????? ALL STATE DEVELOP Aaganum athutha DEVELOP AND DIGITAL INDIA .",
         "1"
        ],
        [
         "6",
         "5581",
         "Elam fake news old news fraud news pota apdthan.pavam entha oorkarana iruntha ena olaikiran sambathikiran.",
         "0"
        ],
        [
         "7",
         "1404",
         "வடக்கன் வாய் மூடி இருக்குடா! தமிழா விழித்துக்கொள்! யாரும் அவர்களுக்கு வீடு வாடகைக்கு கொடுக்காதிர்கள்",
         "1"
        ],
        [
         "8",
         "1008",
         "paarkkaa rombaa vey kastamaa irukku ...tamilannaa tamil nattulaa irunthu vadakkans adichu thorathuraaa kaalaam vanthudumonnu payamaa irukku daa paarthaa",
         "0"
        ],
        [
         "9",
         "6659",
         "Iyya cinna vendu kol devar enathula biruvinai pesathigka kallar maravar agamudyar ellorum onnuthan  nammo eppadi pesrathunalathalathan ala aluku ennamalam pesragka mukklathor only",
         "0"
        ],
        [
         "10",
         "3675",
         "Ungaluku vantha ratham engaluku vantha thakali chatni ya",
         "0"
        ],
        [
         "11",
         "1503",
         "பாணி பூரி காரனோட வாங்கி குடிச்சாவது திருந்துங்கடா சாதி வேறி பிடித்த மட தமிழர்களா,,, சீமான் அண்ணாவுக்கு ஓட்ட போடுங்கடா  பரதெசி நாய்களா..",
         "1"
        ],
        [
         "12",
         "4474",
         "Harey mera vadakan wale  Definitely Tamilnadu soonly vadakans control this is future",
         "0"
        ],
        [
         "13",
         "3746",
         "நீன்க சொல்லறது எல்லாம் பொய் நானும் திருப்புர்தா",
         "0"
        ],
        [
         "14",
         "3620",
         "தமிழருக்கு இந்தமாதிரி பாதுகாப்பு கொடுக்காத நாய்களுக்கு.. வடமணிலத்தவருக்கு பாதுகாப்பு கொடுக்கிறீங்க.. மானங்கெட்ட..",
         "1"
        ],
        [
         "15",
         "686",
         "7:41 நீயும் செய் டா 40வேலையும் அவன் வந்து செய்யும் போது நீயும் செய் நீ செய்ய மாட்டா வடகன்ஸ் வந்த உனக்கு என் டா",
         "0"
        ],
        [
         "16",
         "5268",
         "Indha ariya kandupidippin moolam neenga solla varum karuthu?",
         "0"
        ],
        [
         "17",
         "3054",
         " @tamilstatus4613  oh kudigaraka sangam owner ah nee picha kara payaale",
         "1"
        ],
        [
         "18",
         "2866",
         "தாரவி, அசாம், நம்ம ஆளுக 10லச்சம் பேர் வெளிய இருகாங்க own business well settle north indians kku work kudukranga",
         "0"
        ],
        [
         "19",
         "4100",
         "It’s true!! Atleast now Tamilians woke up super... I have bad experience with North people... 10 years before When my father searching rented home in Chennai-01 sowkarpet  they openly said no home for Tamilians...  we should never encourage north people...",
         "0"
        ],
        [
         "20",
         "4767",
         "திருந்தவே மாட்டிங்களாடா எதுக்கு இந்த பதிவு இப்போ?",
         "0"
        ],
        [
         "21",
         "1484",
         "ஹிந்தி காரன உடனே வெளியேத்தணும் இல்லனா நாட்டுக்கு பெரும் ஆபத்து. கொரோனா விட மோசமானது",
         "1"
        ],
        [
         "22",
         "1416",
         "தமிழனிடம் இப்படி பேசிய இவனிடம் நஸட்ற ஈடாக ஒருகோடி பணம் வாங்கவேண்டும்",
         "0"
        ],
        [
         "23",
         "3439",
         "Tamilaga makkalai kurai sollade kattadavela pakradlendu Yella velayum pakran tamilnadu tamil nada irukanumna tamilanukku matum Vela kudu basa puriyada aalta nee Inna Vela vangi kilikka pora  innada pesriya ollu okra ipadikku nam tamilan seemanin vilutugal",
         "1"
        ],
        [
         "24",
         "714",
         "தமிழ் நாட்டில் 100 பேர் இருக்கிறோம் இங்கு 100 பேருக்கு வேலை வழங்க தேவையான தொழிற்சாலை இருந்தால் போதுமானது ஆனால் வேண்டும் என்றே 200 பேருக்கு வேலை வழங்க கூடிய தொழிற்சாலை ஏன் தமிழ் நாட்டில் அமைக்க வேண்டும் அப்போதுதான் செயற்க்கையான மனித வள பற்றாக்குறை ஏற்படுகிறது அதனால் வடக்கன்ஸ் தமிழ் நாட்டில் குடியேற்றம் நடை பெறுகிறது இது தெரியாமல் தமிழர்கள் குடிக்கு அடிமையாகி விட்டார்கள் சினிமா பின்னாடி சுற்றுகிறார்கள் என்று நம் மீது பழி போட்டு நம்மையே மூளை சலவை செய்கிறார்கள்.தமிழா விழித்து கொள்",
         "0"
        ],
        [
         "25",
         "499",
         "Naan Chennai il daan vazhgiren.\nSila vebarighalidamb pesinen.\nSolgiraar:tamizharghal somberi aagivittarghal adarku daan nanghal vadakkans vachirukkango.\nSindhiunghal",
         "0"
        ],
        [
         "26",
         "6037",
         "Nangal  entha variyum  vangavillai, unmai  therinthal  pesungal, proof  irunthal pesungal, engalitam  proof  ullathu.",
         "0"
        ],
        [
         "27",
         "3040",
         " @ManiKandan-yj4cx  nenga mudhala tamilana bro, ing nadpathai therinjum avanungalukku support pandringa",
         "1"
        ],
        [
         "28",
         "2883",
         "மசூதிகள் உளவு  துறை மூலம்  சங்கிகள் கட்டுப்பாட்டில்",
         "1"
        ],
        [
         "29",
         "7150",
         "எந்தனை நீதிமன்றங்கள் எத்தனை ஜட்ஜ்மெண்ட் கொடுத்தாலும் முதலில் நீங்கள் திருந்துங்கள்.",
         "0"
        ],
        [
         "30",
         "6864",
         "Dharmapuri Agamudaiyar Ezhil",
         "0"
        ],
        [
         "31",
         "206",
         "Itha pathaley sema ganda iruku anna namma oorula ivanunga ownera irukanuga namma innum oruthan kitta kai neeti sambalam vangittu irukom",
         "1"
        ],
        [
         "32",
         "7438",
         "The same way they invite christians sect and muslims sectlike this?",
         "0"
        ],
        [
         "33",
         "340",
         "sowcarpet elite vadakan first landed we celebrated them as pawnbroker now nothing to say",
         "0"
        ],
        [
         "34",
         "1205",
         " @samuraijosh1595  when did odisha, west bengal, jharkhand, bihar are part of North india",
         "0"
        ],
        [
         "35",
         "4140",
         "பிறமொழி பேசும் மக்களிடம் வரவு (கடைகளில் எந்த பொருளும் வாங்காதீர்கள்)செலவு வைத்துக் கொள்ளாதீர்கள் தமிழர்களே!",
         "1"
        ],
        [
         "36",
         "3998",
         "தமிழன் மேலயே நடவடிக்கை எடுங்கயா...👏",
         "0"
        ],
        [
         "37",
         "7491",
         "வழக்கமாக சைவம் மற்றும் வைணவம் இடையே சண்டை வரும் இப்போது வைணவத்துக்குள்ளயே சண்டை💪👊",
         "0"
        ],
        [
         "38",
         "3359",
         "super tamilan ini somberiya irukka maatan",
         "0"
        ],
        [
         "39",
         "1042",
         "Next cm should  EPS OPS or  SEEMAN  because they are only tamilans",
         "0"
        ],
        [
         "40",
         "4218",
         "இந்த பயம் எப்போதும் இருக்கனும்...  இனங்கி வாழ்வதை முட்டாள் தனமான எண்ணிணால் இது ஒரு நல்ல உதாரணம்.....",
         "1"
        ],
        [
         "41",
         "454",
         " your culture is Marying sister.      You telling moral value.....   Why you begging for money here lot of beggers in kerala is yours community..",
         "1"
        ],
        [
         "42",
         "3843",
         "இந்த பிரச்சினைகளை தொடங்கியது அதிமுக வா இல்ல பாஜகா வா என்றுஆராய்ச்சி செய்ய வேண்டும் .",
         "0"
        ],
        [
         "43",
         "5612",
         "முதளாலிகள் அவர்கள் தான் மட்டுமே உயரவேண்டும் என்ற நோக்கத்தில் தான் வடமானித்தான் வேலை செய்கிறான்",
         "0"
        ],
        [
         "44",
         "3388",
         "Dei holy celebration pana native place uh ku poranugaa ithu theriyama 😂...!",
         "0"
        ],
        [
         "45",
         "1148",
         " @RajKumar-sf8dl  good but epo oruthan Avan family ae maranthutu kudikarano Avan Avalo tha kudikalam thapu illa but alavuku merina amuthamum nanji thaan \n\nMore over Avan kudikaradhu Nala tha Avan Vela illama poche nu artham illa owner of the business 10k evan Vela senji irupan vadakan vanthutu 5k ku work panna varuvan owner ku 5k labam so Avan veliya anupitu vadakans uh ulla seathupanga\n\nVadakans ku padipu selavu illa 5k la Avan 1month ku vendiya porul vangipan chapathi mavu & Hans podhum avangaluku",
         "0"
        ],
        [
         "46",
         "1290",
         "திரைப்படங்களில் மட்டும் தமிழ் பையன்கள் ஹீரோக்களாகத் தெரிகிறார்கள், நிஜ வாழ்க்கையில் தமிழ்ப் பையன்கள் குழந்தைகளைப் போல் இருக்கிறார்கள். தாடி இல்லை, மீசை இல்லை, தைரியம் இல்லை, ஊக்கம் இல்லை, வலிமை இல்லை,",
         "1"
        ],
        [
         "47",
         "3727",
         "ஏன் அவங்க நாட்டில் வேலை செய்ய வேண்டியது தானே. இதே நிலமை நீடித்தால் தமிழ்நாடு அழிந்து விடும். வடக்கன்ஸ் நாடு முழுவதும் ஆக்கிரமிப்பு ஆகி விடும்.",
         "1"
        ],
        [
         "48",
         "6845",
         "கள்ளர் மறவர் கனத்ததொரு அகமுடையார் மெல்ல மெல்ல வெள்ளாளர் ஆகினரே.",
         "0"
        ],
        [
         "49",
         "618",
         "உங்கள் தமிழ் கடவுள் சோழ வம்சம்   உண்டாக்கியது எல்லாம் வடக்கில் இருந்து வந்தவர்கள் தான்.... போய் சோழர் மெய் கீர்த்தி படிங்க.... தமிழ் நாட்டில் உள்ள பல சமுதாயம் வடக்கில் இருந்து வந்தது தான்....",
         "0"
        ]
       ],
       "shape": {
        "columns": 3,
        "rows": 6299
       }
      },
      "text/html": [
       "<div>\n",
       "<style scoped>\n",
       "    .dataframe tbody tr th:only-of-type {\n",
       "        vertical-align: middle;\n",
       "    }\n",
       "\n",
       "    .dataframe tbody tr th {\n",
       "        vertical-align: top;\n",
       "    }\n",
       "\n",
       "    .dataframe thead th {\n",
       "        text-align: right;\n",
       "    }\n",
       "</style>\n",
       "<table border=\"1\" class=\"dataframe\">\n",
       "  <thead>\n",
       "    <tr style=\"text-align: right;\">\n",
       "      <th></th>\n",
       "      <th>id</th>\n",
       "      <th>text</th>\n",
       "      <th>label</th>\n",
       "    </tr>\n",
       "  </thead>\n",
       "  <tbody>\n",
       "    <tr>\n",
       "      <th>0</th>\n",
       "      <td>3268</td>\n",
       "      <td>Indha ariya kandupidippin moolam neenga solla ...</td>\n",
       "      <td>0</td>\n",
       "    </tr>\n",
       "    <tr>\n",
       "      <th>1</th>\n",
       "      <td>6239</td>\n",
       "      <td>@vijayakumarp7959  unmai therincha nee pesu</td>\n",
       "      <td>0</td>\n",
       "    </tr>\n",
       "    <tr>\n",
       "      <th>2</th>\n",
       "      <td>5859</td>\n",
       "      <td>Inga erukka yella dev... boys  vadakkan vadakk...</td>\n",
       "      <td>1</td>\n",
       "    </tr>\n",
       "    <tr>\n",
       "      <th>3</th>\n",
       "      <td>3519</td>\n",
       "      <td>பீகாரி பிரசாந்த் கிஷோரிடம் கொடுத்த 350 கோடியை ...</td>\n",
       "      <td>1</td>\n",
       "    </tr>\n",
       "    <tr>\n",
       "      <th>4</th>\n",
       "      <td>5136</td>\n",
       "      <td>Mumbai Bangalore la 80% percentage outsiders</td>\n",
       "      <td>1</td>\n",
       "    </tr>\n",
       "    <tr>\n",
       "      <th>...</th>\n",
       "      <td>...</td>\n",
       "      <td>...</td>\n",
       "      <td>...</td>\n",
       "    </tr>\n",
       "    <tr>\n",
       "      <th>6294</th>\n",
       "      <td>5860</td>\n",
       "      <td>This is done by those who want chaos in Tamil ...</td>\n",
       "      <td>0</td>\n",
       "    </tr>\n",
       "    <tr>\n",
       "      <th>6295</th>\n",
       "      <td>1441</td>\n",
       "      <td>வடமாநிலத்தவருக்கு வேலை வாய்ப்பு கொடுப்பதை ,பணி...</td>\n",
       "      <td>0</td>\n",
       "    </tr>\n",
       "    <tr>\n",
       "      <th>6296</th>\n",
       "      <td>3253</td>\n",
       "      <td>நம்ம மேல எந்த தப்பும் இல்லை.... ஏன் என்றால் நா...</td>\n",
       "      <td>0</td>\n",
       "    </tr>\n",
       "    <tr>\n",
       "      <th>6297</th>\n",
       "      <td>4295</td>\n",
       "      <td>தம்பி உத்திரபிரதேசம் டெல்லி எல்லையில் உள்ள 90%...</td>\n",
       "      <td>1</td>\n",
       "    </tr>\n",
       "    <tr>\n",
       "      <th>6298</th>\n",
       "      <td>7303</td>\n",
       "      <td>ஸ்ட்ரைட்டா மூக்கை தொட சங்கடப்பட்டுட்டு... தலைய...</td>\n",
       "      <td>0</td>\n",
       "    </tr>\n",
       "  </tbody>\n",
       "</table>\n",
       "<p>6299 rows × 3 columns</p>\n",
       "</div>"
      ],
      "text/plain": [
       "        id                                               text  label\n",
       "0     3268  Indha ariya kandupidippin moolam neenga solla ...      0\n",
       "1     6239        @vijayakumarp7959  unmai therincha nee pesu      0\n",
       "2     5859  Inga erukka yella dev... boys  vadakkan vadakk...      1\n",
       "3     3519  பீகாரி பிரசாந்த் கிஷோரிடம் கொடுத்த 350 கோடியை ...      1\n",
       "4     5136       Mumbai Bangalore la 80% percentage outsiders      1\n",
       "...    ...                                                ...    ...\n",
       "6294  5860  This is done by those who want chaos in Tamil ...      0\n",
       "6295  1441  வடமாநிலத்தவருக்கு வேலை வாய்ப்பு கொடுப்பதை ,பணி...      0\n",
       "6296  3253  நம்ம மேல எந்த தப்பும் இல்லை.... ஏன் என்றால் நா...      0\n",
       "6297  4295  தம்பி உத்திரபிரதேசம் டெல்லி எல்லையில் உள்ள 90%...      1\n",
       "6298  7303  ஸ்ட்ரைட்டா மூக்கை தொட சங்கடப்பட்டுட்டு... தலைய...      0\n",
       "\n",
       "[6299 rows x 3 columns]"
      ]
     },
     "execution_count": 36,
     "metadata": {},
     "output_type": "execute_result"
    }
   ],
   "source": [
    "# ---------------------------\n",
    "# 1. Load and Combine Datasets\n",
    "# ---------------------------\n",
    "train_df = pd.read_csv(\"original/train.csv\")\n",
    "dev_df = pd.read_csv(\"original/dev.csv\")\n",
    "df = pd.concat([train_df, dev_df], ignore_index=True)\n",
    "df"
   ]
  },
  {
   "cell_type": "code",
   "execution_count": 37,
   "metadata": {
    "execution": {
     "iopub.execute_input": "2025-03-26T04:17:21.153398Z",
     "iopub.status.busy": "2025-03-26T04:17:21.153104Z",
     "iopub.status.idle": "2025-03-26T04:17:21.160576Z",
     "shell.execute_reply": "2025-03-26T04:17:21.159581Z",
     "shell.execute_reply.started": "2025-03-26T04:17:21.153376Z"
    },
    "trusted": true
   },
   "outputs": [
    {
     "data": {
      "text/plain": [
       "label\n",
       "0    3900\n",
       "1    2399\n",
       "Name: count, dtype: int64"
      ]
     },
     "execution_count": 37,
     "metadata": {},
     "output_type": "execute_result"
    }
   ],
   "source": [
    "df[\"label\"].value_counts()"
   ]
  },
  {
   "cell_type": "code",
   "execution_count": 38,
   "metadata": {
    "execution": {
     "iopub.execute_input": "2025-03-25T03:09:39.619350Z",
     "iopub.status.busy": "2025-03-25T03:09:39.618898Z",
     "iopub.status.idle": "2025-03-25T03:09:40.926172Z",
     "shell.execute_reply": "2025-03-25T03:09:40.925339Z",
     "shell.execute_reply.started": "2025-03-25T03:09:39.619311Z"
    },
    "trusted": true
   },
   "outputs": [
    {
     "data": {
      "application/vnd.microsoft.datawrangler.viewer.v0+json": {
       "columns": [
        {
         "name": "index",
         "rawType": "int64",
         "type": "integer"
        },
        {
         "name": "id",
         "rawType": "int64",
         "type": "integer"
        },
        {
         "name": "text",
         "rawType": "object",
         "type": "string"
        },
        {
         "name": "label",
         "rawType": "int64",
         "type": "integer"
        },
        {
         "name": "clean_text",
         "rawType": "object",
         "type": "string"
        }
       ],
       "conversionMethod": "pd.DataFrame",
       "ref": "a156a09d-aeb1-4515-9a87-50c7d83ae446",
       "rows": [
        [
         "5931",
         "2721",
         "டே நீங்க வீடியோ எடுத்து அவனை  பெரிய ஆளாக ஆகிறான் தமிழனுக்கு தமிழன் தான் எதிரி",
         "1",
         "டே நீங்க வீடியோ எடுத்து அவனை பெரிய ஆளாக ஆகிறான் தமிழனுக்கு தமிழன் எதிரி"
        ],
        [
         "4096",
         "936",
         "Capitalism. Less labor and more profit for owners.\n\nYet people who wants to go to USA, used to curse Trump. He was having the same thought. People come to USA to work and take US people job.",
         "0",
         "Capitalism. Less labor profit owners. Yet people wants go USA, used curse Trump. thought. People come USA work take US people job."
        ],
        [
         "2661",
         "6639",
         " @user-pm3ol6oc9z perukku pinnadi perumaiya pottulittu irukkom nee poda vekkama iruuka , palllan nu",
         "1",
         "<USER> pm3ol6oc9z perukku pinnadi perumaiya pottulittu irukkom nee poda vekkama iruuka , palllan nu"
        ],
        [
         "4758",
         "3282",
         "North Indian viratta vendum",
         "1",
         "North Indian viratta vendum"
        ],
        [
         "1816",
         "1671",
         "Maarvaad le irndhu vandhu ingu vandhu koluppu kaamikkieaangu naambu ange pona nayikku kodukkura mariyadhai kooda namakku illai kaari thuppura echikku samama nammai ninaikkiraangu seruppale adikkunum indha maadhiri koluppa pesura nayi galai nam thamil mannai kappom👍",
         "1",
         "Maarvaad le irndhu vandhu ingu vandhu koluppu kaamikkieaangu naambu ange pona nayikku kodukkura mariyadhai kooda namakku illai kaari thuppura echikku samama nammai ninaikkiraangu seruppale adikkunum indha maadhiri koluppa pesura nayi galai nam thamil mannai kappom thumbs_up"
        ],
        [
         "5993",
         "6073",
         "பள்ளி பசங்க.. MBC கோட்டா 32% போலீஸ்காரன் எல்லாம் இவனுங்கள தான் செலெக்ஷன் பண்ணுறாங்க. நீதி எல்லாம் இவனுங்களுக்கு சார்பாக தீர்ப்பு சொல்லுறாங்க",
         "1",
         "பள்ளி பசங்க.. MBC கோட்டா 32% போலீஸ்காரன் இவனுங்கள செலெக்ஷன் பண்ணுறாங்க. நீதி இவனுங்களுக்கு சார்பாக தீர்ப்பு சொல்லுறாங்க"
        ],
        [
         "421",
         "3459",
         "Madurai muthu and seman is response for this put him in person",
         "1",
         "Madurai muthu seman response put person"
        ],
        [
         "5983",
         "2569",
         "Thavidyaaluku porntha passga vadakanss 😂",
         "1",
         "Thavidyaaluku porntha passga vadakanss face_with_tears_of_joy"
        ],
        [
         "3481",
         "5471",
         "முன்பு ஆங்கிலேயர்கள் எப்படி வந்து ஆக்கிரமித்து அதிகாரம் செய்தார்களோ, அந்த நிலை இனி வர விடக்கூடாது, தமிழர்களே, அவர்கள் நம் நாட்டவர்கள் தான், ஆனால் நம் வீட்டில் நம்மை அடிப்பதை எப்படி  பொறுத்து கொள்ள முடியும், நாம் எல்லோரும் ஜல்லிக்கட்டுக்கு கூடியது போல் நம் இனத்திற்காக ஒன்று கூடி, ஒரு நல்ல நிலை கொண்டுவர குரல் கொடுப்போம் 🙏🙏🙏🙏🙏🙏🙏🙏🙏🙏🙏🙏",
         "1",
         "முன்பு ஆங்கிலேயர்கள் எப்படி ஆக்கிரமித்து அதிகாரம் செய்தார்களோ, நிலை இனி வர விடக்கூடாது, தமிழர்களே, நம் நாட்டவர்கள் தான், ஆனால் நம் வீட்டில் நம்மை அடிப்பதை எப்படி பொறுத்து முடியும், எல்லோரும் ஜல்லிக்கட்டுக்கு கூடியது நம் இனத்திற்காக ஒன்று கூடி, நல்ல நிலை கொண்டுவர குரல் கொடுப்போம் folded_hands folded_hands folded_hands folded_hands folded_hands folded_hands folded_hands folded_hands folded_hands folded_hands folded_hands folded_hands"
        ],
        [
         "4396",
         "4239",
         "சிவசேனா மாதிரி இருந்தா இவனுங்க இந்தமாதிரி பேசமாட்டான்",
         "1",
         "சிவசேனா மாதிரி இருந்தா இவனுங்க இந்தமாதிரி பேசமாட்டான்"
        ],
        [
         "199",
         "1990",
         "தமிழன் ஆட்டம் ஆரம்பம் ஆகிடுச்சு 🐆🐆🐆🐆🐆",
         "0",
         "தமிழன் ஆட்டம் ஆரம்பம் ஆகிடுச்சு leopard leopard leopard leopard leopard"
        ],
        [
         "3784",
         "4703",
         "Mayira parunga... innum konja naal ah avan than inga veedu vanga poran ellam seiya poran appo poi..... see news.... vadakans stoning tamil peoples in thiruppur....",
         "1",
         "Mayira parunga... innum konja naal ah avan inga veedu vanga poran ellam seiya poran appo poi..... see news.... vadakans stoning tamil peoples thiruppur...."
        ],
        [
         "1436",
         "329",
         "Go to Arabia you Muslims belong there this is land of Tamils .",
         "1",
         "Go Arabia Muslims belong land Tamils ."
        ],
        [
         "2497",
         "7114",
         "துளுவ வேளாளர்கள் எப்படி அகமுடையார் ஆக முடியும் 😡😡😡",
         "0",
         "துளுவ வேளாளர்கள் எப்படி அகமுடையார் ஆக முடியும் enraged_face enraged_face enraged_face"
        ],
        [
         "5374",
         "7557",
         "வடகலை தென்கலை என்று நாங்களே அடித்துக்கொண்டால் இந்த அடிதடியில் அடுத்தவன் நுழைய பயப்படுவான் அதனால் தான் நாங்களே அடிச்சி விளையாடுகிறோம் இதை போய் நீர் ஏன் ஒய் பெரிதாக்குகிறீர்கள் ? 😂😂😂🎉🎉🎉🎉🎉🎉🎉",
         "0",
         "வடகலை தென்கலை நாங்களே அடித்துக்கொண்டால் அடிதடியில் அடுத்தவன் நுழைய பயப்படுவான் நாங்களே அடிச்சி விளையாடுகிறோம் போய் நீர் ஒய் பெரிதாக்குகிறீர்கள் ? face_with_tears_of_joy face_with_tears_of_joy face_with_tears_of_joy party_popper party_popper party_popper party_popper party_popper party_popper party_popper"
        ],
        [
         "1947",
         "835",
         "அவனவன் ஊர்ல வேலை பார்க்க நமக்கு கேவலம், அதுனால அசலூர்க்கரன் இங்க வேலைக்கு வரான் ... அவன் செய்யுற வேலையை செய்ய நம்ம ஆளுங்களுக்கு முடியுமா ? அப்போ இப்டிதா வடக்கன் குனியவச்சு குத்துவான் silent ah வாங்கிட்டு போவனும்",
         "1",
         "அவனவன் ஊர்ல வேலை பார்க்க நமக்கு கேவலம், அதுனால அசலூர்க்கரன் இங்க வேலைக்கு வரான் ... செய்யுற வேலையை செய்ய நம்ம ஆளுங்களுக்கு முடியுமா ? அப்போ இப்டிதா வடக்கன் குனியவச்சு குத்துவான் silent ah வாங்கிட்டு போவனும்"
        ],
        [
         "843",
         "4224",
         "அடிக்கவில்லை கெட்ட வார்த்தைகளை பேசவில்லை ஆனால் அவனை திருத்தினான் அதுதான் நாம் தமிழர் தம்பிகள்.",
         "1",
         "அடிக்கவில்லை கெட்ட வார்த்தைகளை பேசவில்லை ஆனால் அவனை திருத்தினான் அதுதான் தமிழர் தம்பிகள்."
        ],
        [
         "1991",
         "1972",
         "மார்வாடிகளை அடித்துத் துரத்துங்கள் தமிழர்களே.",
         "1",
         "மார்வாடிகளை அடித்துத் துரத்துங்கள் தமிழர்களே."
        ],
        [
         "4842",
         "444",
         "Plzzz take any step for tamilnadu works .... Namaku oru job panna bank bank aa alauroom but avangaluku matum epadii loan kuduranga maximum North Indian tha nera electrical shop jewells food shop nu irukanaga... plzz tamilnadu government take step to support Tamil people for there job and security.... Ipadiyaii pona sathiyama tamilnadu um vadakans tha solluva ga hindii tha namalaum peasanum pola 🤦🤦🤦🤦",
         "0",
         "Plzzz take step tamilnadu works .... Namaku oru job panna bank bank aa alauroom avangaluku matum epadii loan kuduranga maximum North Indian tha nera electrical shop jewells food shop nu irukanaga... plzz tamilnadu government take step support Tamil people job security.... Ipadiyaii pona sathiyama tamilnadu um vadakans tha solluva ga hindii tha namalaum peasanum pola person_facepalming person_facepalming person_facepalming person_facepalming"
        ],
        [
         "4597",
         "4124",
         "இந்தியாவில் வந்து பணி செய்ய முதலில் ஒப்பந்தம் செய்வீர்கள். இது போன்ற செயலை தைரியமா வெல்ல குடும் நாம் வெல்ல கூடும்",
         "0",
         "இந்தியாவில் பணி செய்ய முதலில் ஒப்பந்தம் செய்வீர்கள். செயலை தைரியமா வெல்ல குடும் வெல்ல கூடும்"
        ],
        [
         "1279",
         "7540",
         "டேய் மூடர்களே எல்லா கலையும் ஒன்றுதான் மனிதனாக இருக்க வாழும் வரை வாழுங்கள்",
         "0",
         "டேய் மூடர்களே எல்லா கலையும் ஒன்றுதான் மனிதனாக இருக்க வாழும் வாழுங்கள்"
        ],
        [
         "4836",
         "1608",
         "Vada nattu karanai valara vettathu  namathu thappu.",
         "0",
         "Vada nattu karanai valara vettathu namathu thappu."
        ],
        [
         "4893",
         "921",
         "வடக்கன்களுக்கு வீடு வாடகைக்கு விடுவது யார்  வேழை கொடுப்பது யார் வீரத்தமிழர்கள் தான்",
         "0",
         "வடக்கன்களுக்கு வீடு வாடகைக்கு விடுவது வேழை கொடுப்பது வீரத்தமிழர்கள்"
        ],
        [
         "3141",
         "7424",
         "பெந்தகோஸ்டி பெரிதா கத்தோலிக்க கோஸ்டி பெரிதா CSI கோஸ்டி பெரிதா??😂😂",
         "0",
         "பெந்தகோஸ்டி பெரிதா கத்தோலிக்க கோஸ்டி பெரிதா CSI கோஸ்டி பெரிதா?? face_with_tears_of_joy face_with_tears_of_joy"
        ],
        [
         "5076",
         "1010",
         "யாரும் அவர்களிடம் பொருட்கள் வாங்காதீர்கள்... தமிழ்நாடு காப்பதற்கு",
         "0",
         "யாரும் அவர்களிடம் பொருட்கள் வாங்காதீர்கள்... தமிழ்நாடு காப்பதற்கு"
        ],
        [
         "4363",
         "3403",
         "When the same salary is given to these why do these company owners take these North Indian migrant labourers, why not give the sons of soil the job?",
         "0",
         "salary given company owners take North Indian migrant labourers, give sons soil job?"
        ],
        [
         "4416",
         "1725",
         "Tamil nattulla mattum equal rights    other statesloom equal rights irundha enga tamilnattula double rights kodopom.",
         "0",
         "Tamil nattulla mattum equal rights statesloom equal rights irundha enga tamilnattula double rights kodopom."
        ],
        [
         "5256",
         "6722",
         "அய்யா இன்றைக்கு ஒரு 500 ஜாதிகள் இருப்பதாய் வைத்துக் கொள்வோம்...\nசுமார் 1000 வருடங்களுக்கு முன்பு 250 ஜாதிகள் இருந்து இருக்கும்..அதற்கும் 1000 வருடங்களுக்கு முன்பு 125 ஜாதிகள் இருந்து இருக்கும்..\nநீங்கள் 1000 வருட வரலாற்றை மட்டுமே பேசுறீங்க...3000 ஆண்டுகளுக்கு முன்பு ஜாதியே இருந்து இருக்காது..\nஇப்போ என்ன நிலைமை இருக்குதோ அது பாருங்க..\nஉங்கள் சுயநலத்திற்காக முக்குலத்தோர் ஒற்றுமையை சிதைக்காதீங்க...",
         "0",
         "அய்யா இன்றைக்கு 500 ஜாதிகள் இருப்பதாய் வைத்துக் கொள்வோம்... சுமார் 1000 வருடங்களுக்கு முன்பு 250 ஜாதிகள் இருக்கும்..அதற்கும் 1000 வருடங்களுக்கு முன்பு 125 ஜாதிகள் இருக்கும்.. நீங்கள் 1000 வருட வரலாற்றை பேசுறீங்க...3000 ஆண்டுகளுக்கு முன்பு ஜாதியே இருக்காது.. இப்போ நிலைமை இருக்குதோ பாருங்க.. உங்கள் சுயநலத்திற்காக முக்குலத்தோர் ஒற்றுமையை சிதைக்காதீங்க..."
        ],
        [
         "1667",
         "3748",
         "வேலை கிடைத்தவர்களை மட்டும் அனுப்புங்கள்... எல்லோருக்கும் ஐடி கார்டு தனியார் கம்பேனிகளும், அரசிடம் அவர்களின் முழுவிபரம் மற்றும் சொந்த ஊரின் சட்ட ஒழுங்கில் எந்த பிரச்சினைபின்னனி இல்லாத மக்களை, காவல்துறை Noc certificate  கொடுத்திருக்க வேணும். இவ்வாறானவர்களை பணி செய்ய மட்டும் அனுமதிக்க வேண்டும்...  மக்களின் பாதுக்காப்பை அரசு தொலைநோக்கி பார்வையுடனும், பிரச்சினை அறிந்து இவர்களுக்கு கண்ணாக்கிக்க வேண்டிய அவசியம் தேவை தான்...",
         "0",
         "வேலை கிடைத்தவர்களை அனுப்புங்கள்... எல்லோருக்கும் ஐடி கார்டு தனியார் கம்பேனிகளும், அரசிடம் அவர்களின் முழுவிபரம் சொந்த ஊரின் சட்ட ஒழுங்கில் பிரச்சினைபின்னனி இல்லாத மக்களை, காவல்துறை Noc certificate கொடுத்திருக்க வேணும். இவ்வாறானவர்களை பணி செய்ய அனுமதிக்க வேண்டும்... மக்களின் பாதுக்காப்பை அரசு தொலைநோக்கி பார்வையுடனும், பிரச்சினை அறிந்து இவர்களுக்கு கண்ணாக்கிக்க வேண்டிய அவசியம் தேவை தான்..."
        ],
        [
         "5866",
         "5579",
         "டேய் இவனுங்க ஹோலி பண்டிகை கொண்டாட போராங்கடா... மறுபடி வருவாங்க... நீங்க ஏன்டா இப்படி பதட்டம் அடைறீங்க... அவனுங்க போய்ட்டு 1 மாதத்தில் திருப்பி வந்துடுவாங்க...",
         "0",
         "டேய் இவனுங்க ஹோலி பண்டிகை கொண்டாட போராங்கடா... மறுபடி வருவாங்க... நீங்க ஏன்டா இப்படி பதட்டம் அடைறீங்க... அவனுங்க போய்ட்டு 1 மாதத்தில் திருப்பி வந்துடுவாங்க..."
        ],
        [
         "1954",
         "2482",
         "சூப்பர் இத யாரும் புரிந்து கொள்ள மாட்டார்கள்",
         "1",
         "சூப்பர் இத யாரும் புரிந்து மாட்டார்கள்"
        ],
        [
         "1832",
         "2461",
         "​ @subramanian1408  Bro What did central Government take action for tamil fisherman ? Did that NTK chief tell to attack north indian labourers or to have innerline permit ? What did indian Government take action for 20 tamil woodcutters encounter in Andhra pradesh? Kindly answer this question. I am not a supporter of any political party",
         "1",
         "​ <USER> Bro central Government take action tamil fisherman ? NTK chief tell attack north indian labourers innerline permit ? indian Government take action 20 tamil woodcutters encounter Andhra pradesh? Kindly answer question. supporter political party"
        ],
        [
         "287",
         "7272",
         "வடகலையோ U தென்கலையோ Y....எச்சிக்கல E பயல்கள் இவனுகளெல்லாம்",
         "1",
         "வடகலையோ U தென்கலையோ Y....எச்சிக்கல E பயல்கள் இவனுகளெல்லாம்"
        ],
        [
         "3159",
         "1684",
         "இதை ஒரு 40 ஆண்டுகளுக்கு முன்பே செய்திருக்கவேண்டும்",
         "0",
         "40 ஆண்டுகளுக்கு முன்பே செய்திருக்கவேண்டும்"
        ],
        [
         "5978",
         "3070",
         "Dei nee tamil therinja hindi karan thana, unmaiya sollu 🤔",
         "1",
         "Dei nee tamil therinja hindi karan thana, unmaiya sollu thinking_face"
        ],
        [
         "4421",
         "2434",
         "We Tamil people are proud about, Sundar Pitchai and lot more Tamil people who are doing great around the world. We want to go around the world and come to big positions in US, Europe, Malaysia, Dubai,,,,. But, we don't want to allow anyone else to enter our state.",
         "1",
         "Tamil people proud about, Sundar Pitchai lot Tamil people great around world. want go around world come big positions US, Europe, Malaysia, Dubai,,,,. But, want allow anyone else enter state."
        ],
        [
         "1578",
         "7477",
         "Ennudaiya thaithamilil vantha thenkilaiye vuyarnthathu",
         "0",
         "Ennudaiya thaithamilil vantha thenkilaiye vuyarnthathu"
        ],
        [
         "4880",
         "4551",
         "Da pota ura pasanga namba urlaa irika da",
         "0",
         "Da pota ura pasanga namba urlaa irika da"
        ],
        [
         "4954",
         "7653",
         "Its just not abt songs ...temples are the place were money comes unlimited....unlimited .....",
         "0",
         "abt songs ...temples place money comes unlimited....unlimited ....."
        ],
        [
         "1581",
         "7565",
         "முதலில் பேட்டி எடுப்பவர் அதிகாரமாக கேள்வி கேட்காதீர்கள்...எதிரில் இருப்பவர்களின் வயதிற்கும் தகுதிக்கும் மதிப்பு குடுத்து பேசுங்கள்",
         "0",
         "முதலில் பேட்டி எடுப்பவர் அதிகாரமாக கேள்வி கேட்காதீர்கள்...எதிரில் இருப்பவர்களின் வயதிற்கும் தகுதிக்கும் மதிப்பு குடுத்து பேசுங்கள்"
        ],
        [
         "1238",
         "3634",
         "Intha Tamil Nadu venda intha India vum venna vera natuku poi etho oru Vella senjukuro",
         "1",
         "Intha Tamil Nadu venda intha India vum venna vera natuku poi etho oru Vella senjukuro"
        ],
        [
         "1996",
         "6181",
         "பார்ப்பனியம் என்று கூறப்படுவது பைபிளிலும் உள்ளது. அர்ச்சகர்களுக்கு விதிக்கப்படும் கட்டுப்பாடுகளில் காணலாம். மனு நீதி சாயலில் தான் ஆபிரகாம் வழி வந்த மதங்களின் சட்டங்கள் உள்ளன.\nஇயேசுவே யூதர்களுக்கு/பிராமணர்களுக்கு மட்டுமே போதித்தார். பவுல் தான் பிறருக்கு போதிக்க ஆரம்பித்தார்.\n\nவர்ணா உலகம் முழுவதும் இன்றும் உள்ளது. ஜனநாயக முறையில் தேர்ந்தெடுக்கப்பட்ட அரசாங்கம் எல்லாமே வர்ணா அடிப்படையில் உள்ளன.  வணிக நிறுவனங்கள், அரசியல் கட்சிகள் மற்றும் எந்தவொரு கட்டமைப்பும் வர்ணா அடிப்படையில் தான் இயங்குகின்றன. அன்னிய ஆராய்ச்சியாளர்களும் யூதர்களும் இது சமுதாயத்தில் இயற்கையாக உருவாகும் படிநிலைகள் என்று கூறுகிறார்கள்.\nமனு நீதி, அர்த்தசாஸ்திரா, சுக்கிர நீதி, நாரத ஸ்மிரிதி போன்ற நூல்களில் இக்கால நிருவனங்களின் கட்டமைப்பை பிரதிபலிக்கிறது.\nஅங்கே இருப்பது ஆரம்பகால Human Resources Management மற்றும் Labour law.",
         "0",
         "பார்ப்பனியம் கூறப்படுவது பைபிளிலும் உள்ளது. அர்ச்சகர்களுக்கு விதிக்கப்படும் கட்டுப்பாடுகளில் காணலாம். மனு நீதி சாயலில் ஆபிரகாம் வழி மதங்களின் சட்டங்கள் உள்ளன. இயேசுவே யூதர்களுக்கு/பிராமணர்களுக்கு போதித்தார். பவுல் பிறருக்கு போதிக்க ஆரம்பித்தார். வர்ணா உலகம் முழுவதும் இன்றும் உள்ளது. ஜனநாயக முறையில் தேர்ந்தெடுக்கப்பட்ட அரசாங்கம் எல்லாமே வர்ணா அடிப்படையில் உள்ளன. வணிக நிறுவனங்கள், அரசியல் கட்சிகள் எந்தவொரு கட்டமைப்பும் வர்ணா அடிப்படையில் இயங்குகின்றன. அன்னிய ஆராய்ச்சியாளர்களும் யூதர்களும் சமுதாயத்தில் இயற்கையாக உருவாகும் படிநிலைகள் கூறுகிறார்கள். மனு நீதி, அர்த்தசாஸ்திரா, சுக்கிர நீதி, நாரத ஸ்மிரிதி நூல்களில் இக்கால நிருவனங்களின் கட்டமைப்பை பிரதிபலிக்கிறது. இருப்பது ஆரம்பகால Human Resources Management Labour law."
        ],
        [
         "3565",
         "1013",
         "Admk Dmk katchighal vaalgha contractors,north indian ku veedu kadai vaadaghaiku kudupavarghal,idam virpavarghal vaalgha..corrupted politicians thirudhaevae maataangha..",
         "0",
         "Admk Dmk katchighal vaalgha contractors,north indian ku veedu kadai vaadaghaiku kudupavarghal,idam virpavarghal vaalgha..corrupted politicians thirudhaevae maataangha.."
        ],
        [
         "2995",
         "5177",
         " @pavan4707  what you know about that get lost to pakistan",
         "0",
         "<USER> know get lost pakistan"
        ],
        [
         "1144",
         "2337",
         " @user-lj8iz9md6x  பிறமொழி பேசும் மக்களிடம் வரவு(கடைகளில் எதுவும் வாங்காதீர்கள்) செலவு வைத்துக் கொள்ளாதீர்கள் தமிழர்களே!",
         "0",
         "<USER> lj8iz9md6x பிறமொழி பேசும் மக்களிடம் வரவு(கடைகளில் எதுவும் வாங்காதீர்கள்) செலவு வைத்துக் கொள்ளாதீர்கள் தமிழர்களே!"
        ],
        [
         "2449",
         "449",
         " In the past, Malayalis are known for being \"tea kada mallus\". There's a joke that goes like this \"Martin and John climbed all the way to top of the Everest and found....a malayali selling tea\". You guys were everywhere selling tea. ",
         "0",
         "past, Malayalis known \"tea kada mallus\". There's joke goes like \"Martin John climbed way top Everest found....a malayali selling tea\". guys everywhere selling tea."
        ],
        [
         "1412",
         "2919",
         " @shanmugamvenkatesan5514   un pondatiya ah anupuchi vachina unaku extra kasu tharan ammava la anupuna kamiya than tharuvan pathukoo",
         "1",
         "<USER> un pondatiya ah anupuchi vachina unaku extra kasu tharan ammava la anupuna kamiya tharuvan pathukoo"
        ],
        [
         "2896",
         "5680",
         "ஏலேய் சுன்னி டிவி ஓ செய்தியை பாக்குறதே தேவையில்லாதது இதுல விளம்பர புன்டவேறே",
         "1",
         "ஏலேய் சுன்னி டிவி ஓ செய்தியை பாக்குறதே தேவையில்லாதது இதுல விளம்பர புன்டவேறே"
        ],
        [
         "1791",
         "6541",
         "வேளாண்மை என்பது விருந்தோம்பலை குறிக்கும்.ஆதி தமிழ்குடி மருத நிலத்தின் மூத்தகுடிக்கு.300வருட வறலாறுதான் என்பது.செந்தில் பள்ளரின் ஆதாரம் சொல்கிறது என்னா அவர்தர்ர ஆதாரம் அப்படிதான் இருக்கு.",
         "0",
         "வேளாண்மை விருந்தோம்பலை குறிக்கும்.ஆதி தமிழ்குடி மருத நிலத்தின் மூத்தகுடிக்கு.300வருட வறலாறுதான் என்பது.செந்தில் பள்ளரின் ஆதாரம் சொல்கிறது என்னா அவர்தர்ர ஆதாரம் அப்படிதான் இருக்கு."
        ],
        [
         "5605",
         "2562",
         "டேய் இப்படி பேட்டி எடுக்க அவனுங்க சு***ய புடிச்சி ஊம்புங்க டா😡😡😡😡",
         "1",
         "டேய் இப்படி பேட்டி எடுக்க அவனுங்க சு***ய புடிச்சி ஊம்புங்க டா enraged_face enraged_face enraged_face enraged_face"
        ]
       ],
       "shape": {
        "columns": 4,
        "rows": 50
       }
      },
      "text/html": [
       "<div>\n",
       "<style scoped>\n",
       "    .dataframe tbody tr th:only-of-type {\n",
       "        vertical-align: middle;\n",
       "    }\n",
       "\n",
       "    .dataframe tbody tr th {\n",
       "        vertical-align: top;\n",
       "    }\n",
       "\n",
       "    .dataframe thead th {\n",
       "        text-align: right;\n",
       "    }\n",
       "</style>\n",
       "<table border=\"1\" class=\"dataframe\">\n",
       "  <thead>\n",
       "    <tr style=\"text-align: right;\">\n",
       "      <th></th>\n",
       "      <th>id</th>\n",
       "      <th>text</th>\n",
       "      <th>label</th>\n",
       "      <th>clean_text</th>\n",
       "    </tr>\n",
       "  </thead>\n",
       "  <tbody>\n",
       "    <tr>\n",
       "      <th>5931</th>\n",
       "      <td>2721</td>\n",
       "      <td>டே நீங்க வீடியோ எடுத்து அவனை  பெரிய ஆளாக ஆகிறா...</td>\n",
       "      <td>1</td>\n",
       "      <td>டே நீங்க வீடியோ எடுத்து அவனை பெரிய ஆளாக ஆகிறான...</td>\n",
       "    </tr>\n",
       "    <tr>\n",
       "      <th>4096</th>\n",
       "      <td>936</td>\n",
       "      <td>Capitalism. Less labor and more profit for own...</td>\n",
       "      <td>0</td>\n",
       "      <td>Capitalism. Less labor profit owners. Yet peop...</td>\n",
       "    </tr>\n",
       "    <tr>\n",
       "      <th>2661</th>\n",
       "      <td>6639</td>\n",
       "      <td>@user-pm3ol6oc9z perukku pinnadi perumaiya po...</td>\n",
       "      <td>1</td>\n",
       "      <td>&lt;USER&gt; pm3ol6oc9z perukku pinnadi perumaiya po...</td>\n",
       "    </tr>\n",
       "    <tr>\n",
       "      <th>4758</th>\n",
       "      <td>3282</td>\n",
       "      <td>North Indian viratta vendum</td>\n",
       "      <td>1</td>\n",
       "      <td>North Indian viratta vendum</td>\n",
       "    </tr>\n",
       "    <tr>\n",
       "      <th>1816</th>\n",
       "      <td>1671</td>\n",
       "      <td>Maarvaad le irndhu vandhu ingu vandhu koluppu ...</td>\n",
       "      <td>1</td>\n",
       "      <td>Maarvaad le irndhu vandhu ingu vandhu koluppu ...</td>\n",
       "    </tr>\n",
       "    <tr>\n",
       "      <th>5993</th>\n",
       "      <td>6073</td>\n",
       "      <td>பள்ளி பசங்க.. MBC கோட்டா 32% போலீஸ்காரன் எல்லா...</td>\n",
       "      <td>1</td>\n",
       "      <td>பள்ளி பசங்க.. MBC கோட்டா 32% போலீஸ்காரன் இவனுங...</td>\n",
       "    </tr>\n",
       "    <tr>\n",
       "      <th>421</th>\n",
       "      <td>3459</td>\n",
       "      <td>Madurai muthu and seman is response for this p...</td>\n",
       "      <td>1</td>\n",
       "      <td>Madurai muthu seman response put person</td>\n",
       "    </tr>\n",
       "    <tr>\n",
       "      <th>5983</th>\n",
       "      <td>2569</td>\n",
       "      <td>Thavidyaaluku porntha passga vadakanss 😂</td>\n",
       "      <td>1</td>\n",
       "      <td>Thavidyaaluku porntha passga vadakanss face_wi...</td>\n",
       "    </tr>\n",
       "    <tr>\n",
       "      <th>3481</th>\n",
       "      <td>5471</td>\n",
       "      <td>முன்பு ஆங்கிலேயர்கள் எப்படி வந்து ஆக்கிரமித்து...</td>\n",
       "      <td>1</td>\n",
       "      <td>முன்பு ஆங்கிலேயர்கள் எப்படி ஆக்கிரமித்து அதிகா...</td>\n",
       "    </tr>\n",
       "    <tr>\n",
       "      <th>4396</th>\n",
       "      <td>4239</td>\n",
       "      <td>சிவசேனா மாதிரி இருந்தா இவனுங்க இந்தமாதிரி பேசம...</td>\n",
       "      <td>1</td>\n",
       "      <td>சிவசேனா மாதிரி இருந்தா இவனுங்க இந்தமாதிரி பேசம...</td>\n",
       "    </tr>\n",
       "    <tr>\n",
       "      <th>199</th>\n",
       "      <td>1990</td>\n",
       "      <td>தமிழன் ஆட்டம் ஆரம்பம் ஆகிடுச்சு 🐆🐆🐆🐆🐆</td>\n",
       "      <td>0</td>\n",
       "      <td>தமிழன் ஆட்டம் ஆரம்பம் ஆகிடுச்சு leopard leopar...</td>\n",
       "    </tr>\n",
       "    <tr>\n",
       "      <th>3784</th>\n",
       "      <td>4703</td>\n",
       "      <td>Mayira parunga... innum konja naal ah avan tha...</td>\n",
       "      <td>1</td>\n",
       "      <td>Mayira parunga... innum konja naal ah avan ing...</td>\n",
       "    </tr>\n",
       "    <tr>\n",
       "      <th>1436</th>\n",
       "      <td>329</td>\n",
       "      <td>Go to Arabia you Muslims belong there this is ...</td>\n",
       "      <td>1</td>\n",
       "      <td>Go Arabia Muslims belong land Tamils .</td>\n",
       "    </tr>\n",
       "    <tr>\n",
       "      <th>2497</th>\n",
       "      <td>7114</td>\n",
       "      <td>துளுவ வேளாளர்கள் எப்படி அகமுடையார் ஆக முடியும்...</td>\n",
       "      <td>0</td>\n",
       "      <td>துளுவ வேளாளர்கள் எப்படி அகமுடையார் ஆக முடியும்...</td>\n",
       "    </tr>\n",
       "    <tr>\n",
       "      <th>5374</th>\n",
       "      <td>7557</td>\n",
       "      <td>வடகலை தென்கலை என்று நாங்களே அடித்துக்கொண்டால் ...</td>\n",
       "      <td>0</td>\n",
       "      <td>வடகலை தென்கலை நாங்களே அடித்துக்கொண்டால் அடிதடி...</td>\n",
       "    </tr>\n",
       "    <tr>\n",
       "      <th>1947</th>\n",
       "      <td>835</td>\n",
       "      <td>அவனவன் ஊர்ல வேலை பார்க்க நமக்கு கேவலம், அதுனால...</td>\n",
       "      <td>1</td>\n",
       "      <td>அவனவன் ஊர்ல வேலை பார்க்க நமக்கு கேவலம், அதுனால...</td>\n",
       "    </tr>\n",
       "    <tr>\n",
       "      <th>843</th>\n",
       "      <td>4224</td>\n",
       "      <td>அடிக்கவில்லை கெட்ட வார்த்தைகளை பேசவில்லை ஆனால்...</td>\n",
       "      <td>1</td>\n",
       "      <td>அடிக்கவில்லை கெட்ட வார்த்தைகளை பேசவில்லை ஆனால்...</td>\n",
       "    </tr>\n",
       "    <tr>\n",
       "      <th>1991</th>\n",
       "      <td>1972</td>\n",
       "      <td>மார்வாடிகளை அடித்துத் துரத்துங்கள் தமிழர்களே.</td>\n",
       "      <td>1</td>\n",
       "      <td>மார்வாடிகளை அடித்துத் துரத்துங்கள் தமிழர்களே.</td>\n",
       "    </tr>\n",
       "    <tr>\n",
       "      <th>4842</th>\n",
       "      <td>444</td>\n",
       "      <td>Plzzz take any step for tamilnadu works .... N...</td>\n",
       "      <td>0</td>\n",
       "      <td>Plzzz take step tamilnadu works .... Namaku or...</td>\n",
       "    </tr>\n",
       "    <tr>\n",
       "      <th>4597</th>\n",
       "      <td>4124</td>\n",
       "      <td>இந்தியாவில் வந்து பணி செய்ய முதலில் ஒப்பந்தம் ...</td>\n",
       "      <td>0</td>\n",
       "      <td>இந்தியாவில் பணி செய்ய முதலில் ஒப்பந்தம் செய்வீ...</td>\n",
       "    </tr>\n",
       "    <tr>\n",
       "      <th>1279</th>\n",
       "      <td>7540</td>\n",
       "      <td>டேய் மூடர்களே எல்லா கலையும் ஒன்றுதான் மனிதனாக ...</td>\n",
       "      <td>0</td>\n",
       "      <td>டேய் மூடர்களே எல்லா கலையும் ஒன்றுதான் மனிதனாக ...</td>\n",
       "    </tr>\n",
       "    <tr>\n",
       "      <th>4836</th>\n",
       "      <td>1608</td>\n",
       "      <td>Vada nattu karanai valara vettathu  namathu th...</td>\n",
       "      <td>0</td>\n",
       "      <td>Vada nattu karanai valara vettathu namathu tha...</td>\n",
       "    </tr>\n",
       "    <tr>\n",
       "      <th>4893</th>\n",
       "      <td>921</td>\n",
       "      <td>வடக்கன்களுக்கு வீடு வாடகைக்கு விடுவது யார்  வே...</td>\n",
       "      <td>0</td>\n",
       "      <td>வடக்கன்களுக்கு வீடு வாடகைக்கு விடுவது வேழை கொட...</td>\n",
       "    </tr>\n",
       "    <tr>\n",
       "      <th>3141</th>\n",
       "      <td>7424</td>\n",
       "      <td>பெந்தகோஸ்டி பெரிதா கத்தோலிக்க கோஸ்டி பெரிதா CS...</td>\n",
       "      <td>0</td>\n",
       "      <td>பெந்தகோஸ்டி பெரிதா கத்தோலிக்க கோஸ்டி பெரிதா CS...</td>\n",
       "    </tr>\n",
       "    <tr>\n",
       "      <th>5076</th>\n",
       "      <td>1010</td>\n",
       "      <td>யாரும் அவர்களிடம் பொருட்கள் வாங்காதீர்கள்... த...</td>\n",
       "      <td>0</td>\n",
       "      <td>யாரும் அவர்களிடம் பொருட்கள் வாங்காதீர்கள்... த...</td>\n",
       "    </tr>\n",
       "    <tr>\n",
       "      <th>4363</th>\n",
       "      <td>3403</td>\n",
       "      <td>When the same salary is given to these why do ...</td>\n",
       "      <td>0</td>\n",
       "      <td>salary given company owners take North Indian ...</td>\n",
       "    </tr>\n",
       "    <tr>\n",
       "      <th>4416</th>\n",
       "      <td>1725</td>\n",
       "      <td>Tamil nattulla mattum equal rights    other st...</td>\n",
       "      <td>0</td>\n",
       "      <td>Tamil nattulla mattum equal rights statesloom ...</td>\n",
       "    </tr>\n",
       "    <tr>\n",
       "      <th>5256</th>\n",
       "      <td>6722</td>\n",
       "      <td>அய்யா இன்றைக்கு ஒரு 500 ஜாதிகள் இருப்பதாய் வைத...</td>\n",
       "      <td>0</td>\n",
       "      <td>அய்யா இன்றைக்கு 500 ஜாதிகள் இருப்பதாய் வைத்துக...</td>\n",
       "    </tr>\n",
       "    <tr>\n",
       "      <th>1667</th>\n",
       "      <td>3748</td>\n",
       "      <td>வேலை கிடைத்தவர்களை மட்டும் அனுப்புங்கள்... எல்...</td>\n",
       "      <td>0</td>\n",
       "      <td>வேலை கிடைத்தவர்களை அனுப்புங்கள்... எல்லோருக்கு...</td>\n",
       "    </tr>\n",
       "    <tr>\n",
       "      <th>5866</th>\n",
       "      <td>5579</td>\n",
       "      <td>டேய் இவனுங்க ஹோலி பண்டிகை கொண்டாட போராங்கடா......</td>\n",
       "      <td>0</td>\n",
       "      <td>டேய் இவனுங்க ஹோலி பண்டிகை கொண்டாட போராங்கடா......</td>\n",
       "    </tr>\n",
       "    <tr>\n",
       "      <th>1954</th>\n",
       "      <td>2482</td>\n",
       "      <td>சூப்பர் இத யாரும் புரிந்து கொள்ள மாட்டார்கள்</td>\n",
       "      <td>1</td>\n",
       "      <td>சூப்பர் இத யாரும் புரிந்து மாட்டார்கள்</td>\n",
       "    </tr>\n",
       "    <tr>\n",
       "      <th>1832</th>\n",
       "      <td>2461</td>\n",
       "      <td>​ @subramanian1408  Bro What did central Gover...</td>\n",
       "      <td>1</td>\n",
       "      <td>​ &lt;USER&gt; Bro central Government take action ta...</td>\n",
       "    </tr>\n",
       "    <tr>\n",
       "      <th>287</th>\n",
       "      <td>7272</td>\n",
       "      <td>வடகலையோ U தென்கலையோ Y....எச்சிக்கல E பயல்கள் இ...</td>\n",
       "      <td>1</td>\n",
       "      <td>வடகலையோ U தென்கலையோ Y....எச்சிக்கல E பயல்கள் இ...</td>\n",
       "    </tr>\n",
       "    <tr>\n",
       "      <th>3159</th>\n",
       "      <td>1684</td>\n",
       "      <td>இதை ஒரு 40 ஆண்டுகளுக்கு முன்பே செய்திருக்கவேண்...</td>\n",
       "      <td>0</td>\n",
       "      <td>40 ஆண்டுகளுக்கு முன்பே செய்திருக்கவேண்டும்</td>\n",
       "    </tr>\n",
       "    <tr>\n",
       "      <th>5978</th>\n",
       "      <td>3070</td>\n",
       "      <td>Dei nee tamil therinja hindi karan thana, unma...</td>\n",
       "      <td>1</td>\n",
       "      <td>Dei nee tamil therinja hindi karan thana, unma...</td>\n",
       "    </tr>\n",
       "    <tr>\n",
       "      <th>4421</th>\n",
       "      <td>2434</td>\n",
       "      <td>We Tamil people are proud about, Sundar Pitcha...</td>\n",
       "      <td>1</td>\n",
       "      <td>Tamil people proud about, Sundar Pitchai lot T...</td>\n",
       "    </tr>\n",
       "    <tr>\n",
       "      <th>1578</th>\n",
       "      <td>7477</td>\n",
       "      <td>Ennudaiya thaithamilil vantha thenkilaiye vuya...</td>\n",
       "      <td>0</td>\n",
       "      <td>Ennudaiya thaithamilil vantha thenkilaiye vuya...</td>\n",
       "    </tr>\n",
       "    <tr>\n",
       "      <th>4880</th>\n",
       "      <td>4551</td>\n",
       "      <td>Da pota ura pasanga namba urlaa irika da</td>\n",
       "      <td>0</td>\n",
       "      <td>Da pota ura pasanga namba urlaa irika da</td>\n",
       "    </tr>\n",
       "    <tr>\n",
       "      <th>4954</th>\n",
       "      <td>7653</td>\n",
       "      <td>Its just not abt songs ...temples are the plac...</td>\n",
       "      <td>0</td>\n",
       "      <td>abt songs ...temples place money comes unlimit...</td>\n",
       "    </tr>\n",
       "    <tr>\n",
       "      <th>1581</th>\n",
       "      <td>7565</td>\n",
       "      <td>முதலில் பேட்டி எடுப்பவர் அதிகாரமாக கேள்வி கேட்...</td>\n",
       "      <td>0</td>\n",
       "      <td>முதலில் பேட்டி எடுப்பவர் அதிகாரமாக கேள்வி கேட்...</td>\n",
       "    </tr>\n",
       "    <tr>\n",
       "      <th>1238</th>\n",
       "      <td>3634</td>\n",
       "      <td>Intha Tamil Nadu venda intha India vum venna v...</td>\n",
       "      <td>1</td>\n",
       "      <td>Intha Tamil Nadu venda intha India vum venna v...</td>\n",
       "    </tr>\n",
       "    <tr>\n",
       "      <th>1996</th>\n",
       "      <td>6181</td>\n",
       "      <td>பார்ப்பனியம் என்று கூறப்படுவது பைபிளிலும் உள்ள...</td>\n",
       "      <td>0</td>\n",
       "      <td>பார்ப்பனியம் கூறப்படுவது பைபிளிலும் உள்ளது. அர...</td>\n",
       "    </tr>\n",
       "    <tr>\n",
       "      <th>3565</th>\n",
       "      <td>1013</td>\n",
       "      <td>Admk Dmk katchighal vaalgha contractors,north ...</td>\n",
       "      <td>0</td>\n",
       "      <td>Admk Dmk katchighal vaalgha contractors,north ...</td>\n",
       "    </tr>\n",
       "    <tr>\n",
       "      <th>2995</th>\n",
       "      <td>5177</td>\n",
       "      <td>@pavan4707  what you know about that get lost...</td>\n",
       "      <td>0</td>\n",
       "      <td>&lt;USER&gt; know get lost pakistan</td>\n",
       "    </tr>\n",
       "    <tr>\n",
       "      <th>1144</th>\n",
       "      <td>2337</td>\n",
       "      <td>@user-lj8iz9md6x  பிறமொழி பேசும் மக்களிடம் வர...</td>\n",
       "      <td>0</td>\n",
       "      <td>&lt;USER&gt; lj8iz9md6x பிறமொழி பேசும் மக்களிடம் வரவ...</td>\n",
       "    </tr>\n",
       "    <tr>\n",
       "      <th>2449</th>\n",
       "      <td>449</td>\n",
       "      <td>In the past, Malayalis are known for being \"t...</td>\n",
       "      <td>0</td>\n",
       "      <td>past, Malayalis known \"tea kada mallus\". There...</td>\n",
       "    </tr>\n",
       "    <tr>\n",
       "      <th>1412</th>\n",
       "      <td>2919</td>\n",
       "      <td>@shanmugamvenkatesan5514   un pondatiya ah an...</td>\n",
       "      <td>1</td>\n",
       "      <td>&lt;USER&gt; un pondatiya ah anupuchi vachina unaku ...</td>\n",
       "    </tr>\n",
       "    <tr>\n",
       "      <th>2896</th>\n",
       "      <td>5680</td>\n",
       "      <td>ஏலேய் சுன்னி டிவி ஓ செய்தியை பாக்குறதே தேவையில...</td>\n",
       "      <td>1</td>\n",
       "      <td>ஏலேய் சுன்னி டிவி ஓ செய்தியை பாக்குறதே தேவையில...</td>\n",
       "    </tr>\n",
       "    <tr>\n",
       "      <th>1791</th>\n",
       "      <td>6541</td>\n",
       "      <td>வேளாண்மை என்பது விருந்தோம்பலை குறிக்கும்.ஆதி த...</td>\n",
       "      <td>0</td>\n",
       "      <td>வேளாண்மை விருந்தோம்பலை குறிக்கும்.ஆதி தமிழ்குட...</td>\n",
       "    </tr>\n",
       "    <tr>\n",
       "      <th>5605</th>\n",
       "      <td>2562</td>\n",
       "      <td>டேய் இப்படி பேட்டி எடுக்க அவனுங்க சு***ய புடிச...</td>\n",
       "      <td>1</td>\n",
       "      <td>டேய் இப்படி பேட்டி எடுக்க அவனுங்க சு***ய புடிச...</td>\n",
       "    </tr>\n",
       "  </tbody>\n",
       "</table>\n",
       "</div>"
      ],
      "text/plain": [
       "        id                                               text  label  \\\n",
       "5931  2721  டே நீங்க வீடியோ எடுத்து அவனை  பெரிய ஆளாக ஆகிறா...      1   \n",
       "4096   936  Capitalism. Less labor and more profit for own...      0   \n",
       "2661  6639   @user-pm3ol6oc9z perukku pinnadi perumaiya po...      1   \n",
       "4758  3282                        North Indian viratta vendum      1   \n",
       "1816  1671  Maarvaad le irndhu vandhu ingu vandhu koluppu ...      1   \n",
       "5993  6073  பள்ளி பசங்க.. MBC கோட்டா 32% போலீஸ்காரன் எல்லா...      1   \n",
       "421   3459  Madurai muthu and seman is response for this p...      1   \n",
       "5983  2569           Thavidyaaluku porntha passga vadakanss 😂      1   \n",
       "3481  5471  முன்பு ஆங்கிலேயர்கள் எப்படி வந்து ஆக்கிரமித்து...      1   \n",
       "4396  4239  சிவசேனா மாதிரி இருந்தா இவனுங்க இந்தமாதிரி பேசம...      1   \n",
       "199   1990              தமிழன் ஆட்டம் ஆரம்பம் ஆகிடுச்சு 🐆🐆🐆🐆🐆      0   \n",
       "3784  4703  Mayira parunga... innum konja naal ah avan tha...      1   \n",
       "1436   329  Go to Arabia you Muslims belong there this is ...      1   \n",
       "2497  7114  துளுவ வேளாளர்கள் எப்படி அகமுடையார் ஆக முடியும்...      0   \n",
       "5374  7557  வடகலை தென்கலை என்று நாங்களே அடித்துக்கொண்டால் ...      0   \n",
       "1947   835  அவனவன் ஊர்ல வேலை பார்க்க நமக்கு கேவலம், அதுனால...      1   \n",
       "843   4224  அடிக்கவில்லை கெட்ட வார்த்தைகளை பேசவில்லை ஆனால்...      1   \n",
       "1991  1972      மார்வாடிகளை அடித்துத் துரத்துங்கள் தமிழர்களே.      1   \n",
       "4842   444  Plzzz take any step for tamilnadu works .... N...      0   \n",
       "4597  4124  இந்தியாவில் வந்து பணி செய்ய முதலில் ஒப்பந்தம் ...      0   \n",
       "1279  7540  டேய் மூடர்களே எல்லா கலையும் ஒன்றுதான் மனிதனாக ...      0   \n",
       "4836  1608  Vada nattu karanai valara vettathu  namathu th...      0   \n",
       "4893   921  வடக்கன்களுக்கு வீடு வாடகைக்கு விடுவது யார்  வே...      0   \n",
       "3141  7424  பெந்தகோஸ்டி பெரிதா கத்தோலிக்க கோஸ்டி பெரிதா CS...      0   \n",
       "5076  1010  யாரும் அவர்களிடம் பொருட்கள் வாங்காதீர்கள்... த...      0   \n",
       "4363  3403  When the same salary is given to these why do ...      0   \n",
       "4416  1725  Tamil nattulla mattum equal rights    other st...      0   \n",
       "5256  6722  அய்யா இன்றைக்கு ஒரு 500 ஜாதிகள் இருப்பதாய் வைத...      0   \n",
       "1667  3748  வேலை கிடைத்தவர்களை மட்டும் அனுப்புங்கள்... எல்...      0   \n",
       "5866  5579  டேய் இவனுங்க ஹோலி பண்டிகை கொண்டாட போராங்கடா......      0   \n",
       "1954  2482       சூப்பர் இத யாரும் புரிந்து கொள்ள மாட்டார்கள்      1   \n",
       "1832  2461  ​ @subramanian1408  Bro What did central Gover...      1   \n",
       "287   7272  வடகலையோ U தென்கலையோ Y....எச்சிக்கல E பயல்கள் இ...      1   \n",
       "3159  1684  இதை ஒரு 40 ஆண்டுகளுக்கு முன்பே செய்திருக்கவேண்...      0   \n",
       "5978  3070  Dei nee tamil therinja hindi karan thana, unma...      1   \n",
       "4421  2434  We Tamil people are proud about, Sundar Pitcha...      1   \n",
       "1578  7477  Ennudaiya thaithamilil vantha thenkilaiye vuya...      0   \n",
       "4880  4551           Da pota ura pasanga namba urlaa irika da      0   \n",
       "4954  7653  Its just not abt songs ...temples are the plac...      0   \n",
       "1581  7565  முதலில் பேட்டி எடுப்பவர் அதிகாரமாக கேள்வி கேட்...      0   \n",
       "1238  3634  Intha Tamil Nadu venda intha India vum venna v...      1   \n",
       "1996  6181  பார்ப்பனியம் என்று கூறப்படுவது பைபிளிலும் உள்ள...      0   \n",
       "3565  1013  Admk Dmk katchighal vaalgha contractors,north ...      0   \n",
       "2995  5177   @pavan4707  what you know about that get lost...      0   \n",
       "1144  2337   @user-lj8iz9md6x  பிறமொழி பேசும் மக்களிடம் வர...      0   \n",
       "2449   449   In the past, Malayalis are known for being \"t...      0   \n",
       "1412  2919   @shanmugamvenkatesan5514   un pondatiya ah an...      1   \n",
       "2896  5680  ஏலேய் சுன்னி டிவி ஓ செய்தியை பாக்குறதே தேவையில...      1   \n",
       "1791  6541  வேளாண்மை என்பது விருந்தோம்பலை குறிக்கும்.ஆதி த...      0   \n",
       "5605  2562  டேய் இப்படி பேட்டி எடுக்க அவனுங்க சு***ய புடிச...      1   \n",
       "\n",
       "                                             clean_text  \n",
       "5931  டே நீங்க வீடியோ எடுத்து அவனை பெரிய ஆளாக ஆகிறான...  \n",
       "4096  Capitalism. Less labor profit owners. Yet peop...  \n",
       "2661  <USER> pm3ol6oc9z perukku pinnadi perumaiya po...  \n",
       "4758                        North Indian viratta vendum  \n",
       "1816  Maarvaad le irndhu vandhu ingu vandhu koluppu ...  \n",
       "5993  பள்ளி பசங்க.. MBC கோட்டா 32% போலீஸ்காரன் இவனுங...  \n",
       "421             Madurai muthu seman response put person  \n",
       "5983  Thavidyaaluku porntha passga vadakanss face_wi...  \n",
       "3481  முன்பு ஆங்கிலேயர்கள் எப்படி ஆக்கிரமித்து அதிகா...  \n",
       "4396  சிவசேனா மாதிரி இருந்தா இவனுங்க இந்தமாதிரி பேசம...  \n",
       "199   தமிழன் ஆட்டம் ஆரம்பம் ஆகிடுச்சு leopard leopar...  \n",
       "3784  Mayira parunga... innum konja naal ah avan ing...  \n",
       "1436             Go Arabia Muslims belong land Tamils .  \n",
       "2497  துளுவ வேளாளர்கள் எப்படி அகமுடையார் ஆக முடியும்...  \n",
       "5374  வடகலை தென்கலை நாங்களே அடித்துக்கொண்டால் அடிதடி...  \n",
       "1947  அவனவன் ஊர்ல வேலை பார்க்க நமக்கு கேவலம், அதுனால...  \n",
       "843   அடிக்கவில்லை கெட்ட வார்த்தைகளை பேசவில்லை ஆனால்...  \n",
       "1991      மார்வாடிகளை அடித்துத் துரத்துங்கள் தமிழர்களே.  \n",
       "4842  Plzzz take step tamilnadu works .... Namaku or...  \n",
       "4597  இந்தியாவில் பணி செய்ய முதலில் ஒப்பந்தம் செய்வீ...  \n",
       "1279  டேய் மூடர்களே எல்லா கலையும் ஒன்றுதான் மனிதனாக ...  \n",
       "4836  Vada nattu karanai valara vettathu namathu tha...  \n",
       "4893  வடக்கன்களுக்கு வீடு வாடகைக்கு விடுவது வேழை கொட...  \n",
       "3141  பெந்தகோஸ்டி பெரிதா கத்தோலிக்க கோஸ்டி பெரிதா CS...  \n",
       "5076  யாரும் அவர்களிடம் பொருட்கள் வாங்காதீர்கள்... த...  \n",
       "4363  salary given company owners take North Indian ...  \n",
       "4416  Tamil nattulla mattum equal rights statesloom ...  \n",
       "5256  அய்யா இன்றைக்கு 500 ஜாதிகள் இருப்பதாய் வைத்துக...  \n",
       "1667  வேலை கிடைத்தவர்களை அனுப்புங்கள்... எல்லோருக்கு...  \n",
       "5866  டேய் இவனுங்க ஹோலி பண்டிகை கொண்டாட போராங்கடா......  \n",
       "1954             சூப்பர் இத யாரும் புரிந்து மாட்டார்கள்  \n",
       "1832  ​ <USER> Bro central Government take action ta...  \n",
       "287   வடகலையோ U தென்கலையோ Y....எச்சிக்கல E பயல்கள் இ...  \n",
       "3159         40 ஆண்டுகளுக்கு முன்பே செய்திருக்கவேண்டும்  \n",
       "5978  Dei nee tamil therinja hindi karan thana, unma...  \n",
       "4421  Tamil people proud about, Sundar Pitchai lot T...  \n",
       "1578  Ennudaiya thaithamilil vantha thenkilaiye vuya...  \n",
       "4880           Da pota ura pasanga namba urlaa irika da  \n",
       "4954  abt songs ...temples place money comes unlimit...  \n",
       "1581  முதலில் பேட்டி எடுப்பவர் அதிகாரமாக கேள்வி கேட்...  \n",
       "1238  Intha Tamil Nadu venda intha India vum venna v...  \n",
       "1996  பார்ப்பனியம் கூறப்படுவது பைபிளிலும் உள்ளது. அர...  \n",
       "3565  Admk Dmk katchighal vaalgha contractors,north ...  \n",
       "2995                      <USER> know get lost pakistan  \n",
       "1144  <USER> lj8iz9md6x பிறமொழி பேசும் மக்களிடம் வரவ...  \n",
       "2449  past, Malayalis known \"tea kada mallus\". There...  \n",
       "1412  <USER> un pondatiya ah anupuchi vachina unaku ...  \n",
       "2896  ஏலேய் சுன்னி டிவி ஓ செய்தியை பாக்குறதே தேவையில...  \n",
       "1791  வேளாண்மை விருந்தோம்பலை குறிக்கும்.ஆதி தமிழ்குட...  \n",
       "5605  டேய் இப்படி பேட்டி எடுக்க அவனுங்க சு***ய புடிச...  "
      ]
     },
     "execution_count": 38,
     "metadata": {},
     "output_type": "execute_result"
    }
   ],
   "source": [
    "# -------------------------------\n",
    "# Text Preprocessing\n",
    "# -------------------------------\n",
    "# Function to clean each text\n",
    "# Load word segmentation model\n",
    "load()\n",
    "\n",
    "# Load stopwords\n",
    "tamil_stopwords = set(stopwords.words('tamil'))\n",
    "english_stopwords = set(stopwords.words('english'))\n",
    "\n",
    "# -------------------------------\n",
    "# Text Preprocessing\n",
    "# -------------------------------\n",
    "\n",
    "def preprocess_text(text):\n",
    "    # Extract hashtags\n",
    "    hashtags = re.findall(r\"#\\w+\", text)\n",
    "\n",
    "    # Process hashtags (convert to words)\n",
    "    processed_hashtags = []\n",
    "    for tag in hashtags:\n",
    "        tag = tag.lstrip(\"#\")  # Remove #\n",
    "        words = segment(tag)   # Split compound words\n",
    "        processed_hashtags.append(\" \".join(words))  # Convert to sentence-like format\n",
    "\n",
    "    # Remove hashtags from main text\n",
    "    text = re.sub(r\"#\\w+\", \"\", text)\n",
    "\n",
    "    # Replace mentions with a placeholder\n",
    "    text = re.sub(r'@\\w+', '<USER>', text)\n",
    "    \n",
    "    # Convert emojis to text\n",
    "    text = emoji.demojize(text, delimiters=(\" \", \" \"))  # Adds spaces around emoji descriptions\n",
    "    \n",
    "    # Remove extra whitespace\n",
    "    text = re.sub(r'\\s+', ' ', text).strip()\n",
    "\n",
    "    # Merge cleaned text with processed hashtags\n",
    "    final_text = text + \" \" + \" \".join(processed_hashtags)\n",
    "    final_text = final_text.replace(\"-\", \" \")  # Remove double spaces\n",
    "    return final_text\n",
    "\n",
    "# Function to remove stopwords\n",
    "def remove_stopwords(text):\n",
    "    words = text.split()\n",
    "    filtered = [word for word in words if word.lower() not in english_stopwords and word.lower() not in tamil_stopwords]\n",
    "    return ' '.join(filtered)\n",
    "\n",
    "# Apply preprocessing\n",
    "df['clean_text'] = df['text'].apply(preprocess_text).apply(remove_stopwords)\n",
    "\n",
    "# Show sample processed data\n",
    "df.sample(50)\n"
   ]
  },
  {
   "cell_type": "code",
   "execution_count": 39,
   "metadata": {},
   "outputs": [
    {
     "data": {
      "text/plain": [
       "(6299, 4)"
      ]
     },
     "execution_count": 39,
     "metadata": {},
     "output_type": "execute_result"
    }
   ],
   "source": [
    "df.shape"
   ]
  },
  {
   "cell_type": "code",
   "execution_count": 40,
   "metadata": {},
   "outputs": [
    {
     "data": {
      "text/plain": [
       "(6299, 7000)"
      ]
     },
     "execution_count": 40,
     "metadata": {},
     "output_type": "execute_result"
    }
   ],
   "source": [
    "X = df['clean_text']\n",
    "\n",
    "vectorizer = TfidfVectorizer(\n",
    "    max_features=7000,\n",
    "    ngram_range=(1,2),\n",
    "    analyzer='word',\n",
    "    token_pattern=r\"(?u)\\b\\w+\\b\"\n",
    ")\n",
    "\n",
    "X_vectorized = vectorizer.fit_transform(X)\n",
    "X_vectorized = X_vectorized.toarray()\n",
    "X_vectorized.shape"
   ]
  },
  {
   "cell_type": "code",
   "execution_count": 41,
   "metadata": {},
   "outputs": [
    {
     "data": {
      "text/plain": [
       "(6299, 7000)"
      ]
     },
     "execution_count": 41,
     "metadata": {},
     "output_type": "execute_result"
    }
   ],
   "source": [
    "X_vectorized.shape"
   ]
  },
  {
   "cell_type": "code",
   "execution_count": 42,
   "metadata": {},
   "outputs": [
    {
     "data": {
      "text/plain": [
       "numpy.ndarray"
      ]
     },
     "execution_count": 42,
     "metadata": {},
     "output_type": "execute_result"
    }
   ],
   "source": [
    "import numpy as np\n",
    "\n",
    "data = np.load(\"muril_large_embeddings_before_aug.npy\")  # Replace \"file.npy\" with your actual file name\n",
    "type(data)"
   ]
  },
  {
   "cell_type": "code",
   "execution_count": 43,
   "metadata": {},
   "outputs": [
    {
     "data": {
      "text/plain": [
       "(6299, 7000)"
      ]
     },
     "execution_count": 43,
     "metadata": {},
     "output_type": "execute_result"
    }
   ],
   "source": [
    "X_vectorized.shape"
   ]
  },
  {
   "cell_type": "code",
   "execution_count": 44,
   "metadata": {},
   "outputs": [
    {
     "data": {
      "text/plain": [
       "(6299, 8024)"
      ]
     },
     "execution_count": 44,
     "metadata": {},
     "output_type": "execute_result"
    }
   ],
   "source": [
    "X_final = np.zeros((X_vectorized.shape[0], X_vectorized.shape[1] + data.shape[1]))\n",
    "X_final[:, :X_vectorized.shape[1]] = X_vectorized\n",
    "X_final[:, X_vectorized.shape[1]:] = data\n",
    "X_final.shape"
   ]
  },
  {
   "cell_type": "code",
   "execution_count": 45,
   "metadata": {},
   "outputs": [
    {
     "data": {
      "text/plain": [
       "(6299, 4)"
      ]
     },
     "execution_count": 45,
     "metadata": {},
     "output_type": "execute_result"
    }
   ],
   "source": [
    "df.shape"
   ]
  },
  {
   "cell_type": "code",
   "execution_count": 48,
   "metadata": {},
   "outputs": [
    {
     "data": {
      "text/plain": [
       "0       0\n",
       "1       0\n",
       "2       1\n",
       "3       1\n",
       "4       1\n",
       "       ..\n",
       "6294    0\n",
       "6295    0\n",
       "6296    0\n",
       "6297    1\n",
       "6298    0\n",
       "Name: label, Length: 6299, dtype: int64"
      ]
     },
     "execution_count": 48,
     "metadata": {},
     "output_type": "execute_result"
    }
   ],
   "source": [
    "y = df['label']\n",
    "y"
   ]
  },
  {
   "cell_type": "code",
   "execution_count": 49,
   "metadata": {
    "execution": {
     "iopub.execute_input": "2025-03-25T03:11:16.509075Z",
     "iopub.status.busy": "2025-03-25T03:11:16.508792Z",
     "iopub.status.idle": "2025-03-25T03:11:16.517002Z",
     "shell.execute_reply": "2025-03-25T03:11:16.516030Z",
     "shell.execute_reply.started": "2025-03-25T03:11:16.509054Z"
    },
    "trusted": true
   },
   "outputs": [
    {
     "name": "stderr",
     "output_type": "stream",
     "text": [
      "/Library/Frameworks/Python.framework/Versions/3.12/lib/python3.12/site-packages/xgboost/core.py:158: UserWarning: [20:13:32] WARNING: /Users/runner/work/xgboost/xgboost/src/learner.cc:740: \n",
      "Parameters: { \"use_label_encoder\" } are not used.\n",
      "\n",
      "  warnings.warn(smsg, UserWarning)\n"
     ]
    },
    {
     "name": "stdout",
     "output_type": "stream",
     "text": [
      "[LightGBM] [Info] Number of positive: 2399, number of negative: 3900\n",
      "[LightGBM] [Info] Auto-choosing col-wise multi-threading, the overhead of testing was 0.195864 seconds.\n",
      "You can set `force_col_wise=true` to remove the overhead.\n",
      "[LightGBM] [Info] Total Bins 309642\n",
      "[LightGBM] [Info] Number of data points in the train set: 6299, number of used features: 2504\n",
      "[LightGBM] [Info] [binary:BoostFromScore]: pavg=0.500000 -> initscore=0.000000\n",
      "[LightGBM] [Info] Start training from score 0.000000\n"
     ]
    },
    {
     "data": {
      "text/html": [
       "<style>#sk-container-id-2 {\n",
       "  /* Definition of color scheme common for light and dark mode */\n",
       "  --sklearn-color-text: black;\n",
       "  --sklearn-color-line: gray;\n",
       "  /* Definition of color scheme for unfitted estimators */\n",
       "  --sklearn-color-unfitted-level-0: #fff5e6;\n",
       "  --sklearn-color-unfitted-level-1: #f6e4d2;\n",
       "  --sklearn-color-unfitted-level-2: #ffe0b3;\n",
       "  --sklearn-color-unfitted-level-3: chocolate;\n",
       "  /* Definition of color scheme for fitted estimators */\n",
       "  --sklearn-color-fitted-level-0: #f0f8ff;\n",
       "  --sklearn-color-fitted-level-1: #d4ebff;\n",
       "  --sklearn-color-fitted-level-2: #b3dbfd;\n",
       "  --sklearn-color-fitted-level-3: cornflowerblue;\n",
       "\n",
       "  /* Specific color for light theme */\n",
       "  --sklearn-color-text-on-default-background: var(--sg-text-color, var(--theme-code-foreground, var(--jp-content-font-color1, black)));\n",
       "  --sklearn-color-background: var(--sg-background-color, var(--theme-background, var(--jp-layout-color0, white)));\n",
       "  --sklearn-color-border-box: var(--sg-text-color, var(--theme-code-foreground, var(--jp-content-font-color1, black)));\n",
       "  --sklearn-color-icon: #696969;\n",
       "\n",
       "  @media (prefers-color-scheme: dark) {\n",
       "    /* Redefinition of color scheme for dark theme */\n",
       "    --sklearn-color-text-on-default-background: var(--sg-text-color, var(--theme-code-foreground, var(--jp-content-font-color1, white)));\n",
       "    --sklearn-color-background: var(--sg-background-color, var(--theme-background, var(--jp-layout-color0, #111)));\n",
       "    --sklearn-color-border-box: var(--sg-text-color, var(--theme-code-foreground, var(--jp-content-font-color1, white)));\n",
       "    --sklearn-color-icon: #878787;\n",
       "  }\n",
       "}\n",
       "\n",
       "#sk-container-id-2 {\n",
       "  color: var(--sklearn-color-text);\n",
       "}\n",
       "\n",
       "#sk-container-id-2 pre {\n",
       "  padding: 0;\n",
       "}\n",
       "\n",
       "#sk-container-id-2 input.sk-hidden--visually {\n",
       "  border: 0;\n",
       "  clip: rect(1px 1px 1px 1px);\n",
       "  clip: rect(1px, 1px, 1px, 1px);\n",
       "  height: 1px;\n",
       "  margin: -1px;\n",
       "  overflow: hidden;\n",
       "  padding: 0;\n",
       "  position: absolute;\n",
       "  width: 1px;\n",
       "}\n",
       "\n",
       "#sk-container-id-2 div.sk-dashed-wrapped {\n",
       "  border: 1px dashed var(--sklearn-color-line);\n",
       "  margin: 0 0.4em 0.5em 0.4em;\n",
       "  box-sizing: border-box;\n",
       "  padding-bottom: 0.4em;\n",
       "  background-color: var(--sklearn-color-background);\n",
       "}\n",
       "\n",
       "#sk-container-id-2 div.sk-container {\n",
       "  /* jupyter's `normalize.less` sets `[hidden] { display: none; }`\n",
       "     but bootstrap.min.css set `[hidden] { display: none !important; }`\n",
       "     so we also need the `!important` here to be able to override the\n",
       "     default hidden behavior on the sphinx rendered scikit-learn.org.\n",
       "     See: https://github.com/scikit-learn/scikit-learn/issues/21755 */\n",
       "  display: inline-block !important;\n",
       "  position: relative;\n",
       "}\n",
       "\n",
       "#sk-container-id-2 div.sk-text-repr-fallback {\n",
       "  display: none;\n",
       "}\n",
       "\n",
       "div.sk-parallel-item,\n",
       "div.sk-serial,\n",
       "div.sk-item {\n",
       "  /* draw centered vertical line to link estimators */\n",
       "  background-image: linear-gradient(var(--sklearn-color-text-on-default-background), var(--sklearn-color-text-on-default-background));\n",
       "  background-size: 2px 100%;\n",
       "  background-repeat: no-repeat;\n",
       "  background-position: center center;\n",
       "}\n",
       "\n",
       "/* Parallel-specific style estimator block */\n",
       "\n",
       "#sk-container-id-2 div.sk-parallel-item::after {\n",
       "  content: \"\";\n",
       "  width: 100%;\n",
       "  border-bottom: 2px solid var(--sklearn-color-text-on-default-background);\n",
       "  flex-grow: 1;\n",
       "}\n",
       "\n",
       "#sk-container-id-2 div.sk-parallel {\n",
       "  display: flex;\n",
       "  align-items: stretch;\n",
       "  justify-content: center;\n",
       "  background-color: var(--sklearn-color-background);\n",
       "  position: relative;\n",
       "}\n",
       "\n",
       "#sk-container-id-2 div.sk-parallel-item {\n",
       "  display: flex;\n",
       "  flex-direction: column;\n",
       "}\n",
       "\n",
       "#sk-container-id-2 div.sk-parallel-item:first-child::after {\n",
       "  align-self: flex-end;\n",
       "  width: 50%;\n",
       "}\n",
       "\n",
       "#sk-container-id-2 div.sk-parallel-item:last-child::after {\n",
       "  align-self: flex-start;\n",
       "  width: 50%;\n",
       "}\n",
       "\n",
       "#sk-container-id-2 div.sk-parallel-item:only-child::after {\n",
       "  width: 0;\n",
       "}\n",
       "\n",
       "/* Serial-specific style estimator block */\n",
       "\n",
       "#sk-container-id-2 div.sk-serial {\n",
       "  display: flex;\n",
       "  flex-direction: column;\n",
       "  align-items: center;\n",
       "  background-color: var(--sklearn-color-background);\n",
       "  padding-right: 1em;\n",
       "  padding-left: 1em;\n",
       "}\n",
       "\n",
       "\n",
       "/* Toggleable style: style used for estimator/Pipeline/ColumnTransformer box that is\n",
       "clickable and can be expanded/collapsed.\n",
       "- Pipeline and ColumnTransformer use this feature and define the default style\n",
       "- Estimators will overwrite some part of the style using the `sk-estimator` class\n",
       "*/\n",
       "\n",
       "/* Pipeline and ColumnTransformer style (default) */\n",
       "\n",
       "#sk-container-id-2 div.sk-toggleable {\n",
       "  /* Default theme specific background. It is overwritten whether we have a\n",
       "  specific estimator or a Pipeline/ColumnTransformer */\n",
       "  background-color: var(--sklearn-color-background);\n",
       "}\n",
       "\n",
       "/* Toggleable label */\n",
       "#sk-container-id-2 label.sk-toggleable__label {\n",
       "  cursor: pointer;\n",
       "  display: block;\n",
       "  width: 100%;\n",
       "  margin-bottom: 0;\n",
       "  padding: 0.5em;\n",
       "  box-sizing: border-box;\n",
       "  text-align: center;\n",
       "}\n",
       "\n",
       "#sk-container-id-2 label.sk-toggleable__label-arrow:before {\n",
       "  /* Arrow on the left of the label */\n",
       "  content: \"▸\";\n",
       "  float: left;\n",
       "  margin-right: 0.25em;\n",
       "  color: var(--sklearn-color-icon);\n",
       "}\n",
       "\n",
       "#sk-container-id-2 label.sk-toggleable__label-arrow:hover:before {\n",
       "  color: var(--sklearn-color-text);\n",
       "}\n",
       "\n",
       "/* Toggleable content - dropdown */\n",
       "\n",
       "#sk-container-id-2 div.sk-toggleable__content {\n",
       "  max-height: 0;\n",
       "  max-width: 0;\n",
       "  overflow: hidden;\n",
       "  text-align: left;\n",
       "  /* unfitted */\n",
       "  background-color: var(--sklearn-color-unfitted-level-0);\n",
       "}\n",
       "\n",
       "#sk-container-id-2 div.sk-toggleable__content.fitted {\n",
       "  /* fitted */\n",
       "  background-color: var(--sklearn-color-fitted-level-0);\n",
       "}\n",
       "\n",
       "#sk-container-id-2 div.sk-toggleable__content pre {\n",
       "  margin: 0.2em;\n",
       "  border-radius: 0.25em;\n",
       "  color: var(--sklearn-color-text);\n",
       "  /* unfitted */\n",
       "  background-color: var(--sklearn-color-unfitted-level-0);\n",
       "}\n",
       "\n",
       "#sk-container-id-2 div.sk-toggleable__content.fitted pre {\n",
       "  /* unfitted */\n",
       "  background-color: var(--sklearn-color-fitted-level-0);\n",
       "}\n",
       "\n",
       "#sk-container-id-2 input.sk-toggleable__control:checked~div.sk-toggleable__content {\n",
       "  /* Expand drop-down */\n",
       "  max-height: 200px;\n",
       "  max-width: 100%;\n",
       "  overflow: auto;\n",
       "}\n",
       "\n",
       "#sk-container-id-2 input.sk-toggleable__control:checked~label.sk-toggleable__label-arrow:before {\n",
       "  content: \"▾\";\n",
       "}\n",
       "\n",
       "/* Pipeline/ColumnTransformer-specific style */\n",
       "\n",
       "#sk-container-id-2 div.sk-label input.sk-toggleable__control:checked~label.sk-toggleable__label {\n",
       "  color: var(--sklearn-color-text);\n",
       "  background-color: var(--sklearn-color-unfitted-level-2);\n",
       "}\n",
       "\n",
       "#sk-container-id-2 div.sk-label.fitted input.sk-toggleable__control:checked~label.sk-toggleable__label {\n",
       "  background-color: var(--sklearn-color-fitted-level-2);\n",
       "}\n",
       "\n",
       "/* Estimator-specific style */\n",
       "\n",
       "/* Colorize estimator box */\n",
       "#sk-container-id-2 div.sk-estimator input.sk-toggleable__control:checked~label.sk-toggleable__label {\n",
       "  /* unfitted */\n",
       "  background-color: var(--sklearn-color-unfitted-level-2);\n",
       "}\n",
       "\n",
       "#sk-container-id-2 div.sk-estimator.fitted input.sk-toggleable__control:checked~label.sk-toggleable__label {\n",
       "  /* fitted */\n",
       "  background-color: var(--sklearn-color-fitted-level-2);\n",
       "}\n",
       "\n",
       "#sk-container-id-2 div.sk-label label.sk-toggleable__label,\n",
       "#sk-container-id-2 div.sk-label label {\n",
       "  /* The background is the default theme color */\n",
       "  color: var(--sklearn-color-text-on-default-background);\n",
       "}\n",
       "\n",
       "/* On hover, darken the color of the background */\n",
       "#sk-container-id-2 div.sk-label:hover label.sk-toggleable__label {\n",
       "  color: var(--sklearn-color-text);\n",
       "  background-color: var(--sklearn-color-unfitted-level-2);\n",
       "}\n",
       "\n",
       "/* Label box, darken color on hover, fitted */\n",
       "#sk-container-id-2 div.sk-label.fitted:hover label.sk-toggleable__label.fitted {\n",
       "  color: var(--sklearn-color-text);\n",
       "  background-color: var(--sklearn-color-fitted-level-2);\n",
       "}\n",
       "\n",
       "/* Estimator label */\n",
       "\n",
       "#sk-container-id-2 div.sk-label label {\n",
       "  font-family: monospace;\n",
       "  font-weight: bold;\n",
       "  display: inline-block;\n",
       "  line-height: 1.2em;\n",
       "}\n",
       "\n",
       "#sk-container-id-2 div.sk-label-container {\n",
       "  text-align: center;\n",
       "}\n",
       "\n",
       "/* Estimator-specific */\n",
       "#sk-container-id-2 div.sk-estimator {\n",
       "  font-family: monospace;\n",
       "  border: 1px dotted var(--sklearn-color-border-box);\n",
       "  border-radius: 0.25em;\n",
       "  box-sizing: border-box;\n",
       "  margin-bottom: 0.5em;\n",
       "  /* unfitted */\n",
       "  background-color: var(--sklearn-color-unfitted-level-0);\n",
       "}\n",
       "\n",
       "#sk-container-id-2 div.sk-estimator.fitted {\n",
       "  /* fitted */\n",
       "  background-color: var(--sklearn-color-fitted-level-0);\n",
       "}\n",
       "\n",
       "/* on hover */\n",
       "#sk-container-id-2 div.sk-estimator:hover {\n",
       "  /* unfitted */\n",
       "  background-color: var(--sklearn-color-unfitted-level-2);\n",
       "}\n",
       "\n",
       "#sk-container-id-2 div.sk-estimator.fitted:hover {\n",
       "  /* fitted */\n",
       "  background-color: var(--sklearn-color-fitted-level-2);\n",
       "}\n",
       "\n",
       "/* Specification for estimator info (e.g. \"i\" and \"?\") */\n",
       "\n",
       "/* Common style for \"i\" and \"?\" */\n",
       "\n",
       ".sk-estimator-doc-link,\n",
       "a:link.sk-estimator-doc-link,\n",
       "a:visited.sk-estimator-doc-link {\n",
       "  float: right;\n",
       "  font-size: smaller;\n",
       "  line-height: 1em;\n",
       "  font-family: monospace;\n",
       "  background-color: var(--sklearn-color-background);\n",
       "  border-radius: 1em;\n",
       "  height: 1em;\n",
       "  width: 1em;\n",
       "  text-decoration: none !important;\n",
       "  margin-left: 1ex;\n",
       "  /* unfitted */\n",
       "  border: var(--sklearn-color-unfitted-level-1) 1pt solid;\n",
       "  color: var(--sklearn-color-unfitted-level-1);\n",
       "}\n",
       "\n",
       ".sk-estimator-doc-link.fitted,\n",
       "a:link.sk-estimator-doc-link.fitted,\n",
       "a:visited.sk-estimator-doc-link.fitted {\n",
       "  /* fitted */\n",
       "  border: var(--sklearn-color-fitted-level-1) 1pt solid;\n",
       "  color: var(--sklearn-color-fitted-level-1);\n",
       "}\n",
       "\n",
       "/* On hover */\n",
       "div.sk-estimator:hover .sk-estimator-doc-link:hover,\n",
       ".sk-estimator-doc-link:hover,\n",
       "div.sk-label-container:hover .sk-estimator-doc-link:hover,\n",
       ".sk-estimator-doc-link:hover {\n",
       "  /* unfitted */\n",
       "  background-color: var(--sklearn-color-unfitted-level-3);\n",
       "  color: var(--sklearn-color-background);\n",
       "  text-decoration: none;\n",
       "}\n",
       "\n",
       "div.sk-estimator.fitted:hover .sk-estimator-doc-link.fitted:hover,\n",
       ".sk-estimator-doc-link.fitted:hover,\n",
       "div.sk-label-container:hover .sk-estimator-doc-link.fitted:hover,\n",
       ".sk-estimator-doc-link.fitted:hover {\n",
       "  /* fitted */\n",
       "  background-color: var(--sklearn-color-fitted-level-3);\n",
       "  color: var(--sklearn-color-background);\n",
       "  text-decoration: none;\n",
       "}\n",
       "\n",
       "/* Span, style for the box shown on hovering the info icon */\n",
       ".sk-estimator-doc-link span {\n",
       "  display: none;\n",
       "  z-index: 9999;\n",
       "  position: relative;\n",
       "  font-weight: normal;\n",
       "  right: .2ex;\n",
       "  padding: .5ex;\n",
       "  margin: .5ex;\n",
       "  width: min-content;\n",
       "  min-width: 20ex;\n",
       "  max-width: 50ex;\n",
       "  color: var(--sklearn-color-text);\n",
       "  box-shadow: 2pt 2pt 4pt #999;\n",
       "  /* unfitted */\n",
       "  background: var(--sklearn-color-unfitted-level-0);\n",
       "  border: .5pt solid var(--sklearn-color-unfitted-level-3);\n",
       "}\n",
       "\n",
       ".sk-estimator-doc-link.fitted span {\n",
       "  /* fitted */\n",
       "  background: var(--sklearn-color-fitted-level-0);\n",
       "  border: var(--sklearn-color-fitted-level-3);\n",
       "}\n",
       "\n",
       ".sk-estimator-doc-link:hover span {\n",
       "  display: block;\n",
       "}\n",
       "\n",
       "/* \"?\"-specific style due to the `<a>` HTML tag */\n",
       "\n",
       "#sk-container-id-2 a.estimator_doc_link {\n",
       "  float: right;\n",
       "  font-size: 1rem;\n",
       "  line-height: 1em;\n",
       "  font-family: monospace;\n",
       "  background-color: var(--sklearn-color-background);\n",
       "  border-radius: 1rem;\n",
       "  height: 1rem;\n",
       "  width: 1rem;\n",
       "  text-decoration: none;\n",
       "  /* unfitted */\n",
       "  color: var(--sklearn-color-unfitted-level-1);\n",
       "  border: var(--sklearn-color-unfitted-level-1) 1pt solid;\n",
       "}\n",
       "\n",
       "#sk-container-id-2 a.estimator_doc_link.fitted {\n",
       "  /* fitted */\n",
       "  border: var(--sklearn-color-fitted-level-1) 1pt solid;\n",
       "  color: var(--sklearn-color-fitted-level-1);\n",
       "}\n",
       "\n",
       "/* On hover */\n",
       "#sk-container-id-2 a.estimator_doc_link:hover {\n",
       "  /* unfitted */\n",
       "  background-color: var(--sklearn-color-unfitted-level-3);\n",
       "  color: var(--sklearn-color-background);\n",
       "  text-decoration: none;\n",
       "}\n",
       "\n",
       "#sk-container-id-2 a.estimator_doc_link.fitted:hover {\n",
       "  /* fitted */\n",
       "  background-color: var(--sklearn-color-fitted-level-3);\n",
       "}\n",
       "</style><div id=\"sk-container-id-2\" class=\"sk-top-container\"><div class=\"sk-text-repr-fallback\"><pre>VotingClassifier(estimators=[(&#x27;rf&#x27;,\n",
       "                              RandomForestClassifier(class_weight=&#x27;balanced&#x27;)),\n",
       "                             (&#x27;xgb&#x27;,\n",
       "                              XGBClassifier(base_score=None, booster=None,\n",
       "                                            callbacks=None,\n",
       "                                            colsample_bylevel=None,\n",
       "                                            colsample_bynode=None,\n",
       "                                            colsample_bytree=None, device=None,\n",
       "                                            early_stopping_rounds=None,\n",
       "                                            enable_categorical=False,\n",
       "                                            eval_metric=&#x27;logloss&#x27;,\n",
       "                                            feature_types=None, gamma=None,\n",
       "                                            grow_policy=None,\n",
       "                                            i...\n",
       "                                            interaction_constraints=None,\n",
       "                                            learning_rate=None, max_bin=None,\n",
       "                                            max_cat_threshold=None,\n",
       "                                            max_cat_to_onehot=None,\n",
       "                                            max_delta_step=None, max_depth=None,\n",
       "                                            max_leaves=None,\n",
       "                                            min_child_weight=None, missing=nan,\n",
       "                                            monotone_constraints=None,\n",
       "                                            multi_strategy=None,\n",
       "                                            n_estimators=None, n_jobs=None,\n",
       "                                            num_parallel_tree=None,\n",
       "                                            random_state=None, ...)),\n",
       "                             (&#x27;lgb&#x27;, LGBMClassifier(class_weight=&#x27;balanced&#x27;))],\n",
       "                 voting=&#x27;soft&#x27;)</pre><b>In a Jupyter environment, please rerun this cell to show the HTML representation or trust the notebook. <br />On GitHub, the HTML representation is unable to render, please try loading this page with nbviewer.org.</b></div><div class=\"sk-container\" hidden><div class=\"sk-item sk-dashed-wrapped\"><div class=\"sk-label-container\"><div class=\"sk-label fitted sk-toggleable\"><input class=\"sk-toggleable__control sk-hidden--visually\" id=\"sk-estimator-id-5\" type=\"checkbox\" ><label for=\"sk-estimator-id-5\" class=\"sk-toggleable__label fitted sk-toggleable__label-arrow fitted\">&nbsp;&nbsp;VotingClassifier<a class=\"sk-estimator-doc-link fitted\" rel=\"noreferrer\" target=\"_blank\" href=\"https://scikit-learn.org/1.5/modules/generated/sklearn.ensemble.VotingClassifier.html\">?<span>Documentation for VotingClassifier</span></a><span class=\"sk-estimator-doc-link fitted\">i<span>Fitted</span></span></label><div class=\"sk-toggleable__content fitted\"><pre>VotingClassifier(estimators=[(&#x27;rf&#x27;,\n",
       "                              RandomForestClassifier(class_weight=&#x27;balanced&#x27;)),\n",
       "                             (&#x27;xgb&#x27;,\n",
       "                              XGBClassifier(base_score=None, booster=None,\n",
       "                                            callbacks=None,\n",
       "                                            colsample_bylevel=None,\n",
       "                                            colsample_bynode=None,\n",
       "                                            colsample_bytree=None, device=None,\n",
       "                                            early_stopping_rounds=None,\n",
       "                                            enable_categorical=False,\n",
       "                                            eval_metric=&#x27;logloss&#x27;,\n",
       "                                            feature_types=None, gamma=None,\n",
       "                                            grow_policy=None,\n",
       "                                            i...\n",
       "                                            interaction_constraints=None,\n",
       "                                            learning_rate=None, max_bin=None,\n",
       "                                            max_cat_threshold=None,\n",
       "                                            max_cat_to_onehot=None,\n",
       "                                            max_delta_step=None, max_depth=None,\n",
       "                                            max_leaves=None,\n",
       "                                            min_child_weight=None, missing=nan,\n",
       "                                            monotone_constraints=None,\n",
       "                                            multi_strategy=None,\n",
       "                                            n_estimators=None, n_jobs=None,\n",
       "                                            num_parallel_tree=None,\n",
       "                                            random_state=None, ...)),\n",
       "                             (&#x27;lgb&#x27;, LGBMClassifier(class_weight=&#x27;balanced&#x27;))],\n",
       "                 voting=&#x27;soft&#x27;)</pre></div> </div></div><div class=\"sk-parallel\"><div class=\"sk-parallel-item\"><div class=\"sk-item\"><div class=\"sk-label-container\"><div class=\"sk-label fitted sk-toggleable\"><label>rf</label></div></div><div class=\"sk-serial\"><div class=\"sk-item\"><div class=\"sk-estimator fitted sk-toggleable\"><input class=\"sk-toggleable__control sk-hidden--visually\" id=\"sk-estimator-id-6\" type=\"checkbox\" ><label for=\"sk-estimator-id-6\" class=\"sk-toggleable__label fitted sk-toggleable__label-arrow fitted\">&nbsp;RandomForestClassifier<a class=\"sk-estimator-doc-link fitted\" rel=\"noreferrer\" target=\"_blank\" href=\"https://scikit-learn.org/1.5/modules/generated/sklearn.ensemble.RandomForestClassifier.html\">?<span>Documentation for RandomForestClassifier</span></a></label><div class=\"sk-toggleable__content fitted\"><pre>RandomForestClassifier(class_weight=&#x27;balanced&#x27;)</pre></div> </div></div></div></div></div><div class=\"sk-parallel-item\"><div class=\"sk-item\"><div class=\"sk-label-container\"><div class=\"sk-label fitted sk-toggleable\"><label>xgb</label></div></div><div class=\"sk-serial\"><div class=\"sk-item\"><div class=\"sk-estimator fitted sk-toggleable\"><input class=\"sk-toggleable__control sk-hidden--visually\" id=\"sk-estimator-id-7\" type=\"checkbox\" ><label for=\"sk-estimator-id-7\" class=\"sk-toggleable__label fitted sk-toggleable__label-arrow fitted\">XGBClassifier</label><div class=\"sk-toggleable__content fitted\"><pre>XGBClassifier(base_score=None, booster=None, callbacks=None,\n",
       "              colsample_bylevel=None, colsample_bynode=None,\n",
       "              colsample_bytree=None, device=None, early_stopping_rounds=None,\n",
       "              enable_categorical=False, eval_metric=&#x27;logloss&#x27;,\n",
       "              feature_types=None, gamma=None, grow_policy=None,\n",
       "              importance_type=None, interaction_constraints=None,\n",
       "              learning_rate=None, max_bin=None, max_cat_threshold=None,\n",
       "              max_cat_to_onehot=None, max_delta_step=None, max_depth=None,\n",
       "              max_leaves=None, min_child_weight=None, missing=nan,\n",
       "              monotone_constraints=None, multi_strategy=None, n_estimators=None,\n",
       "              n_jobs=None, num_parallel_tree=None, random_state=None, ...)</pre></div> </div></div></div></div></div><div class=\"sk-parallel-item\"><div class=\"sk-item\"><div class=\"sk-label-container\"><div class=\"sk-label fitted sk-toggleable\"><label>lgb</label></div></div><div class=\"sk-serial\"><div class=\"sk-item\"><div class=\"sk-estimator fitted sk-toggleable\"><input class=\"sk-toggleable__control sk-hidden--visually\" id=\"sk-estimator-id-8\" type=\"checkbox\" ><label for=\"sk-estimator-id-8\" class=\"sk-toggleable__label fitted sk-toggleable__label-arrow fitted\">LGBMClassifier</label><div class=\"sk-toggleable__content fitted\"><pre>LGBMClassifier(class_weight=&#x27;balanced&#x27;)</pre></div> </div></div></div></div></div></div></div></div></div>"
      ],
      "text/plain": [
       "VotingClassifier(estimators=[('rf',\n",
       "                              RandomForestClassifier(class_weight='balanced')),\n",
       "                             ('xgb',\n",
       "                              XGBClassifier(base_score=None, booster=None,\n",
       "                                            callbacks=None,\n",
       "                                            colsample_bylevel=None,\n",
       "                                            colsample_bynode=None,\n",
       "                                            colsample_bytree=None, device=None,\n",
       "                                            early_stopping_rounds=None,\n",
       "                                            enable_categorical=False,\n",
       "                                            eval_metric='logloss',\n",
       "                                            feature_types=None, gamma=None,\n",
       "                                            grow_policy=None,\n",
       "                                            i...\n",
       "                                            interaction_constraints=None,\n",
       "                                            learning_rate=None, max_bin=None,\n",
       "                                            max_cat_threshold=None,\n",
       "                                            max_cat_to_onehot=None,\n",
       "                                            max_delta_step=None, max_depth=None,\n",
       "                                            max_leaves=None,\n",
       "                                            min_child_weight=None, missing=nan,\n",
       "                                            monotone_constraints=None,\n",
       "                                            multi_strategy=None,\n",
       "                                            n_estimators=None, n_jobs=None,\n",
       "                                            num_parallel_tree=None,\n",
       "                                            random_state=None, ...)),\n",
       "                             ('lgb', LGBMClassifier(class_weight='balanced'))],\n",
       "                 voting='soft')"
      ]
     },
     "execution_count": 49,
     "metadata": {},
     "output_type": "execute_result"
    }
   ],
   "source": [
    "model = VotingClassifier(estimators=[\n",
    "    ('rf', RandomForestClassifier(class_weight='balanced')),\n",
    "    ('xgb', XGBClassifier(use_label_encoder=False, eval_metric='logloss', scale_pos_weight=2.0)),\n",
    "    ('lgb', LGBMClassifier(class_weight='balanced'))\n",
    "], voting='soft')\n",
    "\n",
    "model.fit(X_final, y)"
   ]
  },
  {
   "cell_type": "code",
   "execution_count": 50,
   "metadata": {},
   "outputs": [
    {
     "data": {
      "application/vnd.microsoft.datawrangler.viewer.v0+json": {
       "columns": [
        {
         "name": "index",
         "rawType": "int64",
         "type": "integer"
        },
        {
         "name": "id",
         "rawType": "int64",
         "type": "integer"
        },
        {
         "name": "text",
         "rawType": "object",
         "type": "string"
        }
       ],
       "conversionMethod": "pd.DataFrame",
       "ref": "cc952b4d-30b1-4dcc-926e-4cd80b298470",
       "rows": [
        [
         "0",
         "4594",
         "Humanity paatha intha slag countries prblm varathu"
        ],
        [
         "1",
         "3593",
         "Avanga Holi kondada oruku poranga da"
        ],
        [
         "2",
         "2533",
         "Avangala avanga ooruke anupura vazhiya parunga."
        ],
        [
         "3",
         "6975",
         "பைத்தியமாடா நீ.. நான் சோழிய வேளாளர். நான் என் அப்பா தாத்தா வரை எல்லாம் OC  சாதி பிரிவில் இருந்தோம். .படிங்க டா. பிள்ளை பட்டம் போட்டவங்க துளுவ வேளாளர் எல்லாம் அகமுடையார் னு போட்டுகிட்டு  கள்ளர் மறவர் னு ஒன்று சேர்நதுகிட்டு சாதி பத்தி பேச வர்றீங்க. எந்த சாதி டா நீங்க"
        ],
        [
         "4",
         "6011",
         "Caste is there  parayan think to marry higherup caste that ok their intention but no one acept it how their (sc),intentions supported by thiruttu karunanithi telugan mairu support for.first parayas must marry ponmudi daughter.daughter.son daughter or his relation moreover ponmudi must eat beef then he must give hiscadte lady to parayas to marry then this ponmudi paradesi tell or suppor sc ok"
        ],
        [
         "5",
         "1903",
         "அந்தவடநாட்டுவந்தேறியைவிரட்டிஅடியுங்கள்"
        ],
        [
         "6",
         "4619",
         "Bro vazhurathuku vazhi illamal sontha pathankalellam vittu pirinchu kashtapadutanunka. Nammalum apdi tha"
        ],
        [
         "7",
         "7853",
         "Unga Sanskrit poi kuppaila podungada. Unga ohm um theva illa, adhibagavanum theva illa. Tamil only in tamilnadu."
        ],
        [
         "8",
         "4902",
         " @prasanna8990  do some study about state wise population and population ratio of individual states.tamil origins,north hindi community then talk."
        ],
        [
         "9",
         "1554",
         "Nayeeeeee yarutada arasiyallll neee pesureeee vantheri poruki nayeeeee.....nirrthiikooooo thollachu poduvommmmm nayeeeee...ntk from indian army para commondo force"
        ],
        [
         "10",
         "1514",
         "தமிழ்நாட்டை விட்டு வெளியேற்ற வேண்டும்"
        ],
        [
         "11",
         "1080",
         " @kingkholi5889  exactly. We dumeels are the reason we're not developing."
        ],
        [
         "12",
         "3637",
         "Avan avan kudumbatha kapatha velaiku varangha avangaluku uria protection thara vendum avargalai nalla murayil natatha vendum"
        ],
        [
         "13",
         "3742",
         "Tamil nadala velai venumna unga wife uh engaluku venum 😂"
        ],
        [
         "14",
         "3130",
         "Unless you study & understand basic BEHVIORAL ECONOMICS, you cannot understand the issue.\nComparing with overseas job & migration shows you lack understanding of Law, Logic & Life-Science (Culture).\nTry to spend some time in studying Behavioural Economics & Sociology."
        ],
        [
         "15",
         "2587",
         "Modhala indha video ae report Pananum.... Hindi theriyaama Ena maithuku Mike aa thookitu poona apram epdi nee solradhu avangaluku puriyum?  Mamaglitz"
        ],
        [
         "16",
         "1987",
         "polaikavantha marvadikku yavvalavu thimuru. Nam thamilar aachithan enimea."
        ],
        [
         "17",
         "6117",
         "Entha sathikku salugai illa???\nSol parppom????"
        ],
        [
         "18",
         "1425",
         "தமிழ் நாட்டில் உள்ள வேற்று இனத்தார்கள், அரசியலில் இறங்கி, தமிழர்களை ஆள நினைப்பதை தவிறுங்கள். வட இந்தியன் இங்கு ஓட்டு போடக்கூடாது. அவனது மாநில தொகுதிக்கு சென்று தான் ஓட்டு போடனும். இங்கு ஓட்டு உரிமை கிடையாது. அப்படி ஓட்டு உரிமை கொடுத்தால், அவனது BJP, காங்கிரஸ் போன்ற கட்சிகளுக்கு தான் ஓட்டு போடுவான் , தமிழர் மண்ணை யார் ஆளனும் என்பதை வட இந்தியன் தீர்மானிக்கும் சூழல் ஏற்படும். அந்த சூழலை இப்ப மோடி செய்து வருகிறான்."
        ],
        [
         "19",
         "7443",
         "nalla neriyalar.... apa entha koil la sanda varum nu kekariye... nadula okatha koluthi podanum nu avasiyam ila 😀"
        ],
        [
         "20",
         "7398",
         "Idiots, fools and Fanatics. God belongs to which sect? Belongs to which religion? Man created everything. Can you out His own feet (namam) on His forehead? Fools to the core. They are the enemies of Hinduism."
        ],
        [
         "21",
         "306",
         "தமிழ் நாட்டு நிலைமை ரொம்ப மோசமாக போய்க்கிட்டு ஆனா அது யாருக்கும் தெரியல இன்னும் கொஞ்ச நாள் போனா பிச்சை எடுக்கிற நிலைமை வரப்போது தமிழ்நாட்டு மக்களுக்கு"
        ],
        [
         "22",
         "4732",
         "Im also Tamilan living in mysore. Nangu kannada baruthe. I learnt kannada. Don't show ur stuppid attitude here. Banglore people should talk in kannada , but they speak only hindi with all the people. Then this will happen"
        ],
        [
         "23",
         "4494",
         "India is for everyone so stop hate against innocent people, instead show your anger towards politicians."
        ],
        [
         "24",
         "6128",
         "திமுக மீது பழி போட அந்த விஷகிறுமிகள் செய்யும் வேலை.கலைஞர்வீட்ல மருமகள் யார் தெரியுமா?"
        ],
        [
         "25",
         "1289",
         "அளவுக்கு அதிக மாக வடக்கன்கள் தமிழ் நாட்டுக்கு வருவதை தடுக்க வேன்டும் அவர்களுக்கு ஆதார் ரேசன் கார்டு ஓட்டு ஐடி கொடுக்க கூடாது அப்படி கொடுத்து இருந்தால் ரத்து செய்யவேன்ஙாடும்\nதமிழ் எழுங்கள் வடக்கனை விரட்டி அவர்கள் ஊரு"
        ],
        [
         "26",
         "2527",
         "UP la iruka mudiyala thaanda tamilnadu variya neega eppadi da engala pathupiga"
        ],
        [
         "27",
         "7158",
         "Varatharaj perumaal Arulasiyudan ean Aringar Anna piranthar endru ippodhu purihiradhu"
        ],
        [
         "28",
         "1819",
         "இனியும் தாமதம் வேண்டாம் இப்போது தட்டிக்கேட்ட இவர்கள் எப்போதோ விழித்துக்கொண்ட தமிழ்ப்புலிகள் விழித்துக்கொள்ளாத மீதமுள்ள தமிழர்களும் இனத்தால் ஒன்றினைவோமாக வெல்க தமிழ் வாழ்க தமிழ் வளர்க தமிழ் மீண்டெழுக எங்கள் தமிழ்ச்சொந்தங்களே"
        ],
        [
         "29",
         "364",
         "4 street la oru tamil family kooda ila..apa adhu varumai vida kodumai sir... vera angle la paarunga"
        ],
        [
         "30",
         "6805",
         "சேர்வை என்று உங்களை சொல்வார்கள் என்றால் ஏன் பெயருக்கு பின்னால் போலியாக தேவர் பட்டம்,  நீங்கள் அகமுடையார் என்றால்  சாதி சான்றிதழ் காட்ட முடியுமா,    அன்றைக்கு ஒரு கட்சி இன்றைக்கு ஒரு கட்சி நாளைக்கு ஒரு கட்சி என்று ஒரு தனி நிலைபாடு இல்லாமல்  தான் செய்யும் சட்டத்திற்கு புறம்பான செயல்களால் தன் மீது போடப்பட்ட கிரிமினல் குற்ற வழக்கில் இருந்து தப்பித்துக்கொள்ள சாதியை கேடயமாய் பயன்படுத்தி இளைஞர்களை தவறாப பாதைக்கு இட்டு செல்லும் இது போன்றவர்களால் சாதிக்கு பாதுகாப்பு கிடைக்கின்றதோ இல்லையோ இவருக்கு பாதுகாப்பு கிடைக்கும் என்று அமைப்பு கட்டி கொண்டு சாதியை அசிங்கப்படுத்துகின்றார்கள்...   நம் குல சாமிகள் மாமன்னர் மருதீஸ்வரர்கள் காப்பாற்றுவார்கள் நம் சாதியை என்பது மட்டும் உண்மை..."
        ],
        [
         "31",
         "2378",
         "களமாடும் உறவுகளுக்கு எமது வாழ்த்துக்கள்"
        ],
        [
         "32",
         "6969",
         "Avar kachi El vetrikarammaga serthu vittar"
        ],
        [
         "33",
         "4545",
         "Dai unaku content vanum na ena vanum na panuvigala\nNamaku namala thaa da ethiri avan epadi da namala pathupa ethuku ni humanity video vara podara uga mala eruntha mariyathaya poidichi da"
        ],
        [
         "34",
         "5630",
         "Poitu Vera Vela pu...n...da iruntha paarunga"
        ],
        [
         "35",
         "2798",
         " @elamaranelamaran6261  ஆமா கேட்டா படிப்பறிவில் சிறந்த தமிழன்...nu உருற்றது"
        ],
        [
         "36",
         "620",
         "Puriumpothu  too late aa erukkum.kalam kadanthu enna payan."
        ],
        [
         "37",
         "1187",
         "COIMBATORE, TIRUPUR , CHENNAI, HOUSR HINDI KARANUGA THAN IRUKANUGA NARIYA PER"
        ],
        [
         "38",
         "6318",
         "Seduled Caste  இடஒதுக்கீட்டின் அடிப்படையில் தான் தாழ்த்தப்பட்டோர் அரசுப் பணிக்கு செல்கிறார்கள் என்பதை துறைவாரியாக அறிக்கை வெளியிட வேண்டும்....."
        ],
        [
         "39",
         "7695",
         "அப்படி என்றால் எல்லா கோவில்களிலும்  சம உரிமை இருக்கவேண்டும்"
        ],
        [
         "40",
         "3816",
         "தமிழ் நாட்டில் இருக்கும் தமிழனுக்கு வேலை இல்லை இவனூக வந்தால் எப்படி அவன் கள் கிளம்பட்டும் நல்லது"
        ],
        [
         "41",
         "7541",
         "கொஞ்சம் கூட வாய் கூசாம சொல்றிங்களே திருப்பதில விஷ்ணுவா இருக்கார், முருகன் கோயிலை ராமானுஜர் பாலாஜி கோயிலா மாத்திட்டார்."
        ],
        [
         "42",
         "2965",
         "Karikd avaga solratu karikd rompa nallavaga avaga illana nama illa 🙏🙏"
        ],
        [
         "43",
         "4419",
         " @jaghanathankrishnan380  முட்டாள்கள் இருக்கும் வரை உங்களுக்கு பஞ்சம் இருக்காது"
        ],
        [
         "44",
         "3272",
         "அதற்கு முதல் காரணம் தமிழ்நாட்டில் எவனும் உருப்புடியா அவன் வேலையை பார்க்கிறது கிடையாது இரண்டாவது விஷயம் வட இந்தியர்களுக்கு சம்பளம் குறைவு"
        ],
        [
         "45",
         "540",
         "We Tamil makal don't do hard work so thats the reason north Indians have come in. They work hard and be happy with the salary that we offer. We are just good for laughing at others as it is visible in this video itself."
        ],
        [
         "46",
         "426",
         "Naam thamizhar katchiku vote pota nadaka vendiyadhu thana nadakum... 😀"
        ],
        [
         "47",
         "3178",
         "வேளை இருக்கட்டும் ticket இல்லாம கூட்டமா ஓசில போறது.,நகை கொள்ளை ஏடிஎம் மெசின் கொள்ளை கற்பழித்து மீனவ பெண் எரிப்பு சொல்லிட்டே போலாம் வேளைக்கு வந்த இடத்துல இவ்வளவு ஒழுக்கமா நடந்துக்குற ஆளுக்கு இங்க நம்ம ஆளே support வேற🤬"
        ],
        [
         "48",
         "1966",
         "வேறு மாநிலத்தில் பிழைக்கப் போய் அரசியல் பேசித் தான் பாருங்களேன்..."
        ],
        [
         "49",
         "7279",
         "Shia Vs Sunni தில் இருந்தா இப்படி ஒரு நிகழ்ச்சி செய்ய டா சன்டிவி !! அந்த பயம் இருக்கனும் !!"
        ]
       ],
       "shape": {
        "columns": 2,
        "rows": 1576
       }
      },
      "text/html": [
       "<div>\n",
       "<style scoped>\n",
       "    .dataframe tbody tr th:only-of-type {\n",
       "        vertical-align: middle;\n",
       "    }\n",
       "\n",
       "    .dataframe tbody tr th {\n",
       "        vertical-align: top;\n",
       "    }\n",
       "\n",
       "    .dataframe thead th {\n",
       "        text-align: right;\n",
       "    }\n",
       "</style>\n",
       "<table border=\"1\" class=\"dataframe\">\n",
       "  <thead>\n",
       "    <tr style=\"text-align: right;\">\n",
       "      <th></th>\n",
       "      <th>id</th>\n",
       "      <th>text</th>\n",
       "    </tr>\n",
       "  </thead>\n",
       "  <tbody>\n",
       "    <tr>\n",
       "      <th>0</th>\n",
       "      <td>4594</td>\n",
       "      <td>Humanity paatha intha slag countries prblm var...</td>\n",
       "    </tr>\n",
       "    <tr>\n",
       "      <th>1</th>\n",
       "      <td>3593</td>\n",
       "      <td>Avanga Holi kondada oruku poranga da</td>\n",
       "    </tr>\n",
       "    <tr>\n",
       "      <th>2</th>\n",
       "      <td>2533</td>\n",
       "      <td>Avangala avanga ooruke anupura vazhiya parunga.</td>\n",
       "    </tr>\n",
       "    <tr>\n",
       "      <th>3</th>\n",
       "      <td>6975</td>\n",
       "      <td>பைத்தியமாடா நீ.. நான் சோழிய வேளாளர். நான் என் ...</td>\n",
       "    </tr>\n",
       "    <tr>\n",
       "      <th>4</th>\n",
       "      <td>6011</td>\n",
       "      <td>Caste is there  parayan think to marry higheru...</td>\n",
       "    </tr>\n",
       "    <tr>\n",
       "      <th>...</th>\n",
       "      <td>...</td>\n",
       "      <td>...</td>\n",
       "    </tr>\n",
       "    <tr>\n",
       "      <th>1571</th>\n",
       "      <td>6360</td>\n",
       "      <td>Ivlo varalaru pesarelada kena...aprm ethuku da...</td>\n",
       "    </tr>\n",
       "    <tr>\n",
       "      <th>1572</th>\n",
       "      <td>6208</td>\n",
       "      <td>@dineshkumar6695   தம்பி. யார் பேச்சையும் கேட...</td>\n",
       "    </tr>\n",
       "    <tr>\n",
       "      <th>1573</th>\n",
       "      <td>6871</td>\n",
       "      <td>பார்ப்பானும் பறையனும் ஒன்னு  பழமொழி உள்ளது 😁😂</td>\n",
       "    </tr>\n",
       "    <tr>\n",
       "      <th>1574</th>\n",
       "      <td>442</td>\n",
       "      <td>நம்ம இடத்தை காப்பாத்திக்கிரது பேரு ரவுடிசம்னா ...</td>\n",
       "    </tr>\n",
       "    <tr>\n",
       "      <th>1575</th>\n",
       "      <td>377</td>\n",
       "      <td>Same in kerala, youths of kerala moving to us,...</td>\n",
       "    </tr>\n",
       "  </tbody>\n",
       "</table>\n",
       "<p>1576 rows × 2 columns</p>\n",
       "</div>"
      ],
      "text/plain": [
       "        id                                               text\n",
       "0     4594  Humanity paatha intha slag countries prblm var...\n",
       "1     3593               Avanga Holi kondada oruku poranga da\n",
       "2     2533    Avangala avanga ooruke anupura vazhiya parunga.\n",
       "3     6975  பைத்தியமாடா நீ.. நான் சோழிய வேளாளர். நான் என் ...\n",
       "4     6011  Caste is there  parayan think to marry higheru...\n",
       "...    ...                                                ...\n",
       "1571  6360  Ivlo varalaru pesarelada kena...aprm ethuku da...\n",
       "1572  6208   @dineshkumar6695   தம்பி. யார் பேச்சையும் கேட...\n",
       "1573  6871      பார்ப்பானும் பறையனும் ஒன்னு  பழமொழி உள்ளது 😁😂\n",
       "1574   442  நம்ம இடத்தை காப்பாத்திக்கிரது பேரு ரவுடிசம்னா ...\n",
       "1575   377  Same in kerala, youths of kerala moving to us,...\n",
       "\n",
       "[1576 rows x 2 columns]"
      ]
     },
     "execution_count": 50,
     "metadata": {},
     "output_type": "execute_result"
    }
   ],
   "source": [
    "import pandas as pd\n",
    "\n",
    "test_df = pd.read_csv(\"original/test.csv\")\n",
    "test_df"
   ]
  },
  {
   "cell_type": "code",
   "execution_count": 51,
   "metadata": {},
   "outputs": [
    {
     "data": {
      "application/vnd.microsoft.datawrangler.viewer.v0+json": {
       "columns": [
        {
         "name": "index",
         "rawType": "int64",
         "type": "integer"
        },
        {
         "name": "id",
         "rawType": "int64",
         "type": "integer"
        },
        {
         "name": "text",
         "rawType": "object",
         "type": "string"
        },
        {
         "name": "clean_text",
         "rawType": "object",
         "type": "string"
        }
       ],
       "conversionMethod": "pd.DataFrame",
       "ref": "9359536d-183e-4b02-8c56-06bec930c4c8",
       "rows": [
        [
         "52",
         "7577",
         "யாரு ஜெயித்தது கடைசியில் சொல்லவே இல்லையே ஓய்😂😂",
         "யாரு ஜெயித்தது கடைசியில் சொல்லவே இல்லையே ஓய் face_with_tears_of_joy face_with_tears_of_joy"
        ],
        [
         "836",
         "5999",
         "Tamillarkalai adithal yarum keppathillai",
         "Tamillarkalai adithal yarum keppathillai"
        ],
        [
         "983",
         "1473",
         "Vaay udharuthaan naam thamizhargal.appa appa ithumaari oru scene nalla thaan irukku.pechhil Puli veerathil Puliyodharai",
         "Vaay udharuthaan naam thamizhargal.appa appa ithumaari oru scene nalla thaan irukku.pechhil Puli veerathil Puliyodharai"
        ],
        [
         "88",
         "5989",
         "ஒரே ஒரு நியூஸ் சேனல் இருக்கும் போது கரெக்டாக நியூஸ் உண்மையான நியூஸ் ஒரு சேனலுக்கு 10 நியூஸ் சேனல் வைத்துக்கொண்டு நீங்க பண்ற பாடு இருக்கே உங்க தொல்லை தாங்க முடியல டி வேசி ஊடகங்கள் அவன் பண்டிகைக்கு ஊருக்கு போறேன் உங்க அத விட்டுட்டு அவன் பின்னாடி ஊம்பிக்கிட்டு போறீங்க தமிழ்நாட்டுல இல்லை வேறு எந்த நாட்டிலாவது தமிழன் மீது தாக்குதல் அது சின்ன நியூஸ் போட்டு முடித்து விடுவீர்கள் ஆனா இந்த நியூஸை பெரிய நியூஸா வெக்கம் இல்லையா உங்களுக்கு",
         "நியூஸ் சேனல் கரெக்டாக நியூஸ் உண்மையான நியூஸ் சேனலுக்கு 10 நியூஸ் சேனல் வைத்துக்கொண்டு நீங்க பண்ற பாடு இருக்கே உங்க தொல்லை தாங்க முடியல டி வேசி ஊடகங்கள் பண்டிகைக்கு ஊருக்கு போறேன் உங்க அத விட்டுட்டு பின்னாடி ஊம்பிக்கிட்டு போறீங்க தமிழ்நாட்டுல இல்லை நாட்டிலாவது தமிழன் தாக்குதல் சின்ன நியூஸ் போட்டு முடித்து விடுவீர்கள் ஆனா நியூஸை பெரிய நியூஸா வெக்கம் இல்லையா உங்களுக்கு"
        ],
        [
         "559",
         "533",
         " @keralanaturelover196  Hello excuse me. Please read what that fellow has written. On the basis of that only I replied to him. He gets annoyed to see other ppl in his Tamil Nadu but his Tamil ppl going out means OK for him? Isn't it hypocrisy? Same applies to you too. Stop going Gulfs you mallus.",
         "<USER> Hello excuse me. Please read fellow written. basis replied him. gets annoyed see ppl Tamil Nadu Tamil ppl going means OK him? hypocrisy? applies too. Stop going Gulfs mallus."
        ],
        [
         "1011",
         "2671",
         "Dai India glitz...Thiruppur event paatha illa unna oru naal road vachu vadakkan polandha nallah irukkum",
         "Dai India glitz...Thiruppur event paatha illa unna oru naal road vachu vadakkan polandha nallah irukkum"
        ],
        [
         "794",
         "2118",
         "More Tamil population must start stores and businesses in Tamilnadu and Tamil population should support them",
         "Tamil population must start stores businesses Tamilnadu Tamil population support"
        ],
        [
         "1185",
         "6737",
         "They have their own identity..let them have..at end we are Tamil PPL .🙏❤️",
         "identity..let have..at end Tamil PPL . folded_hands red_heart"
        ],
        [
         "503",
         "2034",
         "நீங்கள் தும்பிகள்,,,,அவன் பேசுர தமிழ் உனக்கு தெரியாது....டேய் நீங்கள் ஆண்மகனாக இருந்தால்.,,,,,தமிழன்னு சொன்னால்.,,,,,கன்னடன்  ஈவேர நாயின் சிலையை தமிழ் நாட்டிலிருந்து அகற்றுங்கள்?????????சும்மா இருக்கிறவனை அடித்து வீடியோ போடாதீங்க,,,,,,,,,,,,பின் குறிப்பு;நான் சுத்த தமிழன்,",
         "நீங்கள் தும்பிகள்,,,,அவன் பேசுர தமிழ் உனக்கு தெரியாது....டேய் நீங்கள் ஆண்மகனாக இருந்தால்.,,,,,தமிழன்னு சொன்னால்.,,,,,கன்னடன் ஈவேர நாயின் சிலையை தமிழ் நாட்டிலிருந்து அகற்றுங்கள்?????????சும்மா இருக்கிறவனை அடித்து வீடியோ போடாதீங்க,,,,,,,,,,,,பின் குறிப்பு;நான் சுத்த தமிழன்,"
        ],
        [
         "1243",
         "5374",
         "ellaaraiyum manisana  paarunka  vadamanilanu pesathinka   ..we are indians",
         "ellaaraiyum manisana paarunka vadamanilanu pesathinka ..we indians"
        ],
        [
         "356",
         "3656",
         "தமிழ் நாட தனி நாடா அறிவிச்சு, தமிழ்நாட்டு பிரதமர் ஜப்பான் கூட ஒப்பந்தம் செஞ்சி தொழில்களை எல்லாம் இயந்திரமயமாக்கலாம், ஒர்க் பெர்மிட் குடுத்து மற்ற நாட்டு தொழிலாளர்களை வரவழைக்கலாம். வீணாக டெல்லிக்கு குடுக்கும் வரியை வைத்து தமிழ் நாட்டு ராணுவம் தமிழருக்கு பாதுகாப்பு குடுக்கலாம், தமிழை வளர்க்கலாம், புல்லட் ரயில் விடலாம் . உலகம் முழுக்கதூதரகம் அமைத்து வளர்ச்சி அடைந்த வல்லரசாகலாம். இல்லை இப்ப மாதிரியே வடக்கன் ஆக்கிரமிப்பில் அடிமைப்பட்டு நிலத்தை இழந்து பயந்து அகதியாகவும் சாகலாம்.",
         "தமிழ் நாட தனி நாடா அறிவிச்சு, தமிழ்நாட்டு பிரதமர் ஜப்பான் கூட ஒப்பந்தம் செஞ்சி தொழில்களை இயந்திரமயமாக்கலாம், ஒர்க் பெர்மிட் குடுத்து நாட்டு தொழிலாளர்களை வரவழைக்கலாம். வீணாக டெல்லிக்கு குடுக்கும் வரியை வைத்து தமிழ் நாட்டு ராணுவம் தமிழருக்கு பாதுகாப்பு குடுக்கலாம், தமிழை வளர்க்கலாம், புல்லட் ரயில் விடலாம் . உலகம் முழுக்கதூதரகம் அமைத்து வளர்ச்சி அடைந்த வல்லரசாகலாம். இல்லை இப்ப மாதிரியே வடக்கன் ஆக்கிரமிப்பில் அடிமைப்பட்டு நிலத்தை இழந்து பயந்து அகதியாகவும் சாகலாம்."
        ],
        [
         "678",
         "6775",
         "Nanum muthaliyar than intha caste ah la enaku oru benifits uh kidachathu ila ithu varaikum nanga romba kasta padurom family oda ethachi help pana mudinja panuga",
         "Nanum muthaliyar intha caste ah la enaku oru benifits uh kidachathu ila ithu varaikum nanga romba kasta padurom family oda ethachi help pana mudinja panuga"
        ],
        [
         "194",
         "2497",
         "Bro hindi kaaranga tamil peasura adhu vea namaku peruma bro",
         "Bro hindi kaaranga tamil peasura adhu vea namaku peruma bro"
        ],
        [
         "1353",
         "7721",
         "dei onnu nalla purinjiko..pala thalaimurai ya padikira ana adhukagave Avan arivali ya matum dha irrukanum nu avasiyam illa...Avan top position la irrukuradhu Karanam Avan arivu illa Avan politics influence...mathavangala oru 2 illa 3 gen pin thangi irrukanga kalvi la adhunala dha matha pasanga compete panna maybe kashta padala..but avanga matum dha padipali nu la illa..nool illadha neraya Peru romba periya aalungala irrundhu irrukanga..adhala unaku epdi theriyadha podhu..nooluku ama Sami podra aal dhana nee🤦‍♂️",
         "dei onnu nalla purinjiko..pala thalaimurai ya padikira ana adhukagave Avan arivali ya matum dha irrukanum nu avasiyam illa...Avan top position la irrukuradhu Karanam Avan arivu illa Avan politics influence...mathavangala oru 2 illa 3 gen pin thangi irrukanga kalvi la adhunala dha matha pasanga compete panna maybe kashta padala..but avanga matum dha padipali nu la illa..nool illadha neraya Peru romba periya aalungala irrundhu irrukanga..adhala unaku epdi theriyadha podhu..nooluku ama Sami podra aal dhana nee man_facepalming"
        ],
        [
         "1119",
         "3011",
         " @mragul325  pls bro thavaran varthai paiyan padutthathinga pls",
         "<USER> pls bro thavaran varthai paiyan padutthathinga pls"
        ],
        [
         "518",
         "2511",
         "Deii enna da pathukudhu? Avan vandhu kashta pattu sambarikkuran. Avan pakku pota nee hans podaradhu illaya? Mayuru poi poazhaikara vazhiya paru.  Avan vandhu inga poazachuruva. Nee anga poi idhe madiri Hindi kathupiya?",
         "Deii enna da pathukudhu? Avan vandhu kashta pattu sambarikkuran. Avan pakku pota nee hans podaradhu illaya? Mayuru poi poazhaikara vazhiya paru. Avan vandhu inga poazachuruva. Nee anga poi idhe madiri Hindi kathupiya?"
        ],
        [
         "1516",
         "1450",
         "இந்திக்கார நாய் பிச்சைக்கார நாய்",
         "இந்திக்கார நாய் பிச்சைக்கார நாய்"
        ],
        [
         "1015",
         "161",
         "தயவு செய்து ஸ்ரீராமபுரம் சேரி-பெங்களூருக்குச் சென்று உங்கள் தமிழர்களுக்கு (பல தசாப்தங்களாக இங்கேயே தங்கி) கன்னடம் கற்க கற்றுக் கொடுங்கள், பின்னர் இந்த வடநாட்டுக்காரர்களுக்கு தமிழ் கற்க கற்றுக்கொடுங்கள். பெங்களூரில் குடியேறிய ஐடி பிபிஎல் சொந்த மொழியைக் கற்க முயற்சி செய்ய வேண்டாம். காலம்....\n",
         "தயவு செய்து ஸ்ரீராமபுரம் சேரி பெங்களூருக்குச் சென்று உங்கள் தமிழர்களுக்கு (பல தசாப்தங்களாக இங்கேயே தங்கி) கன்னடம் கற்க கற்றுக் கொடுங்கள், வடநாட்டுக்காரர்களுக்கு தமிழ் கற்க கற்றுக்கொடுங்கள். பெங்களூரில் குடியேறிய ஐடி பிபிஎல் சொந்த மொழியைக் கற்க முயற்சி செய்ய வேண்டாம். காலம்...."
        ],
        [
         "1362",
         "1509",
         "Naainga Ange vaazha vazhi illame Inge thirudi thinna varinga . ..",
         "Naainga Ange vaazha vazhi illame Inge thirudi thinna varinga . .."
        ],
        [
         "1032",
         "1851",
         "Enga area la north Indian own house vangi ration card vangitanga... Velaiku ponavangalam own company vechutanga.. From tirupur",
         "Enga area la north Indian house vangi ration card vangitanga... Velaiku ponavangalam company vechutanga.. tirupur"
        ],
        [
         "295",
         "2794",
         " @sportsrocky  vadakanuku support panravan thamizhagam nu thana solluvaan ne ena tamil nadu nu solura...",
         "<USER> vadakanuku support panravan thamizhagam nu thana solluvaan ne ena tamil nadu nu solura..."
        ],
        [
         "691",
         "6296",
         "Your story about only book source of researcher not about stone edict",
         "story book source researcher stone edict"
        ],
        [
         "1190",
         "2818",
         "Areyy bhaai do you know that tamil is second language in haryana?! Do you know how Tamil ppl are living in Gujarat?! Anga yaarachum ipdi katharraanaa?!",
         "Areyy bhaai know tamil second language haryana?! know Tamil ppl living Gujarat?! Anga yaarachum ipdi katharraanaa?!"
        ],
        [
         "776",
         "1687",
         "சீமானும் தும்பிகளும் ஆட்ச்சிக்கு வரனும்...  👍👍👍  ஆண்டு வருமானம்  ₹ 1000 எடுக்கும் எங்கள் அண்ணா சாமான்  வாழ்க..  👍 அராஜகம் ஓங்குக  😜",
         "சீமானும் தும்பிகளும் ஆட்ச்சிக்கு வரனும்... thumbs_up thumbs_up thumbs_up ஆண்டு வருமானம் ₹ 1000 எடுக்கும் எங்கள் அண்ணா சாமான் வாழ்க.. thumbs_up அராஜகம் ஓங்குக winking_face_with_tongue"
        ],
        [
         "1142",
         "754",
         "சீமான் அண்ணன் சொன்னதுபோல இன்னர் லைன் பெர்மிட் வேண்டும்.",
         "சீமான் அண்ணன் சொன்னதுபோல இன்னர் லைன் பெர்மிட் வேண்டும்."
        ],
        [
         "1396",
         "1022",
         "Tamilarghal modho kudiya nipaati vaarathulu oru naal limitaa adichu mahilndhu vaalungha..thollil,udambu,sutham,saemipu,tour poongha,kalyaanam pannungha adhaa mukiyam vitraadhingha",
         "Tamilarghal modho kudiya nipaati vaarathulu oru naal limitaa adichu mahilndhu vaalungha..thollil,udambu,sutham,saemipu,tour poongha,kalyaanam pannungha adhaa mukiyam vitraadhingha"
        ],
        [
         "936",
         "5387",
         "உங்களுக்கு அவங்க இருந்தா ரொம்ப பிரச்சினையா இருக்கு நியூஸ் போடணும் அவங்க போறாங்கன்னு ஒரு நியூஸ் போடணும் அப்படித்தானே",
         "உங்களுக்கு அவங்க இருந்தா ரொம்ப பிரச்சினையா இருக்கு நியூஸ் போடணும் அவங்க போறாங்கன்னு நியூஸ் போடணும் அப்படித்தானே"
        ],
        [
         "1090",
         "1530",
         "இப்போ தமிழ் நட்ட மீட்களன இப்போவுமே மீட்கமுடியாது \nஒன்றினைவோம் தமிழ் நாட்டை மீட்போம்",
         "இப்போ தமிழ் நட்ட மீட்களன இப்போவுமே மீட்கமுடியாது ஒன்றினைவோம் தமிழ் நாட்டை மீட்போம்"
        ],
        [
         "761",
         "909",
         "this man giving correct info nd future of tn",
         "man giving correct info nd future tn"
        ],
        [
         "298",
         "6337",
         "Sathiye vendam reservation quota vendam....school 1 st mark varissippadi college admission govt job koduuthu thaan sathi olyum",
         "Sathiye vendam reservation quota vendam....school 1 st mark varissippadi college admission govt job koduuthu thaan sathi olyum"
        ],
        [
         "1335",
         "6893",
         "முக்குலத்தோர் வேற அகமுடையார் வேறு போல அப்போ இத்தனை வருடமாக தேவரை சொந்தம் கொண்டாடினார்கள் இப்போ தேவர் இல்லையா சாதி தெரியல போல வெள்ளாளர் என்னது தனி சாதி என்று எல்லோருக்கும் தெரியும் உங்களை போல் மனநோயாளி கூட்டதில் தெரியாது போல",
         "முக்குலத்தோர் வேற அகமுடையார் அப்போ இத்தனை வருடமாக தேவரை சொந்தம் கொண்டாடினார்கள் இப்போ தேவர் இல்லையா சாதி தெரியல வெள்ளாளர் என்னது தனி சாதி எல்லோருக்கும் தெரியும் உங்களை மனநோயாளி கூட்டதில் தெரியாது"
        ],
        [
         "1206",
         "554",
         "What if kannadigas tell the same to our tamil software engineers settled in Bangalore??? Do we feel good if we experience the same??",
         "kannadigas tell tamil software engineers settled Bangalore??? feel good experience same??"
        ],
        [
         "1001",
         "1502",
         "நாம் தமிழர்கள் ஒற்றுமை  ஓங்கிட வேண்டும்.....",
         "தமிழர்கள் ஒற்றுமை ஓங்கிட வேண்டும்....."
        ],
        [
         "60",
         "7792",
         "yen pavathuku nana poi avana saava sonnen ??... mundhiri kotta mari poi setha nana porupu?? kelambu kelambu kathu varatum nerya paithiyam ore edathula irundha aagadhu...",
         "yen pavathuku nana poi avana saava sonnen ??... mundhiri kotta mari poi setha nana porupu?? kelambu kelambu kathu varatum nerya paithiyam ore edathula irundha aagadhu..."
        ],
        [
         "272",
         "6339",
         " @sun-zl1ir  neengal dhan ippodhu yennai partri kavalai padugeerirgal 😂😂",
         "<USER> zl1ir neengal dhan ippodhu yennai partri kavalai padugeerirgal face_with_tears_of_joy face_with_tears_of_joy"
        ],
        [
         "1411",
         "6510",
         "எத்தனை எத்தனைய் ஆய்வு அறிக்கைகள் செப்பேடுகள் தமிழின் ஒரு பெரும் சமூகம் தன்னை மீட்டெடுக்க இது தமிழினத்தின் விடுதலையாக பார்க்கின்றேன்,,,,,வாழ்த்துகள் தமிழர்களே",
         "எத்தனை எத்தனைய் ஆய்வு அறிக்கைகள் செப்பேடுகள் தமிழின் சமூகம் தன்னை மீட்டெடுக்க தமிழினத்தின் விடுதலையாக பார்க்கின்றேன்,,,,,வாழ்த்துகள் தமிழர்களே"
        ],
        [
         "1161",
         "6047",
         "​ @Surya-ne8ks super bro antha naikku sariyana seruppadi..",
         "​ <USER> ne8ks super bro antha naikku sariyana seruppadi.."
        ],
        [
         "62",
         "2207",
         "vadanattu marvadi pazangalai veratta vendum.",
         "vadanattu marvadi pazangalai veratta vendum."
        ],
        [
         "1077",
         "7214",
         "You mind your business lot of problems there",
         "mind business lot problems"
        ],
        [
         "786",
         "3215",
         "நம்ம நார்மலா வேலை பாக்குறோம்...    அவனுக கஞ்சா போதைல வேலை பாக்குறானுக.    ஆக நாம சோம்பேறி. அது தான் உண்மை",
         "நம்ம நார்மலா வேலை பாக்குறோம்... அவனுக கஞ்சா போதைல வேலை பாக்குறானுக. ஆக நாம சோம்பேறி. உண்மை"
        ],
        [
         "1232",
         "5256",
         "இங்கே இளைய மக்கள் vote bank ஆக கூட இல்லை 17 சதவீதம் தான்🙌🙌மீதி மக்கள் வயசானவங்க..அங்கே இளைஞர் அதிகம்..அது தான் பிரேச்சனை",
         "இளைய மக்கள் vote bank ஆக கூட இல்லை 17 சதவீதம் raising_hands raising_hands மீதி மக்கள் வயசானவங்க..அங்கே இளைஞர் அதிகம்..அது பிரேச்சனை"
        ],
        [
         "1471",
         "6683",
         "No he's blabbering. Agamudayar Or Agamudiya Mudhaliar (Thuluva vellalar) are two different things. \nAs per TN Govt both of them get Agamudayar certificate. So there is a huge confusion about it. \nWhen I was born, my Grandpa wanted to get the community certificate for me as AGAMUDAYAR SERVAI. But my parents didn't take it seriously & got what the govt gave them.",
         "blabbering. Agamudayar Agamudiya Mudhaliar (Thuluva vellalar) two different things. per TN Govt get Agamudayar certificate. huge confusion it. born, Grandpa wanted get community certificate AGAMUDAYAR SERVAI. parents take seriously & got govt gave them."
        ],
        [
         "90",
         "6776",
         "நான் துளுவ வெள்ளாளர் ஆனா பிள்ளை பட்டம் போடுவோம் ...அகமுடையார் துளுவ வெள்ளாளர் ன்னு அரசின் பட்டியலில் உள்ளது ...",
         "துளுவ வெள்ளாளர் ஆனா பிள்ளை பட்டம் போடுவோம் ...அகமுடையார் துளுவ வெள்ளாளர் ன்னு அரசின் பட்டியலில் ..."
        ],
        [
         "903",
         "1036",
         "அன்று தெலுங்கர்கள் வந்தார்கள் இன்று இவர்கள்",
         "தெலுங்கர்கள் வந்தார்கள் இன்று இவர்கள்"
        ],
        [
         "1472",
         "2372",
         "இப்படித்தான் கூட்டமா வந்து தமிழன த்தாக்கினான் சிவசேனா  மும்பையில்.1968க்கு அப்புறம் இன்னி வரை 50 வருஷமா தமிழன் இங்கே அரசியல் பேச மாட்டான். .",
         "இப்படித்தான் கூட்டமா தமிழன த்தாக்கினான் சிவசேனா மும்பையில்.1968க்கு அப்புறம் இன்னி 50 வருஷமா தமிழன் அரசியல் பேச மாட்டான். ."
        ],
        [
         "1330",
         "3219",
         " @iamyousuf2216  மும்பையில் 2 தொகுதி தமிழ் மக்கள் தமிழ் mla இருகிறார்கள் மராத்தி அரசு தமிழ் பள்ளி இருக்கிறது அரசு தமிழ் பள்ளிக்கு அரசு பேருந்து இருக்கிறது",
         "<USER> மும்பையில் 2 தொகுதி தமிழ் மக்கள் தமிழ் mla இருகிறார்கள் மராத்தி அரசு தமிழ் பள்ளி இருக்கிறது அரசு தமிழ் பள்ளிக்கு அரசு பேருந்து இருக்கிறது"
        ],
        [
         "801",
         "4638",
         "கொஞ்சம் மரியாதையா பேசுடா. அவங்களுக்கும் சுயமரியாதை இருக்கு.",
         "கொஞ்சம் மரியாதையா பேசுடா. அவங்களுக்கும் சுயமரியாதை இருக்கு."
        ],
        [
         "308",
         "2553",
         "இவனுக்கு பேட்டி எடுக்க தெரியல",
         "இவனுக்கு பேட்டி எடுக்க தெரியல"
        ],
        [
         "728",
         "196",
         "இந்த கமெண்ட்ஸ்ல எவ்வளவு பேர் இருக்கீங்களோ அவ்வளவு பேரும் அடுத்த எலக்சன்ல நம்ம சீமான் அண்ணனுக்கு ஓட்டு போடுங்க அப்பொதான் தமிழ்நாடு நல்ல நிலைமைக்கு வரும் தயவு செஞ்சு உங்கள் ஓட்டு வீனாக்காதீங்க   திமுக கோ போடாதீங்க அதிமுக கோ ஓட்டு போடாதீங்க புரிஞ்சவக ஒரு லைக் போடுங்க சீமான் அண்ணாவர் புடிச்சவங்க மட்டும் ஓட்டு போடுங்க புடிக்காதவங்க தேவை இல்லாம மெசேஜ் பண்ணுவாங்க அதிலேயே தெரியும் தேவை இல்லாத மெசேஜ் பண்றவங்க எல்லாம் அவருக்கு எதிரா இருக்காங்கன்னு அர்த்தம் கமெண்ட்ஸ் இருக்கிறவங்க மட்டும் ஓட்டு போட்டிங்கனலெ அவர் ஈசியாக‌ வெற்றி பெற்றிடுவார்",
         "கமெண்ட்ஸ்ல எவ்வளவு இருக்கீங்களோ அவ்வளவு பேரும் எலக்சன்ல நம்ம சீமான் அண்ணனுக்கு ஓட்டு போடுங்க அப்பொதான் தமிழ்நாடு நல்ல நிலைமைக்கு தயவு செஞ்சு உங்கள் ஓட்டு வீனாக்காதீங்க திமுக கோ போடாதீங்க அதிமுக கோ ஓட்டு போடாதீங்க புரிஞ்சவக லைக் போடுங்க சீமான் அண்ணாவர் புடிச்சவங்க ஓட்டு போடுங்க புடிக்காதவங்க தேவை இல்லாம மெசேஜ் பண்ணுவாங்க அதிலேயே தெரியும் தேவை இல்லாத மெசேஜ் பண்றவங்க அவருக்கு எதிரா இருக்காங்கன்னு அர்த்தம் கமெண்ட்ஸ் இருக்கிறவங்க ஓட்டு போட்டிங்கனலெ ஈசியாக‌ வெற்றி பெற்றிடுவார்"
        ],
        [
         "239",
         "6235",
         "​ @sharmilathesis3164  na bjp parisalan vck is against hindus he wants to divide hindus by caste and get consolidated muslim christian votes",
         "​ <USER> na bjp parisalan vck hindus wants divide hindus caste get consolidated muslim christian votes"
        ]
       ],
       "shape": {
        "columns": 3,
        "rows": 50
       }
      },
      "text/html": [
       "<div>\n",
       "<style scoped>\n",
       "    .dataframe tbody tr th:only-of-type {\n",
       "        vertical-align: middle;\n",
       "    }\n",
       "\n",
       "    .dataframe tbody tr th {\n",
       "        vertical-align: top;\n",
       "    }\n",
       "\n",
       "    .dataframe thead th {\n",
       "        text-align: right;\n",
       "    }\n",
       "</style>\n",
       "<table border=\"1\" class=\"dataframe\">\n",
       "  <thead>\n",
       "    <tr style=\"text-align: right;\">\n",
       "      <th></th>\n",
       "      <th>id</th>\n",
       "      <th>text</th>\n",
       "      <th>clean_text</th>\n",
       "    </tr>\n",
       "  </thead>\n",
       "  <tbody>\n",
       "    <tr>\n",
       "      <th>52</th>\n",
       "      <td>7577</td>\n",
       "      <td>யாரு ஜெயித்தது கடைசியில் சொல்லவே இல்லையே ஓய்😂😂</td>\n",
       "      <td>யாரு ஜெயித்தது கடைசியில் சொல்லவே இல்லையே ஓய் f...</td>\n",
       "    </tr>\n",
       "    <tr>\n",
       "      <th>836</th>\n",
       "      <td>5999</td>\n",
       "      <td>Tamillarkalai adithal yarum keppathillai</td>\n",
       "      <td>Tamillarkalai adithal yarum keppathillai</td>\n",
       "    </tr>\n",
       "    <tr>\n",
       "      <th>983</th>\n",
       "      <td>1473</td>\n",
       "      <td>Vaay udharuthaan naam thamizhargal.appa appa i...</td>\n",
       "      <td>Vaay udharuthaan naam thamizhargal.appa appa i...</td>\n",
       "    </tr>\n",
       "    <tr>\n",
       "      <th>88</th>\n",
       "      <td>5989</td>\n",
       "      <td>ஒரே ஒரு நியூஸ் சேனல் இருக்கும் போது கரெக்டாக ந...</td>\n",
       "      <td>நியூஸ் சேனல் கரெக்டாக நியூஸ் உண்மையான நியூஸ் ச...</td>\n",
       "    </tr>\n",
       "    <tr>\n",
       "      <th>559</th>\n",
       "      <td>533</td>\n",
       "      <td>@keralanaturelover196  Hello excuse me. Pleas...</td>\n",
       "      <td>&lt;USER&gt; Hello excuse me. Please read fellow wri...</td>\n",
       "    </tr>\n",
       "    <tr>\n",
       "      <th>1011</th>\n",
       "      <td>2671</td>\n",
       "      <td>Dai India glitz...Thiruppur event paatha illa ...</td>\n",
       "      <td>Dai India glitz...Thiruppur event paatha illa ...</td>\n",
       "    </tr>\n",
       "    <tr>\n",
       "      <th>794</th>\n",
       "      <td>2118</td>\n",
       "      <td>More Tamil population must start stores and bu...</td>\n",
       "      <td>Tamil population must start stores businesses ...</td>\n",
       "    </tr>\n",
       "    <tr>\n",
       "      <th>1185</th>\n",
       "      <td>6737</td>\n",
       "      <td>They have their own identity..let them have..a...</td>\n",
       "      <td>identity..let have..at end Tamil PPL . folded_...</td>\n",
       "    </tr>\n",
       "    <tr>\n",
       "      <th>503</th>\n",
       "      <td>2034</td>\n",
       "      <td>நீங்கள் தும்பிகள்,,,,அவன் பேசுர தமிழ் உனக்கு த...</td>\n",
       "      <td>நீங்கள் தும்பிகள்,,,,அவன் பேசுர தமிழ் உனக்கு த...</td>\n",
       "    </tr>\n",
       "    <tr>\n",
       "      <th>1243</th>\n",
       "      <td>5374</td>\n",
       "      <td>ellaaraiyum manisana  paarunka  vadamanilanu p...</td>\n",
       "      <td>ellaaraiyum manisana paarunka vadamanilanu pes...</td>\n",
       "    </tr>\n",
       "    <tr>\n",
       "      <th>356</th>\n",
       "      <td>3656</td>\n",
       "      <td>தமிழ் நாட தனி நாடா அறிவிச்சு, தமிழ்நாட்டு பிரத...</td>\n",
       "      <td>தமிழ் நாட தனி நாடா அறிவிச்சு, தமிழ்நாட்டு பிரத...</td>\n",
       "    </tr>\n",
       "    <tr>\n",
       "      <th>678</th>\n",
       "      <td>6775</td>\n",
       "      <td>Nanum muthaliyar than intha caste ah la enaku ...</td>\n",
       "      <td>Nanum muthaliyar intha caste ah la enaku oru b...</td>\n",
       "    </tr>\n",
       "    <tr>\n",
       "      <th>194</th>\n",
       "      <td>2497</td>\n",
       "      <td>Bro hindi kaaranga tamil peasura adhu vea nama...</td>\n",
       "      <td>Bro hindi kaaranga tamil peasura adhu vea nama...</td>\n",
       "    </tr>\n",
       "    <tr>\n",
       "      <th>1353</th>\n",
       "      <td>7721</td>\n",
       "      <td>dei onnu nalla purinjiko..pala thalaimurai ya ...</td>\n",
       "      <td>dei onnu nalla purinjiko..pala thalaimurai ya ...</td>\n",
       "    </tr>\n",
       "    <tr>\n",
       "      <th>1119</th>\n",
       "      <td>3011</td>\n",
       "      <td>@mragul325  pls bro thavaran varthai paiyan p...</td>\n",
       "      <td>&lt;USER&gt; pls bro thavaran varthai paiyan padutth...</td>\n",
       "    </tr>\n",
       "    <tr>\n",
       "      <th>518</th>\n",
       "      <td>2511</td>\n",
       "      <td>Deii enna da pathukudhu? Avan vandhu kashta pa...</td>\n",
       "      <td>Deii enna da pathukudhu? Avan vandhu kashta pa...</td>\n",
       "    </tr>\n",
       "    <tr>\n",
       "      <th>1516</th>\n",
       "      <td>1450</td>\n",
       "      <td>இந்திக்கார நாய் பிச்சைக்கார நாய்</td>\n",
       "      <td>இந்திக்கார நாய் பிச்சைக்கார நாய்</td>\n",
       "    </tr>\n",
       "    <tr>\n",
       "      <th>1015</th>\n",
       "      <td>161</td>\n",
       "      <td>தயவு செய்து ஸ்ரீராமபுரம் சேரி-பெங்களூருக்குச் ...</td>\n",
       "      <td>தயவு செய்து ஸ்ரீராமபுரம் சேரி பெங்களூருக்குச் ...</td>\n",
       "    </tr>\n",
       "    <tr>\n",
       "      <th>1362</th>\n",
       "      <td>1509</td>\n",
       "      <td>Naainga Ange vaazha vazhi illame Inge thirudi ...</td>\n",
       "      <td>Naainga Ange vaazha vazhi illame Inge thirudi ...</td>\n",
       "    </tr>\n",
       "    <tr>\n",
       "      <th>1032</th>\n",
       "      <td>1851</td>\n",
       "      <td>Enga area la north Indian own house vangi rati...</td>\n",
       "      <td>Enga area la north Indian house vangi ration c...</td>\n",
       "    </tr>\n",
       "    <tr>\n",
       "      <th>295</th>\n",
       "      <td>2794</td>\n",
       "      <td>@sportsrocky  vadakanuku support panravan tha...</td>\n",
       "      <td>&lt;USER&gt; vadakanuku support panravan thamizhagam...</td>\n",
       "    </tr>\n",
       "    <tr>\n",
       "      <th>691</th>\n",
       "      <td>6296</td>\n",
       "      <td>Your story about only book source of researche...</td>\n",
       "      <td>story book source researcher stone edict</td>\n",
       "    </tr>\n",
       "    <tr>\n",
       "      <th>1190</th>\n",
       "      <td>2818</td>\n",
       "      <td>Areyy bhaai do you know that tamil is second l...</td>\n",
       "      <td>Areyy bhaai know tamil second language haryana...</td>\n",
       "    </tr>\n",
       "    <tr>\n",
       "      <th>776</th>\n",
       "      <td>1687</td>\n",
       "      <td>சீமானும் தும்பிகளும் ஆட்ச்சிக்கு வரனும்...  👍👍...</td>\n",
       "      <td>சீமானும் தும்பிகளும் ஆட்ச்சிக்கு வரனும்... thu...</td>\n",
       "    </tr>\n",
       "    <tr>\n",
       "      <th>1142</th>\n",
       "      <td>754</td>\n",
       "      <td>சீமான் அண்ணன் சொன்னதுபோல இன்னர் லைன் பெர்மிட் ...</td>\n",
       "      <td>சீமான் அண்ணன் சொன்னதுபோல இன்னர் லைன் பெர்மிட் ...</td>\n",
       "    </tr>\n",
       "    <tr>\n",
       "      <th>1396</th>\n",
       "      <td>1022</td>\n",
       "      <td>Tamilarghal modho kudiya nipaati vaarathulu or...</td>\n",
       "      <td>Tamilarghal modho kudiya nipaati vaarathulu or...</td>\n",
       "    </tr>\n",
       "    <tr>\n",
       "      <th>936</th>\n",
       "      <td>5387</td>\n",
       "      <td>உங்களுக்கு அவங்க இருந்தா ரொம்ப பிரச்சினையா இரு...</td>\n",
       "      <td>உங்களுக்கு அவங்க இருந்தா ரொம்ப பிரச்சினையா இரு...</td>\n",
       "    </tr>\n",
       "    <tr>\n",
       "      <th>1090</th>\n",
       "      <td>1530</td>\n",
       "      <td>இப்போ தமிழ் நட்ட மீட்களன இப்போவுமே மீட்கமுடியா...</td>\n",
       "      <td>இப்போ தமிழ் நட்ட மீட்களன இப்போவுமே மீட்கமுடியா...</td>\n",
       "    </tr>\n",
       "    <tr>\n",
       "      <th>761</th>\n",
       "      <td>909</td>\n",
       "      <td>this man giving correct info nd future of tn</td>\n",
       "      <td>man giving correct info nd future tn</td>\n",
       "    </tr>\n",
       "    <tr>\n",
       "      <th>298</th>\n",
       "      <td>6337</td>\n",
       "      <td>Sathiye vendam reservation quota vendam....sch...</td>\n",
       "      <td>Sathiye vendam reservation quota vendam....sch...</td>\n",
       "    </tr>\n",
       "    <tr>\n",
       "      <th>1335</th>\n",
       "      <td>6893</td>\n",
       "      <td>முக்குலத்தோர் வேற அகமுடையார் வேறு போல அப்போ இத...</td>\n",
       "      <td>முக்குலத்தோர் வேற அகமுடையார் அப்போ இத்தனை வருட...</td>\n",
       "    </tr>\n",
       "    <tr>\n",
       "      <th>1206</th>\n",
       "      <td>554</td>\n",
       "      <td>What if kannadigas tell the same to our tamil ...</td>\n",
       "      <td>kannadigas tell tamil software engineers settl...</td>\n",
       "    </tr>\n",
       "    <tr>\n",
       "      <th>1001</th>\n",
       "      <td>1502</td>\n",
       "      <td>நாம் தமிழர்கள் ஒற்றுமை  ஓங்கிட வேண்டும்.....</td>\n",
       "      <td>தமிழர்கள் ஒற்றுமை ஓங்கிட வேண்டும்.....</td>\n",
       "    </tr>\n",
       "    <tr>\n",
       "      <th>60</th>\n",
       "      <td>7792</td>\n",
       "      <td>yen pavathuku nana poi avana saava sonnen ??.....</td>\n",
       "      <td>yen pavathuku nana poi avana saava sonnen ??.....</td>\n",
       "    </tr>\n",
       "    <tr>\n",
       "      <th>272</th>\n",
       "      <td>6339</td>\n",
       "      <td>@sun-zl1ir  neengal dhan ippodhu yennai partr...</td>\n",
       "      <td>&lt;USER&gt; zl1ir neengal dhan ippodhu yennai partr...</td>\n",
       "    </tr>\n",
       "    <tr>\n",
       "      <th>1411</th>\n",
       "      <td>6510</td>\n",
       "      <td>எத்தனை எத்தனைய் ஆய்வு அறிக்கைகள் செப்பேடுகள் த...</td>\n",
       "      <td>எத்தனை எத்தனைய் ஆய்வு அறிக்கைகள் செப்பேடுகள் த...</td>\n",
       "    </tr>\n",
       "    <tr>\n",
       "      <th>1161</th>\n",
       "      <td>6047</td>\n",
       "      <td>​ @Surya-ne8ks super bro antha naikku sariyana...</td>\n",
       "      <td>​ &lt;USER&gt; ne8ks super bro antha naikku sariyana...</td>\n",
       "    </tr>\n",
       "    <tr>\n",
       "      <th>62</th>\n",
       "      <td>2207</td>\n",
       "      <td>vadanattu marvadi pazangalai veratta vendum.</td>\n",
       "      <td>vadanattu marvadi pazangalai veratta vendum.</td>\n",
       "    </tr>\n",
       "    <tr>\n",
       "      <th>1077</th>\n",
       "      <td>7214</td>\n",
       "      <td>You mind your business lot of problems there</td>\n",
       "      <td>mind business lot problems</td>\n",
       "    </tr>\n",
       "    <tr>\n",
       "      <th>786</th>\n",
       "      <td>3215</td>\n",
       "      <td>நம்ம நார்மலா வேலை பாக்குறோம்...    அவனுக கஞ்சா...</td>\n",
       "      <td>நம்ம நார்மலா வேலை பாக்குறோம்... அவனுக கஞ்சா போ...</td>\n",
       "    </tr>\n",
       "    <tr>\n",
       "      <th>1232</th>\n",
       "      <td>5256</td>\n",
       "      <td>இங்கே இளைய மக்கள் vote bank ஆக கூட இல்லை 17 சத...</td>\n",
       "      <td>இளைய மக்கள் vote bank ஆக கூட இல்லை 17 சதவீதம் ...</td>\n",
       "    </tr>\n",
       "    <tr>\n",
       "      <th>1471</th>\n",
       "      <td>6683</td>\n",
       "      <td>No he's blabbering. Agamudayar Or Agamudiya Mu...</td>\n",
       "      <td>blabbering. Agamudayar Agamudiya Mudhaliar (Th...</td>\n",
       "    </tr>\n",
       "    <tr>\n",
       "      <th>90</th>\n",
       "      <td>6776</td>\n",
       "      <td>நான் துளுவ வெள்ளாளர் ஆனா பிள்ளை பட்டம் போடுவோம...</td>\n",
       "      <td>துளுவ வெள்ளாளர் ஆனா பிள்ளை பட்டம் போடுவோம் ......</td>\n",
       "    </tr>\n",
       "    <tr>\n",
       "      <th>903</th>\n",
       "      <td>1036</td>\n",
       "      <td>அன்று தெலுங்கர்கள் வந்தார்கள் இன்று இவர்கள்</td>\n",
       "      <td>தெலுங்கர்கள் வந்தார்கள் இன்று இவர்கள்</td>\n",
       "    </tr>\n",
       "    <tr>\n",
       "      <th>1472</th>\n",
       "      <td>2372</td>\n",
       "      <td>இப்படித்தான் கூட்டமா வந்து தமிழன த்தாக்கினான் ...</td>\n",
       "      <td>இப்படித்தான் கூட்டமா தமிழன த்தாக்கினான் சிவசேன...</td>\n",
       "    </tr>\n",
       "    <tr>\n",
       "      <th>1330</th>\n",
       "      <td>3219</td>\n",
       "      <td>@iamyousuf2216  மும்பையில் 2 தொகுதி தமிழ் மக்...</td>\n",
       "      <td>&lt;USER&gt; மும்பையில் 2 தொகுதி தமிழ் மக்கள் தமிழ் ...</td>\n",
       "    </tr>\n",
       "    <tr>\n",
       "      <th>801</th>\n",
       "      <td>4638</td>\n",
       "      <td>கொஞ்சம் மரியாதையா பேசுடா. அவங்களுக்கும் சுயமரி...</td>\n",
       "      <td>கொஞ்சம் மரியாதையா பேசுடா. அவங்களுக்கும் சுயமரி...</td>\n",
       "    </tr>\n",
       "    <tr>\n",
       "      <th>308</th>\n",
       "      <td>2553</td>\n",
       "      <td>இவனுக்கு பேட்டி எடுக்க தெரியல</td>\n",
       "      <td>இவனுக்கு பேட்டி எடுக்க தெரியல</td>\n",
       "    </tr>\n",
       "    <tr>\n",
       "      <th>728</th>\n",
       "      <td>196</td>\n",
       "      <td>இந்த கமெண்ட்ஸ்ல எவ்வளவு பேர் இருக்கீங்களோ அவ்வ...</td>\n",
       "      <td>கமெண்ட்ஸ்ல எவ்வளவு இருக்கீங்களோ அவ்வளவு பேரும்...</td>\n",
       "    </tr>\n",
       "    <tr>\n",
       "      <th>239</th>\n",
       "      <td>6235</td>\n",
       "      <td>​ @sharmilathesis3164  na bjp parisalan vck is...</td>\n",
       "      <td>​ &lt;USER&gt; na bjp parisalan vck hindus wants div...</td>\n",
       "    </tr>\n",
       "  </tbody>\n",
       "</table>\n",
       "</div>"
      ],
      "text/plain": [
       "        id                                               text  \\\n",
       "52    7577     யாரு ஜெயித்தது கடைசியில் சொல்லவே இல்லையே ஓய்😂😂   \n",
       "836   5999           Tamillarkalai adithal yarum keppathillai   \n",
       "983   1473  Vaay udharuthaan naam thamizhargal.appa appa i...   \n",
       "88    5989  ஒரே ஒரு நியூஸ் சேனல் இருக்கும் போது கரெக்டாக ந...   \n",
       "559    533   @keralanaturelover196  Hello excuse me. Pleas...   \n",
       "1011  2671  Dai India glitz...Thiruppur event paatha illa ...   \n",
       "794   2118  More Tamil population must start stores and bu...   \n",
       "1185  6737  They have their own identity..let them have..a...   \n",
       "503   2034  நீங்கள் தும்பிகள்,,,,அவன் பேசுர தமிழ் உனக்கு த...   \n",
       "1243  5374  ellaaraiyum manisana  paarunka  vadamanilanu p...   \n",
       "356   3656  தமிழ் நாட தனி நாடா அறிவிச்சு, தமிழ்நாட்டு பிரத...   \n",
       "678   6775  Nanum muthaliyar than intha caste ah la enaku ...   \n",
       "194   2497  Bro hindi kaaranga tamil peasura adhu vea nama...   \n",
       "1353  7721  dei onnu nalla purinjiko..pala thalaimurai ya ...   \n",
       "1119  3011   @mragul325  pls bro thavaran varthai paiyan p...   \n",
       "518   2511  Deii enna da pathukudhu? Avan vandhu kashta pa...   \n",
       "1516  1450                   இந்திக்கார நாய் பிச்சைக்கார நாய்   \n",
       "1015   161  தயவு செய்து ஸ்ரீராமபுரம் சேரி-பெங்களூருக்குச் ...   \n",
       "1362  1509  Naainga Ange vaazha vazhi illame Inge thirudi ...   \n",
       "1032  1851  Enga area la north Indian own house vangi rati...   \n",
       "295   2794   @sportsrocky  vadakanuku support panravan tha...   \n",
       "691   6296  Your story about only book source of researche...   \n",
       "1190  2818  Areyy bhaai do you know that tamil is second l...   \n",
       "776   1687  சீமானும் தும்பிகளும் ஆட்ச்சிக்கு வரனும்...  👍👍...   \n",
       "1142   754  சீமான் அண்ணன் சொன்னதுபோல இன்னர் லைன் பெர்மிட் ...   \n",
       "1396  1022  Tamilarghal modho kudiya nipaati vaarathulu or...   \n",
       "936   5387  உங்களுக்கு அவங்க இருந்தா ரொம்ப பிரச்சினையா இரு...   \n",
       "1090  1530  இப்போ தமிழ் நட்ட மீட்களன இப்போவுமே மீட்கமுடியா...   \n",
       "761    909       this man giving correct info nd future of tn   \n",
       "298   6337  Sathiye vendam reservation quota vendam....sch...   \n",
       "1335  6893  முக்குலத்தோர் வேற அகமுடையார் வேறு போல அப்போ இத...   \n",
       "1206   554  What if kannadigas tell the same to our tamil ...   \n",
       "1001  1502       நாம் தமிழர்கள் ஒற்றுமை  ஓங்கிட வேண்டும்.....   \n",
       "60    7792  yen pavathuku nana poi avana saava sonnen ??.....   \n",
       "272   6339   @sun-zl1ir  neengal dhan ippodhu yennai partr...   \n",
       "1411  6510  எத்தனை எத்தனைய் ஆய்வு அறிக்கைகள் செப்பேடுகள் த...   \n",
       "1161  6047  ​ @Surya-ne8ks super bro antha naikku sariyana...   \n",
       "62    2207       vadanattu marvadi pazangalai veratta vendum.   \n",
       "1077  7214       You mind your business lot of problems there   \n",
       "786   3215  நம்ம நார்மலா வேலை பாக்குறோம்...    அவனுக கஞ்சா...   \n",
       "1232  5256  இங்கே இளைய மக்கள் vote bank ஆக கூட இல்லை 17 சத...   \n",
       "1471  6683  No he's blabbering. Agamudayar Or Agamudiya Mu...   \n",
       "90    6776  நான் துளுவ வெள்ளாளர் ஆனா பிள்ளை பட்டம் போடுவோம...   \n",
       "903   1036        அன்று தெலுங்கர்கள் வந்தார்கள் இன்று இவர்கள்   \n",
       "1472  2372  இப்படித்தான் கூட்டமா வந்து தமிழன த்தாக்கினான் ...   \n",
       "1330  3219   @iamyousuf2216  மும்பையில் 2 தொகுதி தமிழ் மக்...   \n",
       "801   4638  கொஞ்சம் மரியாதையா பேசுடா. அவங்களுக்கும் சுயமரி...   \n",
       "308   2553                      இவனுக்கு பேட்டி எடுக்க தெரியல   \n",
       "728    196  இந்த கமெண்ட்ஸ்ல எவ்வளவு பேர் இருக்கீங்களோ அவ்வ...   \n",
       "239   6235  ​ @sharmilathesis3164  na bjp parisalan vck is...   \n",
       "\n",
       "                                             clean_text  \n",
       "52    யாரு ஜெயித்தது கடைசியில் சொல்லவே இல்லையே ஓய் f...  \n",
       "836            Tamillarkalai adithal yarum keppathillai  \n",
       "983   Vaay udharuthaan naam thamizhargal.appa appa i...  \n",
       "88    நியூஸ் சேனல் கரெக்டாக நியூஸ் உண்மையான நியூஸ் ச...  \n",
       "559   <USER> Hello excuse me. Please read fellow wri...  \n",
       "1011  Dai India glitz...Thiruppur event paatha illa ...  \n",
       "794   Tamil population must start stores businesses ...  \n",
       "1185  identity..let have..at end Tamil PPL . folded_...  \n",
       "503   நீங்கள் தும்பிகள்,,,,அவன் பேசுர தமிழ் உனக்கு த...  \n",
       "1243  ellaaraiyum manisana paarunka vadamanilanu pes...  \n",
       "356   தமிழ் நாட தனி நாடா அறிவிச்சு, தமிழ்நாட்டு பிரத...  \n",
       "678   Nanum muthaliyar intha caste ah la enaku oru b...  \n",
       "194   Bro hindi kaaranga tamil peasura adhu vea nama...  \n",
       "1353  dei onnu nalla purinjiko..pala thalaimurai ya ...  \n",
       "1119  <USER> pls bro thavaran varthai paiyan padutth...  \n",
       "518   Deii enna da pathukudhu? Avan vandhu kashta pa...  \n",
       "1516                   இந்திக்கார நாய் பிச்சைக்கார நாய்  \n",
       "1015  தயவு செய்து ஸ்ரீராமபுரம் சேரி பெங்களூருக்குச் ...  \n",
       "1362  Naainga Ange vaazha vazhi illame Inge thirudi ...  \n",
       "1032  Enga area la north Indian house vangi ration c...  \n",
       "295   <USER> vadakanuku support panravan thamizhagam...  \n",
       "691            story book source researcher stone edict  \n",
       "1190  Areyy bhaai know tamil second language haryana...  \n",
       "776   சீமானும் தும்பிகளும் ஆட்ச்சிக்கு வரனும்... thu...  \n",
       "1142  சீமான் அண்ணன் சொன்னதுபோல இன்னர் லைன் பெர்மிட் ...  \n",
       "1396  Tamilarghal modho kudiya nipaati vaarathulu or...  \n",
       "936   உங்களுக்கு அவங்க இருந்தா ரொம்ப பிரச்சினையா இரு...  \n",
       "1090  இப்போ தமிழ் நட்ட மீட்களன இப்போவுமே மீட்கமுடியா...  \n",
       "761                man giving correct info nd future tn  \n",
       "298   Sathiye vendam reservation quota vendam....sch...  \n",
       "1335  முக்குலத்தோர் வேற அகமுடையார் அப்போ இத்தனை வருட...  \n",
       "1206  kannadigas tell tamil software engineers settl...  \n",
       "1001             தமிழர்கள் ஒற்றுமை ஓங்கிட வேண்டும்.....  \n",
       "60    yen pavathuku nana poi avana saava sonnen ??.....  \n",
       "272   <USER> zl1ir neengal dhan ippodhu yennai partr...  \n",
       "1411  எத்தனை எத்தனைய் ஆய்வு அறிக்கைகள் செப்பேடுகள் த...  \n",
       "1161  ​ <USER> ne8ks super bro antha naikku sariyana...  \n",
       "62         vadanattu marvadi pazangalai veratta vendum.  \n",
       "1077                         mind business lot problems  \n",
       "786   நம்ம நார்மலா வேலை பாக்குறோம்... அவனுக கஞ்சா போ...  \n",
       "1232  இளைய மக்கள் vote bank ஆக கூட இல்லை 17 சதவீதம் ...  \n",
       "1471  blabbering. Agamudayar Agamudiya Mudhaliar (Th...  \n",
       "90    துளுவ வெள்ளாளர் ஆனா பிள்ளை பட்டம் போடுவோம் ......  \n",
       "903               தெலுங்கர்கள் வந்தார்கள் இன்று இவர்கள்  \n",
       "1472  இப்படித்தான் கூட்டமா தமிழன த்தாக்கினான் சிவசேன...  \n",
       "1330  <USER> மும்பையில் 2 தொகுதி தமிழ் மக்கள் தமிழ் ...  \n",
       "801   கொஞ்சம் மரியாதையா பேசுடா. அவங்களுக்கும் சுயமரி...  \n",
       "308                       இவனுக்கு பேட்டி எடுக்க தெரியல  \n",
       "728   கமெண்ட்ஸ்ல எவ்வளவு இருக்கீங்களோ அவ்வளவு பேரும்...  \n",
       "239   ​ <USER> na bjp parisalan vck hindus wants div...  "
      ]
     },
     "execution_count": 51,
     "metadata": {},
     "output_type": "execute_result"
    }
   ],
   "source": [
    "test_df['clean_text'] = test_df['text'].apply(preprocess_text).apply(remove_stopwords)\n",
    "test_df.sample(50)"
   ]
  },
  {
   "cell_type": "code",
   "execution_count": 52,
   "metadata": {},
   "outputs": [
    {
     "data": {
      "text/plain": [
       "(1576, 7000)"
      ]
     },
     "execution_count": 52,
     "metadata": {},
     "output_type": "execute_result"
    }
   ],
   "source": [
    "X = test_df['clean_text']\n",
    "\n",
    "vectorizer = TfidfVectorizer(\n",
    "    max_features=7000,\n",
    "    ngram_range=(1,2),\n",
    "    analyzer='word',\n",
    "    token_pattern=r\"(?u)\\b\\w+\\b\"\n",
    ")\n",
    "\n",
    "X_vectorized = vectorizer.fit_transform(X)\n",
    "X_vectorized = X_vectorized.toarray()\n",
    "X_vectorized.shape"
   ]
  },
  {
   "cell_type": "code",
   "execution_count": 53,
   "metadata": {},
   "outputs": [],
   "source": [
    "import numpy as np\n",
    "\n",
    "data = np.load(\"muril_large_embeddings_test.npy\")  # Replace \"file.npy\" with your actual file name"
   ]
  },
  {
   "cell_type": "code",
   "execution_count": 54,
   "metadata": {},
   "outputs": [
    {
     "data": {
      "text/plain": [
       "(1576, 1024)"
      ]
     },
     "execution_count": 54,
     "metadata": {},
     "output_type": "execute_result"
    }
   ],
   "source": [
    "data.shape"
   ]
  },
  {
   "cell_type": "code",
   "execution_count": 55,
   "metadata": {},
   "outputs": [
    {
     "data": {
      "text/plain": [
       "(1576, 8024)"
      ]
     },
     "execution_count": 55,
     "metadata": {},
     "output_type": "execute_result"
    }
   ],
   "source": [
    "X_final = np.zeros((X_vectorized.shape[0], X_vectorized.shape[1] + data.shape[1]))\n",
    "X_final[:, :X_vectorized.shape[1]] = X_vectorized\n",
    "X_final[:, X_vectorized.shape[1]:] = data\n",
    "X_final.shape"
   ]
  },
  {
   "cell_type": "code",
   "execution_count": null,
   "metadata": {},
   "outputs": [
    {
     "data": {
      "text/plain": [
       "array([0, 0, 0, ..., 0, 0, 0])"
      ]
     },
     "execution_count": 56,
     "metadata": {},
     "output_type": "execute_result"
    }
   ],
   "source": [
    "predictions = model.predict(X_final)\n",
    "predictions"
   ]
  },
  {
   "cell_type": "code",
   "execution_count": 57,
   "metadata": {},
   "outputs": [],
   "source": [
    "test_df['predictions'] = predictions"
   ]
  },
  {
   "cell_type": "code",
   "execution_count": 58,
   "metadata": {},
   "outputs": [],
   "source": [
    "test_df.drop(columns=['clean_text'], inplace=True)\n",
    "test_df.drop(columns=['text'], inplace=True)"
   ]
  },
  {
   "cell_type": "code",
   "execution_count": 60,
   "metadata": {},
   "outputs": [
    {
     "data": {
      "text/plain": [
       "predictions\n",
       "0    1058\n",
       "1     518\n",
       "Name: count, dtype: int64"
      ]
     },
     "execution_count": 60,
     "metadata": {},
     "output_type": "execute_result"
    }
   ],
   "source": [
    "test_df[\"predictions\"].value_counts()  "
   ]
  },
  {
   "cell_type": "code",
   "execution_count": 61,
   "metadata": {},
   "outputs": [],
   "source": [
    "test_df.to_csv(\"muril_tfidf_7000.csv\", index=False, header=False)"
   ]
  },
  {
   "cell_type": "code",
   "execution_count": null,
   "metadata": {},
   "outputs": [],
   "source": []
  }
 ],
 "metadata": {
  "kaggle": {
   "accelerator": "nvidiaTeslaT4",
   "dataSources": [
    {
     "datasetId": 6848383,
     "sourceId": 11155441,
     "sourceType": "datasetVersion"
    }
   ],
   "dockerImageVersionId": 30919,
   "isGpuEnabled": true,
   "isInternetEnabled": true,
   "language": "python",
   "sourceType": "notebook"
  },
  "kernelspec": {
   "display_name": "Python 3",
   "language": "python",
   "name": "python3"
  },
  "language_info": {
   "codemirror_mode": {
    "name": "ipython",
    "version": 3
   },
   "file_extension": ".py",
   "mimetype": "text/x-python",
   "name": "python",
   "nbconvert_exporter": "python",
   "pygments_lexer": "ipython3",
   "version": "3.12.5"
  }
 },
 "nbformat": 4,
 "nbformat_minor": 4
}

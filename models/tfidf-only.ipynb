{
 "cells": [
  {
   "cell_type": "code",
   "execution_count": 28,
   "metadata": {
    "_cell_guid": "b1076dfc-b9ad-4769-8c92-a6c4dae69d19",
    "_uuid": "8f2839f25d086af736a60e9eeb907d3b93b6e0e5",
    "execution": {
     "iopub.execute_input": "2025-03-26T04:14:37.580916Z",
     "iopub.status.busy": "2025-03-26T04:14:37.580631Z",
     "iopub.status.idle": "2025-03-26T04:14:39.913238Z",
     "shell.execute_reply": "2025-03-26T04:14:39.912232Z",
     "shell.execute_reply.started": "2025-03-26T04:14:37.580895Z"
    },
    "trusted": true
   },
   "outputs": [
    {
     "name": "stderr",
     "output_type": "stream",
     "text": [
      "[nltk_data] Downloading package stopwords to\n",
      "[nltk_data]     /Users/vishalthehuman/nltk_data...\n",
      "[nltk_data]   Package stopwords is already up-to-date!\n"
     ]
    },
    {
     "data": {
      "text/plain": [
       "True"
      ]
     },
     "execution_count": 28,
     "metadata": {},
     "output_type": "execute_result"
    }
   ],
   "source": [
    "import pandas as pd\n",
    "import numpy as np\n",
    "import matplotlib.pyplot as plt\n",
    "import seaborn as sns\n",
    "import re\n",
    "import emoji\n",
    "\n",
    "from sklearn.model_selection import train_test_split, cross_val_score, GridSearchCV, StratifiedKFold\n",
    "from sklearn.feature_extraction.text import TfidfVectorizer\n",
    "from sklearn.metrics import accuracy_score, f1_score, confusion_matrix\n",
    "from sklearn.ensemble import RandomForestClassifier, GradientBoostingClassifier, AdaBoostClassifier\n",
    "\n",
    "\n",
    "import re\n",
    "import emoji\n",
    "import pandas as pd\n",
    "from nltk.corpus import stopwords\n",
    "from wordsegment import load, segment\n",
    "\n",
    "\n",
    "import nltk\n",
    "from nltk.corpus import stopwords\n",
    "nltk.download('stopwords')"
   ]
  },
  {
   "cell_type": "code",
   "execution_count": 29,
   "metadata": {
    "execution": {
     "iopub.execute_input": "2025-03-26T04:14:39.915148Z",
     "iopub.status.busy": "2025-03-26T04:14:39.914608Z",
     "iopub.status.idle": "2025-03-26T04:14:43.944444Z",
     "shell.execute_reply": "2025-03-26T04:14:43.943581Z",
     "shell.execute_reply.started": "2025-03-26T04:14:39.915107Z"
    },
    "trusted": true
   },
   "outputs": [],
   "source": [
    "import pandas as pd\n",
    "from sklearn.model_selection import train_test_split\n",
    "from sklearn.feature_extraction.text import TfidfVectorizer\n",
    "from sklearn.ensemble import StackingClassifier, VotingClassifier\n",
    "from sklearn.linear_model import LogisticRegression\n",
    "from sklearn.naive_bayes import MultinomialNB\n",
    "from sklearn.svm import LinearSVC\n",
    "from sklearn.tree import DecisionTreeClassifier\n",
    "from sklearn.ensemble import RandomForestClassifier\n",
    "from xgboost import XGBClassifier\n",
    "from lightgbm import LGBMClassifier\n",
    "from sklearn.model_selection import StratifiedKFold\n",
    "from sklearn.metrics import accuracy_score, f1_score, confusion_matrix\n",
    "import seaborn as sns\n",
    "import matplotlib.pyplot as plt\n",
    "from tqdm import tqdm\n",
    "import numpy as np"
   ]
  },
  {
   "cell_type": "code",
   "execution_count": 30,
   "metadata": {
    "execution": {
     "iopub.execute_input": "2025-03-26T04:17:15.001766Z",
     "iopub.status.busy": "2025-03-26T04:17:15.001365Z",
     "iopub.status.idle": "2025-03-26T04:17:15.051208Z",
     "shell.execute_reply": "2025-03-26T04:17:15.050396Z",
     "shell.execute_reply.started": "2025-03-26T04:17:15.001737Z"
    },
    "trusted": true
   },
   "outputs": [
    {
     "data": {
      "application/vnd.microsoft.datawrangler.viewer.v0+json": {
       "columns": [
        {
         "name": "index",
         "rawType": "int64",
         "type": "integer"
        },
        {
         "name": "id",
         "rawType": "int64",
         "type": "integer"
        },
        {
         "name": "text",
         "rawType": "object",
         "type": "string"
        },
        {
         "name": "label",
         "rawType": "int64",
         "type": "integer"
        }
       ],
       "conversionMethod": "pd.DataFrame",
       "ref": "9aa7b3de-41e5-45ec-82e5-108cab1579d5",
       "rows": [
        [
         "0",
         "3268",
         "Indha ariya kandupidippin moolam neenga solla varum karuthu?",
         "0"
        ],
        [
         "1",
         "6239",
         " @vijayakumarp7959  unmai therincha nee pesu",
         "0"
        ],
        [
         "2",
         "5859",
         "Inga erukka yella dev... boys  vadakkan vadakkan solli prachanaiya avanungala kelappi vidudanunga eppa kelampidanunga eni Anga erukka velaiya enga erukka dev... Payalunga poi papanunga muthal pottu tholil panravanukkutha vali theriyum antha pakuthi yella velaikku alkitaikkama alayaporanunga",
         "1"
        ],
        [
         "3",
         "3519",
         "பீகாரி பிரசாந்த் கிஷோரிடம் கொடுத்த 350 கோடியை எப்படி வாங்கறது .அதான் இப்படி",
         "1"
        ],
        [
         "4",
         "5136",
         "Mumbai Bangalore la 80% percentage outsiders",
         "1"
        ],
        [
         "5",
         "3166",
         "யோவ் முதல்ல புரிஞ்சிக்க சிங்கப்பூர், மலேசிய Developed Country... And INDIA la Individual State Development panamaa other state la All Hindi people ah Job ku anuppi viitaa angaa irukkura own state people's ku job poidun basic fundamental rights poooidum and Political ah Tamilnadu wick aagidum... So konjam Realise Pannu Yoosi.. and ivlo years ilaama Why MODI period la ipdi nadakuthu yosi.. DIGITAL India nu summa solrnga so ithu thaaan DIGITAL INDIA VA ????? ALL STATE DEVELOP Aaganum athutha DEVELOP AND DIGITAL INDIA .",
         "1"
        ],
        [
         "6",
         "5581",
         "Elam fake news old news fraud news pota apdthan.pavam entha oorkarana iruntha ena olaikiran sambathikiran.",
         "0"
        ],
        [
         "7",
         "1404",
         "வடக்கன் வாய் மூடி இருக்குடா! தமிழா விழித்துக்கொள்! யாரும் அவர்களுக்கு வீடு வாடகைக்கு கொடுக்காதிர்கள்",
         "1"
        ],
        [
         "8",
         "1008",
         "paarkkaa rombaa vey kastamaa irukku ...tamilannaa tamil nattulaa irunthu vadakkans adichu thorathuraaa kaalaam vanthudumonnu payamaa irukku daa paarthaa",
         "0"
        ],
        [
         "9",
         "6659",
         "Iyya cinna vendu kol devar enathula biruvinai pesathigka kallar maravar agamudyar ellorum onnuthan  nammo eppadi pesrathunalathalathan ala aluku ennamalam pesragka mukklathor only",
         "0"
        ],
        [
         "10",
         "3675",
         "Ungaluku vantha ratham engaluku vantha thakali chatni ya",
         "0"
        ],
        [
         "11",
         "1503",
         "பாணி பூரி காரனோட வாங்கி குடிச்சாவது திருந்துங்கடா சாதி வேறி பிடித்த மட தமிழர்களா,,, சீமான் அண்ணாவுக்கு ஓட்ட போடுங்கடா  பரதெசி நாய்களா..",
         "1"
        ],
        [
         "12",
         "4474",
         "Harey mera vadakan wale  Definitely Tamilnadu soonly vadakans control this is future",
         "0"
        ],
        [
         "13",
         "3746",
         "நீன்க சொல்லறது எல்லாம் பொய் நானும் திருப்புர்தா",
         "0"
        ],
        [
         "14",
         "3620",
         "தமிழருக்கு இந்தமாதிரி பாதுகாப்பு கொடுக்காத நாய்களுக்கு.. வடமணிலத்தவருக்கு பாதுகாப்பு கொடுக்கிறீங்க.. மானங்கெட்ட..",
         "1"
        ],
        [
         "15",
         "686",
         "7:41 நீயும் செய் டா 40வேலையும் அவன் வந்து செய்யும் போது நீயும் செய் நீ செய்ய மாட்டா வடகன்ஸ் வந்த உனக்கு என் டா",
         "0"
        ],
        [
         "16",
         "5268",
         "Indha ariya kandupidippin moolam neenga solla varum karuthu?",
         "0"
        ],
        [
         "17",
         "3054",
         " @tamilstatus4613  oh kudigaraka sangam owner ah nee picha kara payaale",
         "1"
        ],
        [
         "18",
         "2866",
         "தாரவி, அசாம், நம்ம ஆளுக 10லச்சம் பேர் வெளிய இருகாங்க own business well settle north indians kku work kudukranga",
         "0"
        ],
        [
         "19",
         "4100",
         "It’s true!! Atleast now Tamilians woke up super... I have bad experience with North people... 10 years before When my father searching rented home in Chennai-01 sowkarpet  they openly said no home for Tamilians...  we should never encourage north people...",
         "0"
        ],
        [
         "20",
         "4767",
         "திருந்தவே மாட்டிங்களாடா எதுக்கு இந்த பதிவு இப்போ?",
         "0"
        ],
        [
         "21",
         "1484",
         "ஹிந்தி காரன உடனே வெளியேத்தணும் இல்லனா நாட்டுக்கு பெரும் ஆபத்து. கொரோனா விட மோசமானது",
         "1"
        ],
        [
         "22",
         "1416",
         "தமிழனிடம் இப்படி பேசிய இவனிடம் நஸட்ற ஈடாக ஒருகோடி பணம் வாங்கவேண்டும்",
         "0"
        ],
        [
         "23",
         "3439",
         "Tamilaga makkalai kurai sollade kattadavela pakradlendu Yella velayum pakran tamilnadu tamil nada irukanumna tamilanukku matum Vela kudu basa puriyada aalta nee Inna Vela vangi kilikka pora  innada pesriya ollu okra ipadikku nam tamilan seemanin vilutugal",
         "1"
        ],
        [
         "24",
         "714",
         "தமிழ் நாட்டில் 100 பேர் இருக்கிறோம் இங்கு 100 பேருக்கு வேலை வழங்க தேவையான தொழிற்சாலை இருந்தால் போதுமானது ஆனால் வேண்டும் என்றே 200 பேருக்கு வேலை வழங்க கூடிய தொழிற்சாலை ஏன் தமிழ் நாட்டில் அமைக்க வேண்டும் அப்போதுதான் செயற்க்கையான மனித வள பற்றாக்குறை ஏற்படுகிறது அதனால் வடக்கன்ஸ் தமிழ் நாட்டில் குடியேற்றம் நடை பெறுகிறது இது தெரியாமல் தமிழர்கள் குடிக்கு அடிமையாகி விட்டார்கள் சினிமா பின்னாடி சுற்றுகிறார்கள் என்று நம் மீது பழி போட்டு நம்மையே மூளை சலவை செய்கிறார்கள்.தமிழா விழித்து கொள்",
         "0"
        ],
        [
         "25",
         "499",
         "Naan Chennai il daan vazhgiren.\nSila vebarighalidamb pesinen.\nSolgiraar:tamizharghal somberi aagivittarghal adarku daan nanghal vadakkans vachirukkango.\nSindhiunghal",
         "0"
        ],
        [
         "26",
         "6037",
         "Nangal  entha variyum  vangavillai, unmai  therinthal  pesungal, proof  irunthal pesungal, engalitam  proof  ullathu.",
         "0"
        ],
        [
         "27",
         "3040",
         " @ManiKandan-yj4cx  nenga mudhala tamilana bro, ing nadpathai therinjum avanungalukku support pandringa",
         "1"
        ],
        [
         "28",
         "2883",
         "மசூதிகள் உளவு  துறை மூலம்  சங்கிகள் கட்டுப்பாட்டில்",
         "1"
        ],
        [
         "29",
         "7150",
         "எந்தனை நீதிமன்றங்கள் எத்தனை ஜட்ஜ்மெண்ட் கொடுத்தாலும் முதலில் நீங்கள் திருந்துங்கள்.",
         "0"
        ],
        [
         "30",
         "6864",
         "Dharmapuri Agamudaiyar Ezhil",
         "0"
        ],
        [
         "31",
         "206",
         "Itha pathaley sema ganda iruku anna namma oorula ivanunga ownera irukanuga namma innum oruthan kitta kai neeti sambalam vangittu irukom",
         "1"
        ],
        [
         "32",
         "7438",
         "The same way they invite christians sect and muslims sectlike this?",
         "0"
        ],
        [
         "33",
         "340",
         "sowcarpet elite vadakan first landed we celebrated them as pawnbroker now nothing to say",
         "0"
        ],
        [
         "34",
         "1205",
         " @samuraijosh1595  when did odisha, west bengal, jharkhand, bihar are part of North india",
         "0"
        ],
        [
         "35",
         "4140",
         "பிறமொழி பேசும் மக்களிடம் வரவு (கடைகளில் எந்த பொருளும் வாங்காதீர்கள்)செலவு வைத்துக் கொள்ளாதீர்கள் தமிழர்களே!",
         "1"
        ],
        [
         "36",
         "3998",
         "தமிழன் மேலயே நடவடிக்கை எடுங்கயா...👏",
         "0"
        ],
        [
         "37",
         "7491",
         "வழக்கமாக சைவம் மற்றும் வைணவம் இடையே சண்டை வரும் இப்போது வைணவத்துக்குள்ளயே சண்டை💪👊",
         "0"
        ],
        [
         "38",
         "3359",
         "super tamilan ini somberiya irukka maatan",
         "0"
        ],
        [
         "39",
         "1042",
         "Next cm should  EPS OPS or  SEEMAN  because they are only tamilans",
         "0"
        ],
        [
         "40",
         "4218",
         "இந்த பயம் எப்போதும் இருக்கனும்...  இனங்கி வாழ்வதை முட்டாள் தனமான எண்ணிணால் இது ஒரு நல்ல உதாரணம்.....",
         "1"
        ],
        [
         "41",
         "454",
         " your culture is Marying sister.      You telling moral value.....   Why you begging for money here lot of beggers in kerala is yours community..",
         "1"
        ],
        [
         "42",
         "3843",
         "இந்த பிரச்சினைகளை தொடங்கியது அதிமுக வா இல்ல பாஜகா வா என்றுஆராய்ச்சி செய்ய வேண்டும் .",
         "0"
        ],
        [
         "43",
         "5612",
         "முதளாலிகள் அவர்கள் தான் மட்டுமே உயரவேண்டும் என்ற நோக்கத்தில் தான் வடமானித்தான் வேலை செய்கிறான்",
         "0"
        ],
        [
         "44",
         "3388",
         "Dei holy celebration pana native place uh ku poranugaa ithu theriyama 😂...!",
         "0"
        ],
        [
         "45",
         "1148",
         " @RajKumar-sf8dl  good but epo oruthan Avan family ae maranthutu kudikarano Avan Avalo tha kudikalam thapu illa but alavuku merina amuthamum nanji thaan \n\nMore over Avan kudikaradhu Nala tha Avan Vela illama poche nu artham illa owner of the business 10k evan Vela senji irupan vadakan vanthutu 5k ku work panna varuvan owner ku 5k labam so Avan veliya anupitu vadakans uh ulla seathupanga\n\nVadakans ku padipu selavu illa 5k la Avan 1month ku vendiya porul vangipan chapathi mavu & Hans podhum avangaluku",
         "0"
        ],
        [
         "46",
         "1290",
         "திரைப்படங்களில் மட்டும் தமிழ் பையன்கள் ஹீரோக்களாகத் தெரிகிறார்கள், நிஜ வாழ்க்கையில் தமிழ்ப் பையன்கள் குழந்தைகளைப் போல் இருக்கிறார்கள். தாடி இல்லை, மீசை இல்லை, தைரியம் இல்லை, ஊக்கம் இல்லை, வலிமை இல்லை,",
         "1"
        ],
        [
         "47",
         "3727",
         "ஏன் அவங்க நாட்டில் வேலை செய்ய வேண்டியது தானே. இதே நிலமை நீடித்தால் தமிழ்நாடு அழிந்து விடும். வடக்கன்ஸ் நாடு முழுவதும் ஆக்கிரமிப்பு ஆகி விடும்.",
         "1"
        ],
        [
         "48",
         "6845",
         "கள்ளர் மறவர் கனத்ததொரு அகமுடையார் மெல்ல மெல்ல வெள்ளாளர் ஆகினரே.",
         "0"
        ],
        [
         "49",
         "618",
         "உங்கள் தமிழ் கடவுள் சோழ வம்சம்   உண்டாக்கியது எல்லாம் வடக்கில் இருந்து வந்தவர்கள் தான்.... போய் சோழர் மெய் கீர்த்தி படிங்க.... தமிழ் நாட்டில் உள்ள பல சமுதாயம் வடக்கில் இருந்து வந்தது தான்....",
         "0"
        ]
       ],
       "shape": {
        "columns": 3,
        "rows": 6299
       }
      },
      "text/html": [
       "<div>\n",
       "<style scoped>\n",
       "    .dataframe tbody tr th:only-of-type {\n",
       "        vertical-align: middle;\n",
       "    }\n",
       "\n",
       "    .dataframe tbody tr th {\n",
       "        vertical-align: top;\n",
       "    }\n",
       "\n",
       "    .dataframe thead th {\n",
       "        text-align: right;\n",
       "    }\n",
       "</style>\n",
       "<table border=\"1\" class=\"dataframe\">\n",
       "  <thead>\n",
       "    <tr style=\"text-align: right;\">\n",
       "      <th></th>\n",
       "      <th>id</th>\n",
       "      <th>text</th>\n",
       "      <th>label</th>\n",
       "    </tr>\n",
       "  </thead>\n",
       "  <tbody>\n",
       "    <tr>\n",
       "      <th>0</th>\n",
       "      <td>3268</td>\n",
       "      <td>Indha ariya kandupidippin moolam neenga solla ...</td>\n",
       "      <td>0</td>\n",
       "    </tr>\n",
       "    <tr>\n",
       "      <th>1</th>\n",
       "      <td>6239</td>\n",
       "      <td>@vijayakumarp7959  unmai therincha nee pesu</td>\n",
       "      <td>0</td>\n",
       "    </tr>\n",
       "    <tr>\n",
       "      <th>2</th>\n",
       "      <td>5859</td>\n",
       "      <td>Inga erukka yella dev... boys  vadakkan vadakk...</td>\n",
       "      <td>1</td>\n",
       "    </tr>\n",
       "    <tr>\n",
       "      <th>3</th>\n",
       "      <td>3519</td>\n",
       "      <td>பீகாரி பிரசாந்த் கிஷோரிடம் கொடுத்த 350 கோடியை ...</td>\n",
       "      <td>1</td>\n",
       "    </tr>\n",
       "    <tr>\n",
       "      <th>4</th>\n",
       "      <td>5136</td>\n",
       "      <td>Mumbai Bangalore la 80% percentage outsiders</td>\n",
       "      <td>1</td>\n",
       "    </tr>\n",
       "    <tr>\n",
       "      <th>...</th>\n",
       "      <td>...</td>\n",
       "      <td>...</td>\n",
       "      <td>...</td>\n",
       "    </tr>\n",
       "    <tr>\n",
       "      <th>6294</th>\n",
       "      <td>5860</td>\n",
       "      <td>This is done by those who want chaos in Tamil ...</td>\n",
       "      <td>0</td>\n",
       "    </tr>\n",
       "    <tr>\n",
       "      <th>6295</th>\n",
       "      <td>1441</td>\n",
       "      <td>வடமாநிலத்தவருக்கு வேலை வாய்ப்பு கொடுப்பதை ,பணி...</td>\n",
       "      <td>0</td>\n",
       "    </tr>\n",
       "    <tr>\n",
       "      <th>6296</th>\n",
       "      <td>3253</td>\n",
       "      <td>நம்ம மேல எந்த தப்பும் இல்லை.... ஏன் என்றால் நா...</td>\n",
       "      <td>0</td>\n",
       "    </tr>\n",
       "    <tr>\n",
       "      <th>6297</th>\n",
       "      <td>4295</td>\n",
       "      <td>தம்பி உத்திரபிரதேசம் டெல்லி எல்லையில் உள்ள 90%...</td>\n",
       "      <td>1</td>\n",
       "    </tr>\n",
       "    <tr>\n",
       "      <th>6298</th>\n",
       "      <td>7303</td>\n",
       "      <td>ஸ்ட்ரைட்டா மூக்கை தொட சங்கடப்பட்டுட்டு... தலைய...</td>\n",
       "      <td>0</td>\n",
       "    </tr>\n",
       "  </tbody>\n",
       "</table>\n",
       "<p>6299 rows × 3 columns</p>\n",
       "</div>"
      ],
      "text/plain": [
       "        id                                               text  label\n",
       "0     3268  Indha ariya kandupidippin moolam neenga solla ...      0\n",
       "1     6239        @vijayakumarp7959  unmai therincha nee pesu      0\n",
       "2     5859  Inga erukka yella dev... boys  vadakkan vadakk...      1\n",
       "3     3519  பீகாரி பிரசாந்த் கிஷோரிடம் கொடுத்த 350 கோடியை ...      1\n",
       "4     5136       Mumbai Bangalore la 80% percentage outsiders      1\n",
       "...    ...                                                ...    ...\n",
       "6294  5860  This is done by those who want chaos in Tamil ...      0\n",
       "6295  1441  வடமாநிலத்தவருக்கு வேலை வாய்ப்பு கொடுப்பதை ,பணி...      0\n",
       "6296  3253  நம்ம மேல எந்த தப்பும் இல்லை.... ஏன் என்றால் நா...      0\n",
       "6297  4295  தம்பி உத்திரபிரதேசம் டெல்லி எல்லையில் உள்ள 90%...      1\n",
       "6298  7303  ஸ்ட்ரைட்டா மூக்கை தொட சங்கடப்பட்டுட்டு... தலைய...      0\n",
       "\n",
       "[6299 rows x 3 columns]"
      ]
     },
     "execution_count": 30,
     "metadata": {},
     "output_type": "execute_result"
    }
   ],
   "source": [
    "# ---------------------------\n",
    "# 1. Load and Combine Datasets\n",
    "# ---------------------------\n",
    "train_df = pd.read_csv(\"original/train.csv\")\n",
    "dev_df = pd.read_csv(\"original/dev.csv\")\n",
    "df = pd.concat([train_df, dev_df], ignore_index=True)\n",
    "df"
   ]
  },
  {
   "cell_type": "code",
   "execution_count": 31,
   "metadata": {
    "execution": {
     "iopub.execute_input": "2025-03-26T04:17:21.153398Z",
     "iopub.status.busy": "2025-03-26T04:17:21.153104Z",
     "iopub.status.idle": "2025-03-26T04:17:21.160576Z",
     "shell.execute_reply": "2025-03-26T04:17:21.159581Z",
     "shell.execute_reply.started": "2025-03-26T04:17:21.153376Z"
    },
    "trusted": true
   },
   "outputs": [
    {
     "data": {
      "text/plain": [
       "label\n",
       "0    3900\n",
       "1    2399\n",
       "Name: count, dtype: int64"
      ]
     },
     "execution_count": 31,
     "metadata": {},
     "output_type": "execute_result"
    }
   ],
   "source": [
    "df[\"label\"].value_counts()"
   ]
  },
  {
   "cell_type": "code",
   "execution_count": 32,
   "metadata": {
    "execution": {
     "iopub.execute_input": "2025-03-25T03:09:39.619350Z",
     "iopub.status.busy": "2025-03-25T03:09:39.618898Z",
     "iopub.status.idle": "2025-03-25T03:09:40.926172Z",
     "shell.execute_reply": "2025-03-25T03:09:40.925339Z",
     "shell.execute_reply.started": "2025-03-25T03:09:39.619311Z"
    },
    "trusted": true
   },
   "outputs": [
    {
     "data": {
      "application/vnd.microsoft.datawrangler.viewer.v0+json": {
       "columns": [
        {
         "name": "index",
         "rawType": "int64",
         "type": "integer"
        },
        {
         "name": "id",
         "rawType": "int64",
         "type": "integer"
        },
        {
         "name": "text",
         "rawType": "object",
         "type": "string"
        },
        {
         "name": "label",
         "rawType": "int64",
         "type": "integer"
        },
        {
         "name": "clean_text",
         "rawType": "object",
         "type": "string"
        }
       ],
       "conversionMethod": "pd.DataFrame",
       "ref": "a2e97ad4-f244-42f0-938d-4ade08e3e1af",
       "rows": [
        [
         "3413",
         "6162",
         "​ @srikanth3505  யோவ் உன் கதையை பேசு. ஏன் சர்ச் கிட்ட முட்டுற? சர்ச்சில் இப்படி தான் பண்ணுறாங்களா? அறிவுகெட்ட தனமா பதிவு போடாதே...",
         "0",
         "​ <USER> யோவ் கதையை பேசு. சர்ச் கிட்ட முட்டுற? சர்ச்சில் இப்படி பண்ணுறாங்களா? அறிவுகெட்ட தனமா பதிவு போடாதே..."
        ],
        [
         "3154",
         "1621",
         "இப்பதான் நான் பச்சை தமிழர்களைப்பார்க்கிறேன் .வாழத்துக்கள்.",
         "0",
         "இப்பதான் பச்சை தமிழர்களைப்பார்க்கிறேன் .வாழத்துக்கள்."
        ],
        [
         "4593",
         "3227",
         "Dei avanunga Inga vandhu namma makkaluku Vela thara koodathu nu solli porattam panraanga",
         "0",
         "Dei avanunga Inga vandhu namma makkaluku Vela thara koodathu nu solli porattam panraanga"
        ],
        [
         "5065",
         "4939",
         " @gowthamvasu1630  bro ,avanga epadi contact panrathu ,engalukum vidu katanum 15L veetu katrathula 7L avanga salary ah kekuranga ,avalom mudiyathuna pathilaiye vitu tu poiduranga ,ENODA veetu pakathu la epadi tha veetu tu poitanga ,",
         "0",
         "<USER> bro ,avanga epadi contact panrathu ,engalukum vidu katanum 15L veetu katrathula 7L avanga salary ah kekuranga ,avalom mudiyathuna pathilaiye vitu tu poiduranga ,ENODA veetu pakathu la epadi tha veetu tu poitanga ,"
        ],
        [
         "1628",
         "4510",
         "உட்கார இடம் கேட்டான் 🙁🙂கொடுத்தேன்  வந்தாரை வாழ வைக்கும் தமிழ் நாட்டை சேர்ந்தவன்😎😇 என்பதால்., அவன் உட்கார மட்டும் தான் செய்வான் என்று 🤔நினைத்தேன்.,அவன் புத்தியை 😈☠️காட்டி விட்டான்., என் இடத்தில் வந்து அவன் குடும்பத்தோடு 👨‍👩‍👦‍👦👨‍👩‍👧‍👧👨‍👩‍👧‍👦வந்து படுத்து கொண்டான் அவன் யார்?",
         "0",
         "உட்கார கேட்டான் slightly_frowning_face slightly_smiling_face கொடுத்தேன் வந்தாரை வாழ வைக்கும் தமிழ் நாட்டை சேர்ந்தவன் smiling_face_with_sunglasses smiling_face_with_halo என்பதால்., உட்கார செய்வான் thinking_face நினைத்தேன்.,அவன் புத்தியை smiling_face_with_horns skull_and_crossbones காட்டி விட்டான்., குடும்பத்தோடு family_man_woman_boy_boy family_man_woman_girl_girl family_man_woman_girl_boy படுத்து கொண்டான் யார்?"
        ],
        [
         "4001",
         "4056",
         "இதை சொல்லீட்டே பெருமைபீத்தீட்டு போக வேண்டியதுதான்.  அவன் சரிங்க சரிங்கன்னு செல்லீட்டு சமயம் பாத்து நைட்டோட நைட்டா அவனுக ஆட்களை வரச்சொல்லி நம்ம ஆளுகளை  கண்டைணர் வண்டிலெ தூக்கிட்டு போய் முதிச்சு கொல்லுவான்,  இந்த நாய்களுக்கு நாம் தமிழர் கட்சிகாரர் எல்லாம் வேஸ்ட் விடுதலைசிறுத்தைகள் கட்சி காரர்கள் கிட்ட பேசியிருந்தான்ன ஹிந்திக்காரன் நாயை நார்நார்ரா கிழிச்சுதொங்கபோட்டு கோர்ட்டில் சரண்டர் ஆகியிருப்பார்கள்..",
         "1",
         "சொல்லீட்டே பெருமைபீத்தீட்டு போக வேண்டியதுதான். சரிங்க சரிங்கன்னு செல்லீட்டு சமயம் பாத்து நைட்டோட நைட்டா அவனுக ஆட்களை வரச்சொல்லி நம்ம ஆளுகளை கண்டைணர் வண்டிலெ தூக்கிட்டு போய் முதிச்சு கொல்லுவான், நாய்களுக்கு தமிழர் கட்சிகாரர் வேஸ்ட் விடுதலைசிறுத்தைகள் கட்சி காரர்கள் கிட்ட பேசியிருந்தான்ன ஹிந்திக்காரன் நாயை நார்நார்ரா கிழிச்சுதொங்கபோட்டு கோர்ட்டில் சரண்டர் ஆகியிருப்பார்கள்.."
        ],
        [
         "5565",
         "384",
         "ஒருநாளைக்கு ஒருநாள் வேரறுக்க தயாராவோம்",
         "0",
         "ஒருநாளைக்கு ஒருநாள் வேரறுக்க தயாராவோம்"
        ],
        [
         "473",
         "5558",
         "Poi sompu thukkunga da sunni media pundainga 😡😡😡😡😡😡😡😡😡😡😡😡😡",
         "1",
         "Poi sompu thukkunga da sunni media pundainga enraged_face enraged_face enraged_face enraged_face enraged_face enraged_face enraged_face enraged_face enraged_face enraged_face enraged_face enraged_face enraged_face"
        ],
        [
         "3470",
         "5823",
         "Aade muttale holi pandigai mudinthathum varuvanga",
         "0",
         "Aade muttale holi pandigai mudinthathum varuvanga"
        ],
        [
         "925",
         "2590",
         "வடக்கன்கள் உங்கள் மாநிலங்களில் வேலை பார்த்துக் கொள்ளுங்கள் சிறந்த வேலைகளாக",
         "1",
         "வடக்கன்கள் உங்கள் மாநிலங்களில் வேலை பார்த்துக் கொள்ளுங்கள் சிறந்த வேலைகளாக"
        ],
        [
         "5092",
         "5436",
         "திருப்பூர்ல இவங்கே இல்லனா கம்பெனியே இயங்காத மாறி  வந்துருச்சு நெறைய தமிழர்களுக்கு வேலையே இல்லாம போச்சு அவங்க மாநிலத்துல வேலையே இல்லையா என்ன பண்ணுது அந்த மாநில அரசாங்கம் 🤔",
         "0",
         "திருப்பூர்ல இவங்கே இல்லனா கம்பெனியே இயங்காத மாறி வந்துருச்சு நெறைய தமிழர்களுக்கு வேலையே இல்லாம போச்சு அவங்க மாநிலத்துல வேலையே இல்லையா பண்ணுது மாநில அரசாங்கம் thinking_face"
        ],
        [
         "751",
         "2065",
         "Phone panni pesunalea sorry kettu irruppan...",
         "0",
         "Phone panni pesunalea sorry kettu irruppan..."
        ],
        [
         "5661",
         "7170",
         "எனக்கு தெரிந்து நான் பார்த்து இந்த கோவிலில் வடகரையில் உள்ள வர்கள் பக்கா நாமம் போட்ட புள்ளங்கே",
         "0",
         "தெரிந்து பார்த்து கோவிலில் வடகரையில் வர்கள் பக்கா நாமம் போட்ட புள்ளங்கே"
        ],
        [
         "2146",
         "3014",
         "No bro தமிழனுக்கு தேவிடன் தான் எதிரி ஆனால் அவனும் தமிழ்தான் பேசுவான் தமிழனுக்கு எதிராதான் வேலை செய்வான்",
         "1",
         "bro தமிழனுக்கு தேவிடன் எதிரி ஆனால் அவனும் தமிழ்தான் பேசுவான் தமிழனுக்கு எதிராதான் வேலை செய்வான்"
        ],
        [
         "207",
         "2707",
         "வடக்கனாவது தெக்கனாவது.. எங்களுக்கென்ன மயிரா போச்சு… நாங்க தல தளபதியோட அடுத்த படத்துக்கு பால் அபிஷேகம் எப்படி க்ரேண்டா பண்ணலாம்னு ப்ளேன் பண்ணிட்டிருக்கோம் 😂",
         "1",
         "வடக்கனாவது தெக்கனாவது.. எங்களுக்கென்ன மயிரா போச்சு… நாங்க தல தளபதியோட படத்துக்கு பால் அபிஷேகம் எப்படி க்ரேண்டா பண்ணலாம்னு ப்ளேன் பண்ணிட்டிருக்கோம் face_with_tears_of_joy"
        ],
        [
         "3904",
         "641",
         "அதான் நம் மனநிலை. இந்த ஊரின் மேல் உரிமையுள்ள பூர்வ குடிகளை பார்த்தால் தான் பயம் வரும்..சந்தேகம் வரும்.. கோவம் வரும்... சொந்த மக்கள் மீது வராத பரிதாபம் மற்றவர் மேல் வரும்..",
         "0",
         "அதான் நம் மனநிலை. ஊரின் உரிமையுள்ள பூர்வ குடிகளை பார்த்தால் பயம் வரும்..சந்தேகம் வரும்.. கோவம் வரும்... சொந்த மக்கள் வராத பரிதாபம் மற்றவர் வரும்.."
        ],
        [
         "1529",
         "458",
         " India is all due for its census. It should have happened in 2021 but due to pandemic it's delayed. A caste based census across all states in India with financial situations been collected, it will put an end lot of unnecessary rants and raves.",
         "0",
         "India due census. happened 2021 due pandemic delayed. caste based census across states India financial situations collected, put end lot unnecessary rants raves."
        ],
        [
         "3427",
         "1374",
         "Iya namba tamilanukku free vendam konjam ulaika katru kudunga",
         "0",
         "Iya namba tamilanukku free vendam konjam ulaika katru kudunga"
        ],
        [
         "391",
         "3487",
         "இவன் பேசறது எதுவும் புரியுதா உங்களுக்கு",
         "0",
         "இவன் பேசறது எதுவும் புரியுதா உங்களுக்கு"
        ],
        [
         "2061",
         "3405",
         "தமிழன் நாசமா போனா ஒங்களுக்கு என்ன வடநாட்டு காரன் நல்லா இருந்தா போதும்",
         "1",
         "தமிழன் நாசமா போனா ஒங்களுக்கு வடநாட்டு காரன் நல்லா இருந்தா போதும்"
        ],
        [
         "3514",
         "3115",
         "American's Indians ah epdi pakurangalo athe Mari than nambalum North IND ah pakrom same ithu thappu na athuvum thappu than ... Ellam intha oru Jaan vayathuku than panjam polaika porom so ,thappu illa ... Dharavi la kuda tamilargal entha reason kaga ponangalo anthe than ithum .",
         "1",
         "American's Indians ah epdi pakurangalo athe Mari nambalum North IND ah pakrom ithu thappu na athuvum thappu ... Ellam intha oru Jaan vayathuku panjam polaika porom ,thappu illa ... Dharavi la kuda tamilargal entha reason kaga ponangalo anthe ithum ."
        ],
        [
         "4268",
         "1468",
         "அண்ணா... தயவு செய்து இந்த தமிழ் நாட்ட விட்டு வடக்கனுங்கள விரட்டி அடித்து ஓட விடுணே.....",
         "1",
         "அண்ணா... தயவு செய்து தமிழ் நாட்ட வடக்கனுங்கள விரட்டி அடித்து ஓட விடுணே....."
        ],
        [
         "3206",
         "7128",
         "தொழுவ வேளாளர் என்போர் துளுவவேளாள அகமுடையார் ஜாதியைச் சேர்ந்தவர்கள்......",
         "0",
         "தொழுவ வேளாளர் என்போர் துளுவவேளாள அகமுடையார் ஜாதியைச் சேர்ந்தவர்கள்......"
        ],
        [
         "2831",
         "4546",
         "Useless videos ivanunga namma mandaya kaluva pakkurankya waste padam",
         "1",
         "Useless videos ivanunga namma mandaya kaluva pakkurankya waste padam"
        ],
        [
         "3864",
         "2958",
         "Rombha kevalaa padutharangi North Indians ; Avangalak aage work ellana tha ekke vaaranga , rombha hatred spread pana ringA",
         "0",
         "Rombha kevalaa padutharangi North Indians ; Avangalak aage work ellana tha ekke vaaranga , rombha hatred spread pana ringA"
        ],
        [
         "2612",
         "6049",
         "நீ சொன்னாலும் சொல்லா விட்டாலும்.... எவனும் போய் அடுத்த சாதி கிட்ட வரி கேக்க மாட்டாங்க.... ஏதோ பேசற னு பேசாத 🤦🤦",
         "1",
         "சொன்னாலும் சொல்லா விட்டாலும்.... எவனும் போய் சாதி கிட்ட வரி கேக்க மாட்டாங்க.... ஏதோ பேசற னு பேசாத person_facepalming person_facepalming"
        ],
        [
         "5067",
         "2284",
         "தமிழர்கள் பிற மொழியாளர்களுக்கு இடத்தை விற்காதீர்கள் சிறுது சிறுதாக அவர்கள் நம்மை ஆதிக்கம் செலுத்தி பிறகு நம்மை அடிமை ஆக்கி விடுவார்கள்",
         "1",
         "தமிழர்கள் மொழியாளர்களுக்கு இடத்தை விற்காதீர்கள் சிறுது சிறுதாக நம்மை ஆதிக்கம் செலுத்தி நம்மை அடிமை ஆக்கி விடுவார்கள்"
        ],
        [
         "2871",
         "715",
         "தம்பி இன்னும் பத்து வருடங்களில் நாம் தமிழ் நாட்டிலிருந்து விரட்டப்படுவோம் அதற்குள் தமிழர்கள் சுதாரித்துக்கொண்டால் தப்பிக்கலாம்.",
         "0",
         "தம்பி பத்து வருடங்களில் தமிழ் நாட்டிலிருந்து விரட்டப்படுவோம் அதற்குள் தமிழர்கள் சுதாரித்துக்கொண்டால் தப்பிக்கலாம்."
        ],
        [
         "2144",
         "5842",
         "Dey avan poora ottu poda poranda!!!🤣🤣🤣",
         "0",
         "Dey avan poora ottu poda poranda!!! rolling_on_the_floor_laughing rolling_on_the_floor_laughing rolling_on_the_floor_laughing"
        ],
        [
         "779",
         "7022",
         " @cholavelalar6889  2022-ல் உன்னை வெட்டப்படும் முக்குலத்தோர் தேவன் டா 🔰🔰🔰🔥🔥🔥",
         "0",
         "<USER> 2022 ல் உன்னை வெட்டப்படும் முக்குலத்தோர் தேவன் டா Japanese_symbol_for_beginner Japanese_symbol_for_beginner Japanese_symbol_for_beginner fire fire fire"
        ],
        [
         "2949",
         "3389",
         "Yovv aveingalavadhu poradhavadhu aveinga Holi kondada porainga aveinga oorukku ninga vera🤦🤦🤦🤦",
         "0",
         "Yovv aveingalavadhu poradhavadhu aveinga Holi kondada porainga aveinga oorukku ninga vera person_facepalming person_facepalming person_facepalming person_facepalming"
        ],
        [
         "2453",
         "6397",
         "Nagapdhaniya nagapadanya moment.... ida ellam oru prachanaya da...romba kashtamda saami..",
         "0",
         "Nagapdhaniya nagapadanya moment.... ida ellam oru prachanaya da...romba kashtamda saami.."
        ],
        [
         "813",
         "6571",
         "அப்போ 16% தமிழர்கள் அந்தபுரத்துல இருத்தங்களோ, ப்பா பல்லப்பயுகளுக்கு என்னா கற்பனை..",
         "1",
         "அப்போ 16% தமிழர்கள் அந்தபுரத்துல இருத்தங்களோ, ப்பா பல்லப்பயுகளுக்கு என்னா கற்பனை.."
        ],
        [
         "2462",
         "1328",
         "Mumbai dhaaravi la inniki tamil peoples support illama cm aaga mudiyaathu ....apprm kolkata rajasthan and banglore la paadhi peru tamil iirukaanga",
         "0",
         "Mumbai dhaaravi la inniki tamil peoples support illama cm aaga mudiyaathu ....apprm kolkata rajasthan banglore la paadhi peru tamil iirukaanga"
        ],
        [
         "2339",
         "1063",
         " @TamilEelam1  tamils Were There since 18000 bc in lanka...",
         "0",
         "<USER> tamils since 18000 bc lanka..."
        ],
        [
         "912",
         "7224",
         "இந்த வடகலை தென்கலை சுவாமிகள்  சண்டையில் வன்முறை மிகவும் குறைவு. ஆனால் ஷியா சுன்னி மற்றும் கிரித்துவ சாதிகள்‌ ஒருவருக்கொருவர் கொன்று சாகிறார்கள். அது பற்றி பேசேண்டா‌ வந்தேறி நாயே",
         "1",
         "வடகலை தென்கலை சுவாமிகள் சண்டையில் வன்முறை குறைவு. ஆனால் ஷியா சுன்னி கிரித்துவ சாதிகள்‌ ஒருவருக்கொருவர் கொன்று சாகிறார்கள். பேசேண்டா‌ வந்தேறி நாயே"
        ],
        [
         "6249",
         "5532",
         "தமிழன் அடிபட்டா கேட்க ஒருத்தன் இல்ல திருட்டு நாய்ங்க போறதுக்கு எவ்ளோ விளம்பரம் டா",
         "1",
         "தமிழன் அடிபட்டா கேட்க ஒருத்தன் இல்ல திருட்டு நாய்ங்க போறதுக்கு எவ்ளோ விளம்பரம் டா"
        ],
        [
         "2899",
         "6330",
         "அவனவன் சாதியெ அவனவன்  தூக்கி பேசுவது  கிணற்று தவளைகளுக்கு  சமம்",
         "0",
         "அவனவன் சாதியெ அவனவன் தூக்கி பேசுவது கிணற்று தவளைகளுக்கு சமம்"
        ],
        [
         "4367",
         "5158",
         "பிழைக்க வழி தேடி வருபவர்கள்  பிழைக்கட்டும் வந்தாரை வாழ வைக்கும் தமிழ் நாடு இது , ஆனால் பிழைக்க வந்த இடத்தில் யாருக்கும் எந்த பிரச்சனையும் கொடுக்காமல் இருந்தால் அது போதும் இடத்தை சுத்தமாக வைக்காட்டாலும் எச்சி ஐ கண்ட இடத்தில் துப்பாம இருந்தா போதும்",
         "1",
         "பிழைக்க வழி தேடி வருபவர்கள் பிழைக்கட்டும் வந்தாரை வாழ வைக்கும் தமிழ் நாடு , ஆனால் பிழைக்க யாருக்கும் பிரச்சனையும் கொடுக்காமல் இருந்தால் போதும் இடத்தை சுத்தமாக வைக்காட்டாலும் எச்சி ஐ கண்ட துப்பாம இருந்தா போதும்"
        ],
        [
         "48",
         "6845",
         "கள்ளர் மறவர் கனத்ததொரு அகமுடையார் மெல்ல மெல்ல வெள்ளாளர் ஆகினரே.",
         "0",
         "கள்ளர் மறவர் கனத்ததொரு அகமுடையார் மெல்ல மெல்ல வெள்ளாளர் ஆகினரே."
        ],
        [
         "2084",
         "706",
         "What do you mean? Are you saying that North Indian women dress inappropriately?",
         "1",
         "mean? saying North Indian women dress inappropriately?"
        ],
        [
         "2033",
         "5535",
         "Pora pokka patha nama avangakitta (vadakans) kaiyeanthanum pola🙄💯....",
         "1",
         "Pora pokka patha nama avangakitta (vadakans) kaiyeanthanum pola face_with_rolling_eyes hundred_points ...."
        ],
        [
         "4441",
         "1155",
         "வேற என்ன பண்றது உலகம் எல்லாத்துக்கும் சொந்தம்தான",
         "0",
         "வேற பண்றது உலகம் எல்லாத்துக்கும் சொந்தம்தான"
        ],
        [
         "1195",
         "3734",
         "போங்கடா மாமா பயலுகளா நாட்டை மட்டும் இல்லை உங்க வீட்டையும் சேர்த்து .....கொடுங்கடா",
         "1",
         "போங்கடா மாமா பயலுகளா நாட்டை இல்லை உங்க வீட்டையும் சேர்த்து .....கொடுங்கடா"
        ],
        [
         "2705",
         "5665",
         "Naya modalla Tamil makkaluku padukukapu kodunka",
         "1",
         "Naya modalla Tamil makkaluku padukukapu kodunka"
        ],
        [
         "3936",
         "4914",
         "Nalla irukenu soluve.. yenda avanunga inga vandhu vela dhanada seiranunga.. yen unaku vela kadaiklana unoda iruka puthisali tamilar nala uzhaikura tamilara adichi thorathirviya..therama irundha polachipanga yara irundhalum..suma indha mattamana mananilaya vidunga da",
         "1",
         "Nalla irukenu soluve.. yenda avanunga inga vandhu vela dhanada seiranunga.. yen unaku vela kadaiklana unoda iruka puthisali tamilar nala uzhaikura tamilara adichi thorathirviya..therama irundha polachipanga yara irundhalum..suma indha mattamana mananilaya vidunga da"
        ],
        [
         "3663",
         "2660",
         "The problem is we don't have some minimum line for the pay.. that is why we (Tamil people) try to fool North Indians by giving small wage..",
         "0",
         "problem minimum line pay.. (Tamil people) try fool North Indians giving small wage.."
        ],
        [
         "1043",
         "2635",
         "Ithave nee poi avanga ooruka keludaa.m#### Mari pannitu irukinga",
         "1",
         "Ithave nee poi avanga ooruka keludaa.m#### Mari pannitu irukinga"
        ],
        [
         "3727",
         "7363",
         "இந்த வைஷ்ணவர்கள் சிவன் கோயில்களுக்குள் நுழைய மாட்டார்கள் இல்லேயா...நல்லா வேணும்",
         "1",
         "வைஷ்ணவர்கள் சிவன் கோயில்களுக்குள் நுழைய மாட்டார்கள் இல்லேயா...நல்லா வேணும்"
        ],
        [
         "2804",
         "4183",
         " @chiranjeevim5604  anga irukura tamizhar gal ivana mathiri politics velaya seiraanga.... thinra sothuku unmaya thana uzhaikiraanga...Ivanum olunga velaya parthukittu irundha yen pirachnai varudhu..",
         "0",
         "<USER> anga irukura tamizhar gal ivana mathiri politics velaya seiraanga.... thinra sothuku unmaya thana uzhaikiraanga...Ivanum olunga velaya parthukittu irundha yen pirachnai varudhu.."
        ]
       ],
       "shape": {
        "columns": 4,
        "rows": 50
       }
      },
      "text/html": [
       "<div>\n",
       "<style scoped>\n",
       "    .dataframe tbody tr th:only-of-type {\n",
       "        vertical-align: middle;\n",
       "    }\n",
       "\n",
       "    .dataframe tbody tr th {\n",
       "        vertical-align: top;\n",
       "    }\n",
       "\n",
       "    .dataframe thead th {\n",
       "        text-align: right;\n",
       "    }\n",
       "</style>\n",
       "<table border=\"1\" class=\"dataframe\">\n",
       "  <thead>\n",
       "    <tr style=\"text-align: right;\">\n",
       "      <th></th>\n",
       "      <th>id</th>\n",
       "      <th>text</th>\n",
       "      <th>label</th>\n",
       "      <th>clean_text</th>\n",
       "    </tr>\n",
       "  </thead>\n",
       "  <tbody>\n",
       "    <tr>\n",
       "      <th>3413</th>\n",
       "      <td>6162</td>\n",
       "      <td>​ @srikanth3505  யோவ் உன் கதையை பேசு. ஏன் சர்ச...</td>\n",
       "      <td>0</td>\n",
       "      <td>​ &lt;USER&gt; யோவ் கதையை பேசு. சர்ச் கிட்ட முட்டுற?...</td>\n",
       "    </tr>\n",
       "    <tr>\n",
       "      <th>3154</th>\n",
       "      <td>1621</td>\n",
       "      <td>இப்பதான் நான் பச்சை தமிழர்களைப்பார்க்கிறேன் .வ...</td>\n",
       "      <td>0</td>\n",
       "      <td>இப்பதான் பச்சை தமிழர்களைப்பார்க்கிறேன் .வாழத்த...</td>\n",
       "    </tr>\n",
       "    <tr>\n",
       "      <th>4593</th>\n",
       "      <td>3227</td>\n",
       "      <td>Dei avanunga Inga vandhu namma makkaluku Vela ...</td>\n",
       "      <td>0</td>\n",
       "      <td>Dei avanunga Inga vandhu namma makkaluku Vela ...</td>\n",
       "    </tr>\n",
       "    <tr>\n",
       "      <th>5065</th>\n",
       "      <td>4939</td>\n",
       "      <td>@gowthamvasu1630  bro ,avanga epadi contact p...</td>\n",
       "      <td>0</td>\n",
       "      <td>&lt;USER&gt; bro ,avanga epadi contact panrathu ,eng...</td>\n",
       "    </tr>\n",
       "    <tr>\n",
       "      <th>1628</th>\n",
       "      <td>4510</td>\n",
       "      <td>உட்கார இடம் கேட்டான் 🙁🙂கொடுத்தேன்  வந்தாரை வாழ...</td>\n",
       "      <td>0</td>\n",
       "      <td>உட்கார கேட்டான் slightly_frowning_face slightl...</td>\n",
       "    </tr>\n",
       "    <tr>\n",
       "      <th>4001</th>\n",
       "      <td>4056</td>\n",
       "      <td>இதை சொல்லீட்டே பெருமைபீத்தீட்டு போக வேண்டியதுத...</td>\n",
       "      <td>1</td>\n",
       "      <td>சொல்லீட்டே பெருமைபீத்தீட்டு போக வேண்டியதுதான்....</td>\n",
       "    </tr>\n",
       "    <tr>\n",
       "      <th>5565</th>\n",
       "      <td>384</td>\n",
       "      <td>ஒருநாளைக்கு ஒருநாள் வேரறுக்க தயாராவோம்</td>\n",
       "      <td>0</td>\n",
       "      <td>ஒருநாளைக்கு ஒருநாள் வேரறுக்க தயாராவோம்</td>\n",
       "    </tr>\n",
       "    <tr>\n",
       "      <th>473</th>\n",
       "      <td>5558</td>\n",
       "      <td>Poi sompu thukkunga da sunni media pundainga 😡...</td>\n",
       "      <td>1</td>\n",
       "      <td>Poi sompu thukkunga da sunni media pundainga e...</td>\n",
       "    </tr>\n",
       "    <tr>\n",
       "      <th>3470</th>\n",
       "      <td>5823</td>\n",
       "      <td>Aade muttale holi pandigai mudinthathum varuvanga</td>\n",
       "      <td>0</td>\n",
       "      <td>Aade muttale holi pandigai mudinthathum varuvanga</td>\n",
       "    </tr>\n",
       "    <tr>\n",
       "      <th>925</th>\n",
       "      <td>2590</td>\n",
       "      <td>வடக்கன்கள் உங்கள் மாநிலங்களில் வேலை பார்த்துக்...</td>\n",
       "      <td>1</td>\n",
       "      <td>வடக்கன்கள் உங்கள் மாநிலங்களில் வேலை பார்த்துக்...</td>\n",
       "    </tr>\n",
       "    <tr>\n",
       "      <th>5092</th>\n",
       "      <td>5436</td>\n",
       "      <td>திருப்பூர்ல இவங்கே இல்லனா கம்பெனியே இயங்காத மா...</td>\n",
       "      <td>0</td>\n",
       "      <td>திருப்பூர்ல இவங்கே இல்லனா கம்பெனியே இயங்காத மா...</td>\n",
       "    </tr>\n",
       "    <tr>\n",
       "      <th>751</th>\n",
       "      <td>2065</td>\n",
       "      <td>Phone panni pesunalea sorry kettu irruppan...</td>\n",
       "      <td>0</td>\n",
       "      <td>Phone panni pesunalea sorry kettu irruppan...</td>\n",
       "    </tr>\n",
       "    <tr>\n",
       "      <th>5661</th>\n",
       "      <td>7170</td>\n",
       "      <td>எனக்கு தெரிந்து நான் பார்த்து இந்த கோவிலில் வட...</td>\n",
       "      <td>0</td>\n",
       "      <td>தெரிந்து பார்த்து கோவிலில் வடகரையில் வர்கள் பக...</td>\n",
       "    </tr>\n",
       "    <tr>\n",
       "      <th>2146</th>\n",
       "      <td>3014</td>\n",
       "      <td>No bro தமிழனுக்கு தேவிடன் தான் எதிரி ஆனால் அவன...</td>\n",
       "      <td>1</td>\n",
       "      <td>bro தமிழனுக்கு தேவிடன் எதிரி ஆனால் அவனும் தமிழ...</td>\n",
       "    </tr>\n",
       "    <tr>\n",
       "      <th>207</th>\n",
       "      <td>2707</td>\n",
       "      <td>வடக்கனாவது தெக்கனாவது.. எங்களுக்கென்ன மயிரா போ...</td>\n",
       "      <td>1</td>\n",
       "      <td>வடக்கனாவது தெக்கனாவது.. எங்களுக்கென்ன மயிரா போ...</td>\n",
       "    </tr>\n",
       "    <tr>\n",
       "      <th>3904</th>\n",
       "      <td>641</td>\n",
       "      <td>அதான் நம் மனநிலை. இந்த ஊரின் மேல் உரிமையுள்ள ப...</td>\n",
       "      <td>0</td>\n",
       "      <td>அதான் நம் மனநிலை. ஊரின் உரிமையுள்ள பூர்வ குடிக...</td>\n",
       "    </tr>\n",
       "    <tr>\n",
       "      <th>1529</th>\n",
       "      <td>458</td>\n",
       "      <td>India is all due for its census. It should ha...</td>\n",
       "      <td>0</td>\n",
       "      <td>India due census. happened 2021 due pandemic d...</td>\n",
       "    </tr>\n",
       "    <tr>\n",
       "      <th>3427</th>\n",
       "      <td>1374</td>\n",
       "      <td>Iya namba tamilanukku free vendam konjam ulaik...</td>\n",
       "      <td>0</td>\n",
       "      <td>Iya namba tamilanukku free vendam konjam ulaik...</td>\n",
       "    </tr>\n",
       "    <tr>\n",
       "      <th>391</th>\n",
       "      <td>3487</td>\n",
       "      <td>இவன் பேசறது எதுவும் புரியுதா உங்களுக்கு</td>\n",
       "      <td>0</td>\n",
       "      <td>இவன் பேசறது எதுவும் புரியுதா உங்களுக்கு</td>\n",
       "    </tr>\n",
       "    <tr>\n",
       "      <th>2061</th>\n",
       "      <td>3405</td>\n",
       "      <td>தமிழன் நாசமா போனா ஒங்களுக்கு என்ன வடநாட்டு கார...</td>\n",
       "      <td>1</td>\n",
       "      <td>தமிழன் நாசமா போனா ஒங்களுக்கு வடநாட்டு காரன் நல...</td>\n",
       "    </tr>\n",
       "    <tr>\n",
       "      <th>3514</th>\n",
       "      <td>3115</td>\n",
       "      <td>American's Indians ah epdi pakurangalo athe Ma...</td>\n",
       "      <td>1</td>\n",
       "      <td>American's Indians ah epdi pakurangalo athe Ma...</td>\n",
       "    </tr>\n",
       "    <tr>\n",
       "      <th>4268</th>\n",
       "      <td>1468</td>\n",
       "      <td>அண்ணா... தயவு செய்து இந்த தமிழ் நாட்ட விட்டு வ...</td>\n",
       "      <td>1</td>\n",
       "      <td>அண்ணா... தயவு செய்து தமிழ் நாட்ட வடக்கனுங்கள வ...</td>\n",
       "    </tr>\n",
       "    <tr>\n",
       "      <th>3206</th>\n",
       "      <td>7128</td>\n",
       "      <td>தொழுவ வேளாளர் என்போர் துளுவவேளாள அகமுடையார் ஜா...</td>\n",
       "      <td>0</td>\n",
       "      <td>தொழுவ வேளாளர் என்போர் துளுவவேளாள அகமுடையார் ஜா...</td>\n",
       "    </tr>\n",
       "    <tr>\n",
       "      <th>2831</th>\n",
       "      <td>4546</td>\n",
       "      <td>Useless videos ivanunga namma mandaya kaluva p...</td>\n",
       "      <td>1</td>\n",
       "      <td>Useless videos ivanunga namma mandaya kaluva p...</td>\n",
       "    </tr>\n",
       "    <tr>\n",
       "      <th>3864</th>\n",
       "      <td>2958</td>\n",
       "      <td>Rombha kevalaa padutharangi North Indians ; Av...</td>\n",
       "      <td>0</td>\n",
       "      <td>Rombha kevalaa padutharangi North Indians ; Av...</td>\n",
       "    </tr>\n",
       "    <tr>\n",
       "      <th>2612</th>\n",
       "      <td>6049</td>\n",
       "      <td>நீ சொன்னாலும் சொல்லா விட்டாலும்.... எவனும் போய...</td>\n",
       "      <td>1</td>\n",
       "      <td>சொன்னாலும் சொல்லா விட்டாலும்.... எவனும் போய் ச...</td>\n",
       "    </tr>\n",
       "    <tr>\n",
       "      <th>5067</th>\n",
       "      <td>2284</td>\n",
       "      <td>தமிழர்கள் பிற மொழியாளர்களுக்கு இடத்தை விற்காதீ...</td>\n",
       "      <td>1</td>\n",
       "      <td>தமிழர்கள் மொழியாளர்களுக்கு இடத்தை விற்காதீர்கள...</td>\n",
       "    </tr>\n",
       "    <tr>\n",
       "      <th>2871</th>\n",
       "      <td>715</td>\n",
       "      <td>தம்பி இன்னும் பத்து வருடங்களில் நாம் தமிழ் நாட...</td>\n",
       "      <td>0</td>\n",
       "      <td>தம்பி பத்து வருடங்களில் தமிழ் நாட்டிலிருந்து வ...</td>\n",
       "    </tr>\n",
       "    <tr>\n",
       "      <th>2144</th>\n",
       "      <td>5842</td>\n",
       "      <td>Dey avan poora ottu poda poranda!!!🤣🤣🤣</td>\n",
       "      <td>0</td>\n",
       "      <td>Dey avan poora ottu poda poranda!!! rolling_on...</td>\n",
       "    </tr>\n",
       "    <tr>\n",
       "      <th>779</th>\n",
       "      <td>7022</td>\n",
       "      <td>@cholavelalar6889  2022-ல் உன்னை வெட்டப்படும்...</td>\n",
       "      <td>0</td>\n",
       "      <td>&lt;USER&gt; 2022 ல் உன்னை வெட்டப்படும் முக்குலத்தோர...</td>\n",
       "    </tr>\n",
       "    <tr>\n",
       "      <th>2949</th>\n",
       "      <td>3389</td>\n",
       "      <td>Yovv aveingalavadhu poradhavadhu aveinga Holi ...</td>\n",
       "      <td>0</td>\n",
       "      <td>Yovv aveingalavadhu poradhavadhu aveinga Holi ...</td>\n",
       "    </tr>\n",
       "    <tr>\n",
       "      <th>2453</th>\n",
       "      <td>6397</td>\n",
       "      <td>Nagapdhaniya nagapadanya moment.... ida ellam ...</td>\n",
       "      <td>0</td>\n",
       "      <td>Nagapdhaniya nagapadanya moment.... ida ellam ...</td>\n",
       "    </tr>\n",
       "    <tr>\n",
       "      <th>813</th>\n",
       "      <td>6571</td>\n",
       "      <td>அப்போ 16% தமிழர்கள் அந்தபுரத்துல இருத்தங்களோ, ...</td>\n",
       "      <td>1</td>\n",
       "      <td>அப்போ 16% தமிழர்கள் அந்தபுரத்துல இருத்தங்களோ, ...</td>\n",
       "    </tr>\n",
       "    <tr>\n",
       "      <th>2462</th>\n",
       "      <td>1328</td>\n",
       "      <td>Mumbai dhaaravi la inniki tamil peoples suppor...</td>\n",
       "      <td>0</td>\n",
       "      <td>Mumbai dhaaravi la inniki tamil peoples suppor...</td>\n",
       "    </tr>\n",
       "    <tr>\n",
       "      <th>2339</th>\n",
       "      <td>1063</td>\n",
       "      <td>@TamilEelam1  tamils Were There since 18000 b...</td>\n",
       "      <td>0</td>\n",
       "      <td>&lt;USER&gt; tamils since 18000 bc lanka...</td>\n",
       "    </tr>\n",
       "    <tr>\n",
       "      <th>912</th>\n",
       "      <td>7224</td>\n",
       "      <td>இந்த வடகலை தென்கலை சுவாமிகள்  சண்டையில் வன்முற...</td>\n",
       "      <td>1</td>\n",
       "      <td>வடகலை தென்கலை சுவாமிகள் சண்டையில் வன்முறை குறை...</td>\n",
       "    </tr>\n",
       "    <tr>\n",
       "      <th>6249</th>\n",
       "      <td>5532</td>\n",
       "      <td>தமிழன் அடிபட்டா கேட்க ஒருத்தன் இல்ல திருட்டு ந...</td>\n",
       "      <td>1</td>\n",
       "      <td>தமிழன் அடிபட்டா கேட்க ஒருத்தன் இல்ல திருட்டு ந...</td>\n",
       "    </tr>\n",
       "    <tr>\n",
       "      <th>2899</th>\n",
       "      <td>6330</td>\n",
       "      <td>அவனவன் சாதியெ அவனவன்  தூக்கி பேசுவது  கிணற்று ...</td>\n",
       "      <td>0</td>\n",
       "      <td>அவனவன் சாதியெ அவனவன் தூக்கி பேசுவது கிணற்று தவ...</td>\n",
       "    </tr>\n",
       "    <tr>\n",
       "      <th>4367</th>\n",
       "      <td>5158</td>\n",
       "      <td>பிழைக்க வழி தேடி வருபவர்கள்  பிழைக்கட்டும் வந்...</td>\n",
       "      <td>1</td>\n",
       "      <td>பிழைக்க வழி தேடி வருபவர்கள் பிழைக்கட்டும் வந்த...</td>\n",
       "    </tr>\n",
       "    <tr>\n",
       "      <th>48</th>\n",
       "      <td>6845</td>\n",
       "      <td>கள்ளர் மறவர் கனத்ததொரு அகமுடையார் மெல்ல மெல்ல ...</td>\n",
       "      <td>0</td>\n",
       "      <td>கள்ளர் மறவர் கனத்ததொரு அகமுடையார் மெல்ல மெல்ல ...</td>\n",
       "    </tr>\n",
       "    <tr>\n",
       "      <th>2084</th>\n",
       "      <td>706</td>\n",
       "      <td>What do you mean? Are you saying that North In...</td>\n",
       "      <td>1</td>\n",
       "      <td>mean? saying North Indian women dress inapprop...</td>\n",
       "    </tr>\n",
       "    <tr>\n",
       "      <th>2033</th>\n",
       "      <td>5535</td>\n",
       "      <td>Pora pokka patha nama avangakitta (vadakans) k...</td>\n",
       "      <td>1</td>\n",
       "      <td>Pora pokka patha nama avangakitta (vadakans) k...</td>\n",
       "    </tr>\n",
       "    <tr>\n",
       "      <th>4441</th>\n",
       "      <td>1155</td>\n",
       "      <td>வேற என்ன பண்றது உலகம் எல்லாத்துக்கும் சொந்தம்தான</td>\n",
       "      <td>0</td>\n",
       "      <td>வேற பண்றது உலகம் எல்லாத்துக்கும் சொந்தம்தான</td>\n",
       "    </tr>\n",
       "    <tr>\n",
       "      <th>1195</th>\n",
       "      <td>3734</td>\n",
       "      <td>போங்கடா மாமா பயலுகளா நாட்டை மட்டும் இல்லை உங்க...</td>\n",
       "      <td>1</td>\n",
       "      <td>போங்கடா மாமா பயலுகளா நாட்டை இல்லை உங்க வீட்டைய...</td>\n",
       "    </tr>\n",
       "    <tr>\n",
       "      <th>2705</th>\n",
       "      <td>5665</td>\n",
       "      <td>Naya modalla Tamil makkaluku padukukapu kodunka</td>\n",
       "      <td>1</td>\n",
       "      <td>Naya modalla Tamil makkaluku padukukapu kodunka</td>\n",
       "    </tr>\n",
       "    <tr>\n",
       "      <th>3936</th>\n",
       "      <td>4914</td>\n",
       "      <td>Nalla irukenu soluve.. yenda avanunga inga van...</td>\n",
       "      <td>1</td>\n",
       "      <td>Nalla irukenu soluve.. yenda avanunga inga van...</td>\n",
       "    </tr>\n",
       "    <tr>\n",
       "      <th>3663</th>\n",
       "      <td>2660</td>\n",
       "      <td>The problem is we don't have some minimum line...</td>\n",
       "      <td>0</td>\n",
       "      <td>problem minimum line pay.. (Tamil people) try ...</td>\n",
       "    </tr>\n",
       "    <tr>\n",
       "      <th>1043</th>\n",
       "      <td>2635</td>\n",
       "      <td>Ithave nee poi avanga ooruka keludaa.m#### Mar...</td>\n",
       "      <td>1</td>\n",
       "      <td>Ithave nee poi avanga ooruka keludaa.m#### Mar...</td>\n",
       "    </tr>\n",
       "    <tr>\n",
       "      <th>3727</th>\n",
       "      <td>7363</td>\n",
       "      <td>இந்த வைஷ்ணவர்கள் சிவன் கோயில்களுக்குள் நுழைய ம...</td>\n",
       "      <td>1</td>\n",
       "      <td>வைஷ்ணவர்கள் சிவன் கோயில்களுக்குள் நுழைய மாட்டா...</td>\n",
       "    </tr>\n",
       "    <tr>\n",
       "      <th>2804</th>\n",
       "      <td>4183</td>\n",
       "      <td>@chiranjeevim5604  anga irukura tamizhar gal ...</td>\n",
       "      <td>0</td>\n",
       "      <td>&lt;USER&gt; anga irukura tamizhar gal ivana mathiri...</td>\n",
       "    </tr>\n",
       "  </tbody>\n",
       "</table>\n",
       "</div>"
      ],
      "text/plain": [
       "        id                                               text  label  \\\n",
       "3413  6162  ​ @srikanth3505  யோவ் உன் கதையை பேசு. ஏன் சர்ச...      0   \n",
       "3154  1621  இப்பதான் நான் பச்சை தமிழர்களைப்பார்க்கிறேன் .வ...      0   \n",
       "4593  3227  Dei avanunga Inga vandhu namma makkaluku Vela ...      0   \n",
       "5065  4939   @gowthamvasu1630  bro ,avanga epadi contact p...      0   \n",
       "1628  4510  உட்கார இடம் கேட்டான் 🙁🙂கொடுத்தேன்  வந்தாரை வாழ...      0   \n",
       "4001  4056  இதை சொல்லீட்டே பெருமைபீத்தீட்டு போக வேண்டியதுத...      1   \n",
       "5565   384             ஒருநாளைக்கு ஒருநாள் வேரறுக்க தயாராவோம்      0   \n",
       "473   5558  Poi sompu thukkunga da sunni media pundainga 😡...      1   \n",
       "3470  5823  Aade muttale holi pandigai mudinthathum varuvanga      0   \n",
       "925   2590  வடக்கன்கள் உங்கள் மாநிலங்களில் வேலை பார்த்துக்...      1   \n",
       "5092  5436  திருப்பூர்ல இவங்கே இல்லனா கம்பெனியே இயங்காத மா...      0   \n",
       "751   2065      Phone panni pesunalea sorry kettu irruppan...      0   \n",
       "5661  7170  எனக்கு தெரிந்து நான் பார்த்து இந்த கோவிலில் வட...      0   \n",
       "2146  3014  No bro தமிழனுக்கு தேவிடன் தான் எதிரி ஆனால் அவன...      1   \n",
       "207   2707  வடக்கனாவது தெக்கனாவது.. எங்களுக்கென்ன மயிரா போ...      1   \n",
       "3904   641  அதான் நம் மனநிலை. இந்த ஊரின் மேல் உரிமையுள்ள ப...      0   \n",
       "1529   458   India is all due for its census. It should ha...      0   \n",
       "3427  1374  Iya namba tamilanukku free vendam konjam ulaik...      0   \n",
       "391   3487            இவன் பேசறது எதுவும் புரியுதா உங்களுக்கு      0   \n",
       "2061  3405  தமிழன் நாசமா போனா ஒங்களுக்கு என்ன வடநாட்டு கார...      1   \n",
       "3514  3115  American's Indians ah epdi pakurangalo athe Ma...      1   \n",
       "4268  1468  அண்ணா... தயவு செய்து இந்த தமிழ் நாட்ட விட்டு வ...      1   \n",
       "3206  7128  தொழுவ வேளாளர் என்போர் துளுவவேளாள அகமுடையார் ஜா...      0   \n",
       "2831  4546  Useless videos ivanunga namma mandaya kaluva p...      1   \n",
       "3864  2958  Rombha kevalaa padutharangi North Indians ; Av...      0   \n",
       "2612  6049  நீ சொன்னாலும் சொல்லா விட்டாலும்.... எவனும் போய...      1   \n",
       "5067  2284  தமிழர்கள் பிற மொழியாளர்களுக்கு இடத்தை விற்காதீ...      1   \n",
       "2871   715  தம்பி இன்னும் பத்து வருடங்களில் நாம் தமிழ் நாட...      0   \n",
       "2144  5842             Dey avan poora ottu poda poranda!!!🤣🤣🤣      0   \n",
       "779   7022   @cholavelalar6889  2022-ல் உன்னை வெட்டப்படும்...      0   \n",
       "2949  3389  Yovv aveingalavadhu poradhavadhu aveinga Holi ...      0   \n",
       "2453  6397  Nagapdhaniya nagapadanya moment.... ida ellam ...      0   \n",
       "813   6571  அப்போ 16% தமிழர்கள் அந்தபுரத்துல இருத்தங்களோ, ...      1   \n",
       "2462  1328  Mumbai dhaaravi la inniki tamil peoples suppor...      0   \n",
       "2339  1063   @TamilEelam1  tamils Were There since 18000 b...      0   \n",
       "912   7224  இந்த வடகலை தென்கலை சுவாமிகள்  சண்டையில் வன்முற...      1   \n",
       "6249  5532  தமிழன் அடிபட்டா கேட்க ஒருத்தன் இல்ல திருட்டு ந...      1   \n",
       "2899  6330  அவனவன் சாதியெ அவனவன்  தூக்கி பேசுவது  கிணற்று ...      0   \n",
       "4367  5158  பிழைக்க வழி தேடி வருபவர்கள்  பிழைக்கட்டும் வந்...      1   \n",
       "48    6845  கள்ளர் மறவர் கனத்ததொரு அகமுடையார் மெல்ல மெல்ல ...      0   \n",
       "2084   706  What do you mean? Are you saying that North In...      1   \n",
       "2033  5535  Pora pokka patha nama avangakitta (vadakans) k...      1   \n",
       "4441  1155   வேற என்ன பண்றது உலகம் எல்லாத்துக்கும் சொந்தம்தான      0   \n",
       "1195  3734  போங்கடா மாமா பயலுகளா நாட்டை மட்டும் இல்லை உங்க...      1   \n",
       "2705  5665    Naya modalla Tamil makkaluku padukukapu kodunka      1   \n",
       "3936  4914  Nalla irukenu soluve.. yenda avanunga inga van...      1   \n",
       "3663  2660  The problem is we don't have some minimum line...      0   \n",
       "1043  2635  Ithave nee poi avanga ooruka keludaa.m#### Mar...      1   \n",
       "3727  7363  இந்த வைஷ்ணவர்கள் சிவன் கோயில்களுக்குள் நுழைய ம...      1   \n",
       "2804  4183   @chiranjeevim5604  anga irukura tamizhar gal ...      0   \n",
       "\n",
       "                                             clean_text  \n",
       "3413  ​ <USER> யோவ் கதையை பேசு. சர்ச் கிட்ட முட்டுற?...  \n",
       "3154  இப்பதான் பச்சை தமிழர்களைப்பார்க்கிறேன் .வாழத்த...  \n",
       "4593  Dei avanunga Inga vandhu namma makkaluku Vela ...  \n",
       "5065  <USER> bro ,avanga epadi contact panrathu ,eng...  \n",
       "1628  உட்கார கேட்டான் slightly_frowning_face slightl...  \n",
       "4001  சொல்லீட்டே பெருமைபீத்தீட்டு போக வேண்டியதுதான்....  \n",
       "5565             ஒருநாளைக்கு ஒருநாள் வேரறுக்க தயாராவோம்  \n",
       "473   Poi sompu thukkunga da sunni media pundainga e...  \n",
       "3470  Aade muttale holi pandigai mudinthathum varuvanga  \n",
       "925   வடக்கன்கள் உங்கள் மாநிலங்களில் வேலை பார்த்துக்...  \n",
       "5092  திருப்பூர்ல இவங்கே இல்லனா கம்பெனியே இயங்காத மா...  \n",
       "751       Phone panni pesunalea sorry kettu irruppan...  \n",
       "5661  தெரிந்து பார்த்து கோவிலில் வடகரையில் வர்கள் பக...  \n",
       "2146  bro தமிழனுக்கு தேவிடன் எதிரி ஆனால் அவனும் தமிழ...  \n",
       "207   வடக்கனாவது தெக்கனாவது.. எங்களுக்கென்ன மயிரா போ...  \n",
       "3904  அதான் நம் மனநிலை. ஊரின் உரிமையுள்ள பூர்வ குடிக...  \n",
       "1529  India due census. happened 2021 due pandemic d...  \n",
       "3427  Iya namba tamilanukku free vendam konjam ulaik...  \n",
       "391             இவன் பேசறது எதுவும் புரியுதா உங்களுக்கு  \n",
       "2061  தமிழன் நாசமா போனா ஒங்களுக்கு வடநாட்டு காரன் நல...  \n",
       "3514  American's Indians ah epdi pakurangalo athe Ma...  \n",
       "4268  அண்ணா... தயவு செய்து தமிழ் நாட்ட வடக்கனுங்கள வ...  \n",
       "3206  தொழுவ வேளாளர் என்போர் துளுவவேளாள அகமுடையார் ஜா...  \n",
       "2831  Useless videos ivanunga namma mandaya kaluva p...  \n",
       "3864  Rombha kevalaa padutharangi North Indians ; Av...  \n",
       "2612  சொன்னாலும் சொல்லா விட்டாலும்.... எவனும் போய் ச...  \n",
       "5067  தமிழர்கள் மொழியாளர்களுக்கு இடத்தை விற்காதீர்கள...  \n",
       "2871  தம்பி பத்து வருடங்களில் தமிழ் நாட்டிலிருந்து வ...  \n",
       "2144  Dey avan poora ottu poda poranda!!! rolling_on...  \n",
       "779   <USER> 2022 ல் உன்னை வெட்டப்படும் முக்குலத்தோர...  \n",
       "2949  Yovv aveingalavadhu poradhavadhu aveinga Holi ...  \n",
       "2453  Nagapdhaniya nagapadanya moment.... ida ellam ...  \n",
       "813   அப்போ 16% தமிழர்கள் அந்தபுரத்துல இருத்தங்களோ, ...  \n",
       "2462  Mumbai dhaaravi la inniki tamil peoples suppor...  \n",
       "2339              <USER> tamils since 18000 bc lanka...  \n",
       "912   வடகலை தென்கலை சுவாமிகள் சண்டையில் வன்முறை குறை...  \n",
       "6249  தமிழன் அடிபட்டா கேட்க ஒருத்தன் இல்ல திருட்டு ந...  \n",
       "2899  அவனவன் சாதியெ அவனவன் தூக்கி பேசுவது கிணற்று தவ...  \n",
       "4367  பிழைக்க வழி தேடி வருபவர்கள் பிழைக்கட்டும் வந்த...  \n",
       "48    கள்ளர் மறவர் கனத்ததொரு அகமுடையார் மெல்ல மெல்ல ...  \n",
       "2084  mean? saying North Indian women dress inapprop...  \n",
       "2033  Pora pokka patha nama avangakitta (vadakans) k...  \n",
       "4441        வேற பண்றது உலகம் எல்லாத்துக்கும் சொந்தம்தான  \n",
       "1195  போங்கடா மாமா பயலுகளா நாட்டை இல்லை உங்க வீட்டைய...  \n",
       "2705    Naya modalla Tamil makkaluku padukukapu kodunka  \n",
       "3936  Nalla irukenu soluve.. yenda avanunga inga van...  \n",
       "3663  problem minimum line pay.. (Tamil people) try ...  \n",
       "1043  Ithave nee poi avanga ooruka keludaa.m#### Mar...  \n",
       "3727  வைஷ்ணவர்கள் சிவன் கோயில்களுக்குள் நுழைய மாட்டா...  \n",
       "2804  <USER> anga irukura tamizhar gal ivana mathiri...  "
      ]
     },
     "execution_count": 32,
     "metadata": {},
     "output_type": "execute_result"
    }
   ],
   "source": [
    "# -------------------------------\n",
    "# Text Preprocessing\n",
    "# -------------------------------\n",
    "# Function to clean each text\n",
    "# Load word segmentation model\n",
    "load()\n",
    "\n",
    "# Load stopwords\n",
    "tamil_stopwords = set(stopwords.words('tamil'))\n",
    "english_stopwords = set(stopwords.words('english'))\n",
    "\n",
    "# -------------------------------\n",
    "# Text Preprocessing\n",
    "# -------------------------------\n",
    "\n",
    "def preprocess_text(text):\n",
    "    # Extract hashtags\n",
    "    hashtags = re.findall(r\"#\\w+\", text)\n",
    "\n",
    "    # Process hashtags (convert to words)\n",
    "    processed_hashtags = []\n",
    "    for tag in hashtags:\n",
    "        tag = tag.lstrip(\"#\")  # Remove #\n",
    "        words = segment(tag)   # Split compound words\n",
    "        processed_hashtags.append(\" \".join(words))  # Convert to sentence-like format\n",
    "\n",
    "    # Remove hashtags from main text\n",
    "    text = re.sub(r\"#\\w+\", \"\", text)\n",
    "\n",
    "    # Replace mentions with a placeholder\n",
    "    text = re.sub(r'@\\w+', '<USER>', text)\n",
    "    \n",
    "    # Convert emojis to text\n",
    "    text = emoji.demojize(text, delimiters=(\" \", \" \"))  # Adds spaces around emoji descriptions\n",
    "    \n",
    "    # Remove extra whitespace\n",
    "    text = re.sub(r'\\s+', ' ', text).strip()\n",
    "\n",
    "    # Merge cleaned text with processed hashtags\n",
    "    final_text = text + \" \" + \" \".join(processed_hashtags)\n",
    "    final_text = final_text.replace(\"-\", \" \")  # Remove double spaces\n",
    "    return final_text\n",
    "\n",
    "# Function to remove stopwords\n",
    "def remove_stopwords(text):\n",
    "    words = text.split()\n",
    "    filtered = [word for word in words if word.lower() not in english_stopwords and word.lower() not in tamil_stopwords]\n",
    "    return ' '.join(filtered)\n",
    "\n",
    "# Apply preprocessing\n",
    "df['clean_text'] = df['text'].apply(preprocess_text).apply(remove_stopwords)\n",
    "\n",
    "# Show sample processed data\n",
    "df.sample(50)\n"
   ]
  },
  {
   "cell_type": "code",
   "execution_count": 33,
   "metadata": {},
   "outputs": [
    {
     "data": {
      "text/plain": [
       "(6299, 4)"
      ]
     },
     "execution_count": 33,
     "metadata": {},
     "output_type": "execute_result"
    }
   ],
   "source": [
    "df.shape"
   ]
  },
  {
   "cell_type": "code",
   "execution_count": 34,
   "metadata": {},
   "outputs": [
    {
     "data": {
      "text/plain": [
       "(6299, 7000)"
      ]
     },
     "execution_count": 34,
     "metadata": {},
     "output_type": "execute_result"
    }
   ],
   "source": [
    "X = df['clean_text']\n",
    "\n",
    "vectorizer = TfidfVectorizer(\n",
    "    max_features=7000,\n",
    "    ngram_range=(1,2),\n",
    "    analyzer='word',\n",
    "    token_pattern=r\"(?u)\\b\\w+\\b\"\n",
    ")\n",
    "\n",
    "X_vectorized = vectorizer.fit_transform(X)\n",
    "X_vectorized = X_vectorized.toarray()\n",
    "X_vectorized.shape"
   ]
  },
  {
   "cell_type": "code",
   "execution_count": 35,
   "metadata": {},
   "outputs": [
    {
     "data": {
      "text/plain": [
       "(6299, 4)"
      ]
     },
     "execution_count": 35,
     "metadata": {},
     "output_type": "execute_result"
    }
   ],
   "source": [
    "df.shape"
   ]
  },
  {
   "cell_type": "code",
   "execution_count": 36,
   "metadata": {},
   "outputs": [
    {
     "data": {
      "text/plain": [
       "0       0\n",
       "1       0\n",
       "2       1\n",
       "3       1\n",
       "4       1\n",
       "       ..\n",
       "6294    0\n",
       "6295    0\n",
       "6296    0\n",
       "6297    1\n",
       "6298    0\n",
       "Name: label, Length: 6299, dtype: int64"
      ]
     },
     "execution_count": 36,
     "metadata": {},
     "output_type": "execute_result"
    }
   ],
   "source": [
    "y = df['label']\n",
    "y"
   ]
  },
  {
   "cell_type": "code",
   "execution_count": 37,
   "metadata": {
    "execution": {
     "iopub.execute_input": "2025-03-25T03:11:16.509075Z",
     "iopub.status.busy": "2025-03-25T03:11:16.508792Z",
     "iopub.status.idle": "2025-03-25T03:11:16.517002Z",
     "shell.execute_reply": "2025-03-25T03:11:16.516030Z",
     "shell.execute_reply.started": "2025-03-25T03:11:16.509054Z"
    },
    "trusted": true
   },
   "outputs": [
    {
     "data": {
      "text/html": [
       "<style>#sk-container-id-2 {\n",
       "  /* Definition of color scheme common for light and dark mode */\n",
       "  --sklearn-color-text: black;\n",
       "  --sklearn-color-line: gray;\n",
       "  /* Definition of color scheme for unfitted estimators */\n",
       "  --sklearn-color-unfitted-level-0: #fff5e6;\n",
       "  --sklearn-color-unfitted-level-1: #f6e4d2;\n",
       "  --sklearn-color-unfitted-level-2: #ffe0b3;\n",
       "  --sklearn-color-unfitted-level-3: chocolate;\n",
       "  /* Definition of color scheme for fitted estimators */\n",
       "  --sklearn-color-fitted-level-0: #f0f8ff;\n",
       "  --sklearn-color-fitted-level-1: #d4ebff;\n",
       "  --sklearn-color-fitted-level-2: #b3dbfd;\n",
       "  --sklearn-color-fitted-level-3: cornflowerblue;\n",
       "\n",
       "  /* Specific color for light theme */\n",
       "  --sklearn-color-text-on-default-background: var(--sg-text-color, var(--theme-code-foreground, var(--jp-content-font-color1, black)));\n",
       "  --sklearn-color-background: var(--sg-background-color, var(--theme-background, var(--jp-layout-color0, white)));\n",
       "  --sklearn-color-border-box: var(--sg-text-color, var(--theme-code-foreground, var(--jp-content-font-color1, black)));\n",
       "  --sklearn-color-icon: #696969;\n",
       "\n",
       "  @media (prefers-color-scheme: dark) {\n",
       "    /* Redefinition of color scheme for dark theme */\n",
       "    --sklearn-color-text-on-default-background: var(--sg-text-color, var(--theme-code-foreground, var(--jp-content-font-color1, white)));\n",
       "    --sklearn-color-background: var(--sg-background-color, var(--theme-background, var(--jp-layout-color0, #111)));\n",
       "    --sklearn-color-border-box: var(--sg-text-color, var(--theme-code-foreground, var(--jp-content-font-color1, white)));\n",
       "    --sklearn-color-icon: #878787;\n",
       "  }\n",
       "}\n",
       "\n",
       "#sk-container-id-2 {\n",
       "  color: var(--sklearn-color-text);\n",
       "}\n",
       "\n",
       "#sk-container-id-2 pre {\n",
       "  padding: 0;\n",
       "}\n",
       "\n",
       "#sk-container-id-2 input.sk-hidden--visually {\n",
       "  border: 0;\n",
       "  clip: rect(1px 1px 1px 1px);\n",
       "  clip: rect(1px, 1px, 1px, 1px);\n",
       "  height: 1px;\n",
       "  margin: -1px;\n",
       "  overflow: hidden;\n",
       "  padding: 0;\n",
       "  position: absolute;\n",
       "  width: 1px;\n",
       "}\n",
       "\n",
       "#sk-container-id-2 div.sk-dashed-wrapped {\n",
       "  border: 1px dashed var(--sklearn-color-line);\n",
       "  margin: 0 0.4em 0.5em 0.4em;\n",
       "  box-sizing: border-box;\n",
       "  padding-bottom: 0.4em;\n",
       "  background-color: var(--sklearn-color-background);\n",
       "}\n",
       "\n",
       "#sk-container-id-2 div.sk-container {\n",
       "  /* jupyter's `normalize.less` sets `[hidden] { display: none; }`\n",
       "     but bootstrap.min.css set `[hidden] { display: none !important; }`\n",
       "     so we also need the `!important` here to be able to override the\n",
       "     default hidden behavior on the sphinx rendered scikit-learn.org.\n",
       "     See: https://github.com/scikit-learn/scikit-learn/issues/21755 */\n",
       "  display: inline-block !important;\n",
       "  position: relative;\n",
       "}\n",
       "\n",
       "#sk-container-id-2 div.sk-text-repr-fallback {\n",
       "  display: none;\n",
       "}\n",
       "\n",
       "div.sk-parallel-item,\n",
       "div.sk-serial,\n",
       "div.sk-item {\n",
       "  /* draw centered vertical line to link estimators */\n",
       "  background-image: linear-gradient(var(--sklearn-color-text-on-default-background), var(--sklearn-color-text-on-default-background));\n",
       "  background-size: 2px 100%;\n",
       "  background-repeat: no-repeat;\n",
       "  background-position: center center;\n",
       "}\n",
       "\n",
       "/* Parallel-specific style estimator block */\n",
       "\n",
       "#sk-container-id-2 div.sk-parallel-item::after {\n",
       "  content: \"\";\n",
       "  width: 100%;\n",
       "  border-bottom: 2px solid var(--sklearn-color-text-on-default-background);\n",
       "  flex-grow: 1;\n",
       "}\n",
       "\n",
       "#sk-container-id-2 div.sk-parallel {\n",
       "  display: flex;\n",
       "  align-items: stretch;\n",
       "  justify-content: center;\n",
       "  background-color: var(--sklearn-color-background);\n",
       "  position: relative;\n",
       "}\n",
       "\n",
       "#sk-container-id-2 div.sk-parallel-item {\n",
       "  display: flex;\n",
       "  flex-direction: column;\n",
       "}\n",
       "\n",
       "#sk-container-id-2 div.sk-parallel-item:first-child::after {\n",
       "  align-self: flex-end;\n",
       "  width: 50%;\n",
       "}\n",
       "\n",
       "#sk-container-id-2 div.sk-parallel-item:last-child::after {\n",
       "  align-self: flex-start;\n",
       "  width: 50%;\n",
       "}\n",
       "\n",
       "#sk-container-id-2 div.sk-parallel-item:only-child::after {\n",
       "  width: 0;\n",
       "}\n",
       "\n",
       "/* Serial-specific style estimator block */\n",
       "\n",
       "#sk-container-id-2 div.sk-serial {\n",
       "  display: flex;\n",
       "  flex-direction: column;\n",
       "  align-items: center;\n",
       "  background-color: var(--sklearn-color-background);\n",
       "  padding-right: 1em;\n",
       "  padding-left: 1em;\n",
       "}\n",
       "\n",
       "\n",
       "/* Toggleable style: style used for estimator/Pipeline/ColumnTransformer box that is\n",
       "clickable and can be expanded/collapsed.\n",
       "- Pipeline and ColumnTransformer use this feature and define the default style\n",
       "- Estimators will overwrite some part of the style using the `sk-estimator` class\n",
       "*/\n",
       "\n",
       "/* Pipeline and ColumnTransformer style (default) */\n",
       "\n",
       "#sk-container-id-2 div.sk-toggleable {\n",
       "  /* Default theme specific background. It is overwritten whether we have a\n",
       "  specific estimator or a Pipeline/ColumnTransformer */\n",
       "  background-color: var(--sklearn-color-background);\n",
       "}\n",
       "\n",
       "/* Toggleable label */\n",
       "#sk-container-id-2 label.sk-toggleable__label {\n",
       "  cursor: pointer;\n",
       "  display: block;\n",
       "  width: 100%;\n",
       "  margin-bottom: 0;\n",
       "  padding: 0.5em;\n",
       "  box-sizing: border-box;\n",
       "  text-align: center;\n",
       "}\n",
       "\n",
       "#sk-container-id-2 label.sk-toggleable__label-arrow:before {\n",
       "  /* Arrow on the left of the label */\n",
       "  content: \"▸\";\n",
       "  float: left;\n",
       "  margin-right: 0.25em;\n",
       "  color: var(--sklearn-color-icon);\n",
       "}\n",
       "\n",
       "#sk-container-id-2 label.sk-toggleable__label-arrow:hover:before {\n",
       "  color: var(--sklearn-color-text);\n",
       "}\n",
       "\n",
       "/* Toggleable content - dropdown */\n",
       "\n",
       "#sk-container-id-2 div.sk-toggleable__content {\n",
       "  max-height: 0;\n",
       "  max-width: 0;\n",
       "  overflow: hidden;\n",
       "  text-align: left;\n",
       "  /* unfitted */\n",
       "  background-color: var(--sklearn-color-unfitted-level-0);\n",
       "}\n",
       "\n",
       "#sk-container-id-2 div.sk-toggleable__content.fitted {\n",
       "  /* fitted */\n",
       "  background-color: var(--sklearn-color-fitted-level-0);\n",
       "}\n",
       "\n",
       "#sk-container-id-2 div.sk-toggleable__content pre {\n",
       "  margin: 0.2em;\n",
       "  border-radius: 0.25em;\n",
       "  color: var(--sklearn-color-text);\n",
       "  /* unfitted */\n",
       "  background-color: var(--sklearn-color-unfitted-level-0);\n",
       "}\n",
       "\n",
       "#sk-container-id-2 div.sk-toggleable__content.fitted pre {\n",
       "  /* unfitted */\n",
       "  background-color: var(--sklearn-color-fitted-level-0);\n",
       "}\n",
       "\n",
       "#sk-container-id-2 input.sk-toggleable__control:checked~div.sk-toggleable__content {\n",
       "  /* Expand drop-down */\n",
       "  max-height: 200px;\n",
       "  max-width: 100%;\n",
       "  overflow: auto;\n",
       "}\n",
       "\n",
       "#sk-container-id-2 input.sk-toggleable__control:checked~label.sk-toggleable__label-arrow:before {\n",
       "  content: \"▾\";\n",
       "}\n",
       "\n",
       "/* Pipeline/ColumnTransformer-specific style */\n",
       "\n",
       "#sk-container-id-2 div.sk-label input.sk-toggleable__control:checked~label.sk-toggleable__label {\n",
       "  color: var(--sklearn-color-text);\n",
       "  background-color: var(--sklearn-color-unfitted-level-2);\n",
       "}\n",
       "\n",
       "#sk-container-id-2 div.sk-label.fitted input.sk-toggleable__control:checked~label.sk-toggleable__label {\n",
       "  background-color: var(--sklearn-color-fitted-level-2);\n",
       "}\n",
       "\n",
       "/* Estimator-specific style */\n",
       "\n",
       "/* Colorize estimator box */\n",
       "#sk-container-id-2 div.sk-estimator input.sk-toggleable__control:checked~label.sk-toggleable__label {\n",
       "  /* unfitted */\n",
       "  background-color: var(--sklearn-color-unfitted-level-2);\n",
       "}\n",
       "\n",
       "#sk-container-id-2 div.sk-estimator.fitted input.sk-toggleable__control:checked~label.sk-toggleable__label {\n",
       "  /* fitted */\n",
       "  background-color: var(--sklearn-color-fitted-level-2);\n",
       "}\n",
       "\n",
       "#sk-container-id-2 div.sk-label label.sk-toggleable__label,\n",
       "#sk-container-id-2 div.sk-label label {\n",
       "  /* The background is the default theme color */\n",
       "  color: var(--sklearn-color-text-on-default-background);\n",
       "}\n",
       "\n",
       "/* On hover, darken the color of the background */\n",
       "#sk-container-id-2 div.sk-label:hover label.sk-toggleable__label {\n",
       "  color: var(--sklearn-color-text);\n",
       "  background-color: var(--sklearn-color-unfitted-level-2);\n",
       "}\n",
       "\n",
       "/* Label box, darken color on hover, fitted */\n",
       "#sk-container-id-2 div.sk-label.fitted:hover label.sk-toggleable__label.fitted {\n",
       "  color: var(--sklearn-color-text);\n",
       "  background-color: var(--sklearn-color-fitted-level-2);\n",
       "}\n",
       "\n",
       "/* Estimator label */\n",
       "\n",
       "#sk-container-id-2 div.sk-label label {\n",
       "  font-family: monospace;\n",
       "  font-weight: bold;\n",
       "  display: inline-block;\n",
       "  line-height: 1.2em;\n",
       "}\n",
       "\n",
       "#sk-container-id-2 div.sk-label-container {\n",
       "  text-align: center;\n",
       "}\n",
       "\n",
       "/* Estimator-specific */\n",
       "#sk-container-id-2 div.sk-estimator {\n",
       "  font-family: monospace;\n",
       "  border: 1px dotted var(--sklearn-color-border-box);\n",
       "  border-radius: 0.25em;\n",
       "  box-sizing: border-box;\n",
       "  margin-bottom: 0.5em;\n",
       "  /* unfitted */\n",
       "  background-color: var(--sklearn-color-unfitted-level-0);\n",
       "}\n",
       "\n",
       "#sk-container-id-2 div.sk-estimator.fitted {\n",
       "  /* fitted */\n",
       "  background-color: var(--sklearn-color-fitted-level-0);\n",
       "}\n",
       "\n",
       "/* on hover */\n",
       "#sk-container-id-2 div.sk-estimator:hover {\n",
       "  /* unfitted */\n",
       "  background-color: var(--sklearn-color-unfitted-level-2);\n",
       "}\n",
       "\n",
       "#sk-container-id-2 div.sk-estimator.fitted:hover {\n",
       "  /* fitted */\n",
       "  background-color: var(--sklearn-color-fitted-level-2);\n",
       "}\n",
       "\n",
       "/* Specification for estimator info (e.g. \"i\" and \"?\") */\n",
       "\n",
       "/* Common style for \"i\" and \"?\" */\n",
       "\n",
       ".sk-estimator-doc-link,\n",
       "a:link.sk-estimator-doc-link,\n",
       "a:visited.sk-estimator-doc-link {\n",
       "  float: right;\n",
       "  font-size: smaller;\n",
       "  line-height: 1em;\n",
       "  font-family: monospace;\n",
       "  background-color: var(--sklearn-color-background);\n",
       "  border-radius: 1em;\n",
       "  height: 1em;\n",
       "  width: 1em;\n",
       "  text-decoration: none !important;\n",
       "  margin-left: 1ex;\n",
       "  /* unfitted */\n",
       "  border: var(--sklearn-color-unfitted-level-1) 1pt solid;\n",
       "  color: var(--sklearn-color-unfitted-level-1);\n",
       "}\n",
       "\n",
       ".sk-estimator-doc-link.fitted,\n",
       "a:link.sk-estimator-doc-link.fitted,\n",
       "a:visited.sk-estimator-doc-link.fitted {\n",
       "  /* fitted */\n",
       "  border: var(--sklearn-color-fitted-level-1) 1pt solid;\n",
       "  color: var(--sklearn-color-fitted-level-1);\n",
       "}\n",
       "\n",
       "/* On hover */\n",
       "div.sk-estimator:hover .sk-estimator-doc-link:hover,\n",
       ".sk-estimator-doc-link:hover,\n",
       "div.sk-label-container:hover .sk-estimator-doc-link:hover,\n",
       ".sk-estimator-doc-link:hover {\n",
       "  /* unfitted */\n",
       "  background-color: var(--sklearn-color-unfitted-level-3);\n",
       "  color: var(--sklearn-color-background);\n",
       "  text-decoration: none;\n",
       "}\n",
       "\n",
       "div.sk-estimator.fitted:hover .sk-estimator-doc-link.fitted:hover,\n",
       ".sk-estimator-doc-link.fitted:hover,\n",
       "div.sk-label-container:hover .sk-estimator-doc-link.fitted:hover,\n",
       ".sk-estimator-doc-link.fitted:hover {\n",
       "  /* fitted */\n",
       "  background-color: var(--sklearn-color-fitted-level-3);\n",
       "  color: var(--sklearn-color-background);\n",
       "  text-decoration: none;\n",
       "}\n",
       "\n",
       "/* Span, style for the box shown on hovering the info icon */\n",
       ".sk-estimator-doc-link span {\n",
       "  display: none;\n",
       "  z-index: 9999;\n",
       "  position: relative;\n",
       "  font-weight: normal;\n",
       "  right: .2ex;\n",
       "  padding: .5ex;\n",
       "  margin: .5ex;\n",
       "  width: min-content;\n",
       "  min-width: 20ex;\n",
       "  max-width: 50ex;\n",
       "  color: var(--sklearn-color-text);\n",
       "  box-shadow: 2pt 2pt 4pt #999;\n",
       "  /* unfitted */\n",
       "  background: var(--sklearn-color-unfitted-level-0);\n",
       "  border: .5pt solid var(--sklearn-color-unfitted-level-3);\n",
       "}\n",
       "\n",
       ".sk-estimator-doc-link.fitted span {\n",
       "  /* fitted */\n",
       "  background: var(--sklearn-color-fitted-level-0);\n",
       "  border: var(--sklearn-color-fitted-level-3);\n",
       "}\n",
       "\n",
       ".sk-estimator-doc-link:hover span {\n",
       "  display: block;\n",
       "}\n",
       "\n",
       "/* \"?\"-specific style due to the `<a>` HTML tag */\n",
       "\n",
       "#sk-container-id-2 a.estimator_doc_link {\n",
       "  float: right;\n",
       "  font-size: 1rem;\n",
       "  line-height: 1em;\n",
       "  font-family: monospace;\n",
       "  background-color: var(--sklearn-color-background);\n",
       "  border-radius: 1rem;\n",
       "  height: 1rem;\n",
       "  width: 1rem;\n",
       "  text-decoration: none;\n",
       "  /* unfitted */\n",
       "  color: var(--sklearn-color-unfitted-level-1);\n",
       "  border: var(--sklearn-color-unfitted-level-1) 1pt solid;\n",
       "}\n",
       "\n",
       "#sk-container-id-2 a.estimator_doc_link.fitted {\n",
       "  /* fitted */\n",
       "  border: var(--sklearn-color-fitted-level-1) 1pt solid;\n",
       "  color: var(--sklearn-color-fitted-level-1);\n",
       "}\n",
       "\n",
       "/* On hover */\n",
       "#sk-container-id-2 a.estimator_doc_link:hover {\n",
       "  /* unfitted */\n",
       "  background-color: var(--sklearn-color-unfitted-level-3);\n",
       "  color: var(--sklearn-color-background);\n",
       "  text-decoration: none;\n",
       "}\n",
       "\n",
       "#sk-container-id-2 a.estimator_doc_link.fitted:hover {\n",
       "  /* fitted */\n",
       "  background-color: var(--sklearn-color-fitted-level-3);\n",
       "}\n",
       "</style><div id=\"sk-container-id-2\" class=\"sk-top-container\"><div class=\"sk-text-repr-fallback\"><pre>RandomForestClassifier(class_weight=&#x27;balanced&#x27;, n_estimators=200)</pre><b>In a Jupyter environment, please rerun this cell to show the HTML representation or trust the notebook. <br />On GitHub, the HTML representation is unable to render, please try loading this page with nbviewer.org.</b></div><div class=\"sk-container\" hidden><div class=\"sk-item\"><div class=\"sk-estimator fitted sk-toggleable\"><input class=\"sk-toggleable__control sk-hidden--visually\" id=\"sk-estimator-id-5\" type=\"checkbox\" checked><label for=\"sk-estimator-id-5\" class=\"sk-toggleable__label fitted sk-toggleable__label-arrow fitted\">&nbsp;&nbsp;RandomForestClassifier<a class=\"sk-estimator-doc-link fitted\" rel=\"noreferrer\" target=\"_blank\" href=\"https://scikit-learn.org/1.5/modules/generated/sklearn.ensemble.RandomForestClassifier.html\">?<span>Documentation for RandomForestClassifier</span></a><span class=\"sk-estimator-doc-link fitted\">i<span>Fitted</span></span></label><div class=\"sk-toggleable__content fitted\"><pre>RandomForestClassifier(class_weight=&#x27;balanced&#x27;, n_estimators=200)</pre></div> </div></div></div></div>"
      ],
      "text/plain": [
       "RandomForestClassifier(class_weight='balanced', n_estimators=200)"
      ]
     },
     "execution_count": 37,
     "metadata": {},
     "output_type": "execute_result"
    }
   ],
   "source": [
    "model = RandomForestClassifier(class_weight='balanced', n_estimators = 200)\n",
    "\n",
    "model.fit(X_vectorized, y)"
   ]
  },
  {
   "cell_type": "code",
   "execution_count": 38,
   "metadata": {},
   "outputs": [
    {
     "data": {
      "application/vnd.microsoft.datawrangler.viewer.v0+json": {
       "columns": [
        {
         "name": "index",
         "rawType": "int64",
         "type": "integer"
        },
        {
         "name": "id",
         "rawType": "int64",
         "type": "integer"
        },
        {
         "name": "text",
         "rawType": "object",
         "type": "string"
        }
       ],
       "conversionMethod": "pd.DataFrame",
       "ref": "ef2997b8-24ba-445a-977d-ae8608b4c6d4",
       "rows": [
        [
         "0",
         "4594",
         "Humanity paatha intha slag countries prblm varathu"
        ],
        [
         "1",
         "3593",
         "Avanga Holi kondada oruku poranga da"
        ],
        [
         "2",
         "2533",
         "Avangala avanga ooruke anupura vazhiya parunga."
        ],
        [
         "3",
         "6975",
         "பைத்தியமாடா நீ.. நான் சோழிய வேளாளர். நான் என் அப்பா தாத்தா வரை எல்லாம் OC  சாதி பிரிவில் இருந்தோம். .படிங்க டா. பிள்ளை பட்டம் போட்டவங்க துளுவ வேளாளர் எல்லாம் அகமுடையார் னு போட்டுகிட்டு  கள்ளர் மறவர் னு ஒன்று சேர்நதுகிட்டு சாதி பத்தி பேச வர்றீங்க. எந்த சாதி டா நீங்க"
        ],
        [
         "4",
         "6011",
         "Caste is there  parayan think to marry higherup caste that ok their intention but no one acept it how their (sc),intentions supported by thiruttu karunanithi telugan mairu support for.first parayas must marry ponmudi daughter.daughter.son daughter or his relation moreover ponmudi must eat beef then he must give hiscadte lady to parayas to marry then this ponmudi paradesi tell or suppor sc ok"
        ],
        [
         "5",
         "1903",
         "அந்தவடநாட்டுவந்தேறியைவிரட்டிஅடியுங்கள்"
        ],
        [
         "6",
         "4619",
         "Bro vazhurathuku vazhi illamal sontha pathankalellam vittu pirinchu kashtapadutanunka. Nammalum apdi tha"
        ],
        [
         "7",
         "7853",
         "Unga Sanskrit poi kuppaila podungada. Unga ohm um theva illa, adhibagavanum theva illa. Tamil only in tamilnadu."
        ],
        [
         "8",
         "4902",
         " @prasanna8990  do some study about state wise population and population ratio of individual states.tamil origins,north hindi community then talk."
        ],
        [
         "9",
         "1554",
         "Nayeeeeee yarutada arasiyallll neee pesureeee vantheri poruki nayeeeee.....nirrthiikooooo thollachu poduvommmmm nayeeeee...ntk from indian army para commondo force"
        ],
        [
         "10",
         "1514",
         "தமிழ்நாட்டை விட்டு வெளியேற்ற வேண்டும்"
        ],
        [
         "11",
         "1080",
         " @kingkholi5889  exactly. We dumeels are the reason we're not developing."
        ],
        [
         "12",
         "3637",
         "Avan avan kudumbatha kapatha velaiku varangha avangaluku uria protection thara vendum avargalai nalla murayil natatha vendum"
        ],
        [
         "13",
         "3742",
         "Tamil nadala velai venumna unga wife uh engaluku venum 😂"
        ],
        [
         "14",
         "3130",
         "Unless you study & understand basic BEHVIORAL ECONOMICS, you cannot understand the issue.\nComparing with overseas job & migration shows you lack understanding of Law, Logic & Life-Science (Culture).\nTry to spend some time in studying Behavioural Economics & Sociology."
        ],
        [
         "15",
         "2587",
         "Modhala indha video ae report Pananum.... Hindi theriyaama Ena maithuku Mike aa thookitu poona apram epdi nee solradhu avangaluku puriyum?  Mamaglitz"
        ],
        [
         "16",
         "1987",
         "polaikavantha marvadikku yavvalavu thimuru. Nam thamilar aachithan enimea."
        ],
        [
         "17",
         "6117",
         "Entha sathikku salugai illa???\nSol parppom????"
        ],
        [
         "18",
         "1425",
         "தமிழ் நாட்டில் உள்ள வேற்று இனத்தார்கள், அரசியலில் இறங்கி, தமிழர்களை ஆள நினைப்பதை தவிறுங்கள். வட இந்தியன் இங்கு ஓட்டு போடக்கூடாது. அவனது மாநில தொகுதிக்கு சென்று தான் ஓட்டு போடனும். இங்கு ஓட்டு உரிமை கிடையாது. அப்படி ஓட்டு உரிமை கொடுத்தால், அவனது BJP, காங்கிரஸ் போன்ற கட்சிகளுக்கு தான் ஓட்டு போடுவான் , தமிழர் மண்ணை யார் ஆளனும் என்பதை வட இந்தியன் தீர்மானிக்கும் சூழல் ஏற்படும். அந்த சூழலை இப்ப மோடி செய்து வருகிறான்."
        ],
        [
         "19",
         "7443",
         "nalla neriyalar.... apa entha koil la sanda varum nu kekariye... nadula okatha koluthi podanum nu avasiyam ila 😀"
        ],
        [
         "20",
         "7398",
         "Idiots, fools and Fanatics. God belongs to which sect? Belongs to which religion? Man created everything. Can you out His own feet (namam) on His forehead? Fools to the core. They are the enemies of Hinduism."
        ],
        [
         "21",
         "306",
         "தமிழ் நாட்டு நிலைமை ரொம்ப மோசமாக போய்க்கிட்டு ஆனா அது யாருக்கும் தெரியல இன்னும் கொஞ்ச நாள் போனா பிச்சை எடுக்கிற நிலைமை வரப்போது தமிழ்நாட்டு மக்களுக்கு"
        ],
        [
         "22",
         "4732",
         "Im also Tamilan living in mysore. Nangu kannada baruthe. I learnt kannada. Don't show ur stuppid attitude here. Banglore people should talk in kannada , but they speak only hindi with all the people. Then this will happen"
        ],
        [
         "23",
         "4494",
         "India is for everyone so stop hate against innocent people, instead show your anger towards politicians."
        ],
        [
         "24",
         "6128",
         "திமுக மீது பழி போட அந்த விஷகிறுமிகள் செய்யும் வேலை.கலைஞர்வீட்ல மருமகள் யார் தெரியுமா?"
        ],
        [
         "25",
         "1289",
         "அளவுக்கு அதிக மாக வடக்கன்கள் தமிழ் நாட்டுக்கு வருவதை தடுக்க வேன்டும் அவர்களுக்கு ஆதார் ரேசன் கார்டு ஓட்டு ஐடி கொடுக்க கூடாது அப்படி கொடுத்து இருந்தால் ரத்து செய்யவேன்ஙாடும்\nதமிழ் எழுங்கள் வடக்கனை விரட்டி அவர்கள் ஊரு"
        ],
        [
         "26",
         "2527",
         "UP la iruka mudiyala thaanda tamilnadu variya neega eppadi da engala pathupiga"
        ],
        [
         "27",
         "7158",
         "Varatharaj perumaal Arulasiyudan ean Aringar Anna piranthar endru ippodhu purihiradhu"
        ],
        [
         "28",
         "1819",
         "இனியும் தாமதம் வேண்டாம் இப்போது தட்டிக்கேட்ட இவர்கள் எப்போதோ விழித்துக்கொண்ட தமிழ்ப்புலிகள் விழித்துக்கொள்ளாத மீதமுள்ள தமிழர்களும் இனத்தால் ஒன்றினைவோமாக வெல்க தமிழ் வாழ்க தமிழ் வளர்க தமிழ் மீண்டெழுக எங்கள் தமிழ்ச்சொந்தங்களே"
        ],
        [
         "29",
         "364",
         "4 street la oru tamil family kooda ila..apa adhu varumai vida kodumai sir... vera angle la paarunga"
        ],
        [
         "30",
         "6805",
         "சேர்வை என்று உங்களை சொல்வார்கள் என்றால் ஏன் பெயருக்கு பின்னால் போலியாக தேவர் பட்டம்,  நீங்கள் அகமுடையார் என்றால்  சாதி சான்றிதழ் காட்ட முடியுமா,    அன்றைக்கு ஒரு கட்சி இன்றைக்கு ஒரு கட்சி நாளைக்கு ஒரு கட்சி என்று ஒரு தனி நிலைபாடு இல்லாமல்  தான் செய்யும் சட்டத்திற்கு புறம்பான செயல்களால் தன் மீது போடப்பட்ட கிரிமினல் குற்ற வழக்கில் இருந்து தப்பித்துக்கொள்ள சாதியை கேடயமாய் பயன்படுத்தி இளைஞர்களை தவறாப பாதைக்கு இட்டு செல்லும் இது போன்றவர்களால் சாதிக்கு பாதுகாப்பு கிடைக்கின்றதோ இல்லையோ இவருக்கு பாதுகாப்பு கிடைக்கும் என்று அமைப்பு கட்டி கொண்டு சாதியை அசிங்கப்படுத்துகின்றார்கள்...   நம் குல சாமிகள் மாமன்னர் மருதீஸ்வரர்கள் காப்பாற்றுவார்கள் நம் சாதியை என்பது மட்டும் உண்மை..."
        ],
        [
         "31",
         "2378",
         "களமாடும் உறவுகளுக்கு எமது வாழ்த்துக்கள்"
        ],
        [
         "32",
         "6969",
         "Avar kachi El vetrikarammaga serthu vittar"
        ],
        [
         "33",
         "4545",
         "Dai unaku content vanum na ena vanum na panuvigala\nNamaku namala thaa da ethiri avan epadi da namala pathupa ethuku ni humanity video vara podara uga mala eruntha mariyathaya poidichi da"
        ],
        [
         "34",
         "5630",
         "Poitu Vera Vela pu...n...da iruntha paarunga"
        ],
        [
         "35",
         "2798",
         " @elamaranelamaran6261  ஆமா கேட்டா படிப்பறிவில் சிறந்த தமிழன்...nu உருற்றது"
        ],
        [
         "36",
         "620",
         "Puriumpothu  too late aa erukkum.kalam kadanthu enna payan."
        ],
        [
         "37",
         "1187",
         "COIMBATORE, TIRUPUR , CHENNAI, HOUSR HINDI KARANUGA THAN IRUKANUGA NARIYA PER"
        ],
        [
         "38",
         "6318",
         "Seduled Caste  இடஒதுக்கீட்டின் அடிப்படையில் தான் தாழ்த்தப்பட்டோர் அரசுப் பணிக்கு செல்கிறார்கள் என்பதை துறைவாரியாக அறிக்கை வெளியிட வேண்டும்....."
        ],
        [
         "39",
         "7695",
         "அப்படி என்றால் எல்லா கோவில்களிலும்  சம உரிமை இருக்கவேண்டும்"
        ],
        [
         "40",
         "3816",
         "தமிழ் நாட்டில் இருக்கும் தமிழனுக்கு வேலை இல்லை இவனூக வந்தால் எப்படி அவன் கள் கிளம்பட்டும் நல்லது"
        ],
        [
         "41",
         "7541",
         "கொஞ்சம் கூட வாய் கூசாம சொல்றிங்களே திருப்பதில விஷ்ணுவா இருக்கார், முருகன் கோயிலை ராமானுஜர் பாலாஜி கோயிலா மாத்திட்டார்."
        ],
        [
         "42",
         "2965",
         "Karikd avaga solratu karikd rompa nallavaga avaga illana nama illa 🙏🙏"
        ],
        [
         "43",
         "4419",
         " @jaghanathankrishnan380  முட்டாள்கள் இருக்கும் வரை உங்களுக்கு பஞ்சம் இருக்காது"
        ],
        [
         "44",
         "3272",
         "அதற்கு முதல் காரணம் தமிழ்நாட்டில் எவனும் உருப்புடியா அவன் வேலையை பார்க்கிறது கிடையாது இரண்டாவது விஷயம் வட இந்தியர்களுக்கு சம்பளம் குறைவு"
        ],
        [
         "45",
         "540",
         "We Tamil makal don't do hard work so thats the reason north Indians have come in. They work hard and be happy with the salary that we offer. We are just good for laughing at others as it is visible in this video itself."
        ],
        [
         "46",
         "426",
         "Naam thamizhar katchiku vote pota nadaka vendiyadhu thana nadakum... 😀"
        ],
        [
         "47",
         "3178",
         "வேளை இருக்கட்டும் ticket இல்லாம கூட்டமா ஓசில போறது.,நகை கொள்ளை ஏடிஎம் மெசின் கொள்ளை கற்பழித்து மீனவ பெண் எரிப்பு சொல்லிட்டே போலாம் வேளைக்கு வந்த இடத்துல இவ்வளவு ஒழுக்கமா நடந்துக்குற ஆளுக்கு இங்க நம்ம ஆளே support வேற🤬"
        ],
        [
         "48",
         "1966",
         "வேறு மாநிலத்தில் பிழைக்கப் போய் அரசியல் பேசித் தான் பாருங்களேன்..."
        ],
        [
         "49",
         "7279",
         "Shia Vs Sunni தில் இருந்தா இப்படி ஒரு நிகழ்ச்சி செய்ய டா சன்டிவி !! அந்த பயம் இருக்கனும் !!"
        ]
       ],
       "shape": {
        "columns": 2,
        "rows": 1576
       }
      },
      "text/html": [
       "<div>\n",
       "<style scoped>\n",
       "    .dataframe tbody tr th:only-of-type {\n",
       "        vertical-align: middle;\n",
       "    }\n",
       "\n",
       "    .dataframe tbody tr th {\n",
       "        vertical-align: top;\n",
       "    }\n",
       "\n",
       "    .dataframe thead th {\n",
       "        text-align: right;\n",
       "    }\n",
       "</style>\n",
       "<table border=\"1\" class=\"dataframe\">\n",
       "  <thead>\n",
       "    <tr style=\"text-align: right;\">\n",
       "      <th></th>\n",
       "      <th>id</th>\n",
       "      <th>text</th>\n",
       "    </tr>\n",
       "  </thead>\n",
       "  <tbody>\n",
       "    <tr>\n",
       "      <th>0</th>\n",
       "      <td>4594</td>\n",
       "      <td>Humanity paatha intha slag countries prblm var...</td>\n",
       "    </tr>\n",
       "    <tr>\n",
       "      <th>1</th>\n",
       "      <td>3593</td>\n",
       "      <td>Avanga Holi kondada oruku poranga da</td>\n",
       "    </tr>\n",
       "    <tr>\n",
       "      <th>2</th>\n",
       "      <td>2533</td>\n",
       "      <td>Avangala avanga ooruke anupura vazhiya parunga.</td>\n",
       "    </tr>\n",
       "    <tr>\n",
       "      <th>3</th>\n",
       "      <td>6975</td>\n",
       "      <td>பைத்தியமாடா நீ.. நான் சோழிய வேளாளர். நான் என் ...</td>\n",
       "    </tr>\n",
       "    <tr>\n",
       "      <th>4</th>\n",
       "      <td>6011</td>\n",
       "      <td>Caste is there  parayan think to marry higheru...</td>\n",
       "    </tr>\n",
       "    <tr>\n",
       "      <th>...</th>\n",
       "      <td>...</td>\n",
       "      <td>...</td>\n",
       "    </tr>\n",
       "    <tr>\n",
       "      <th>1571</th>\n",
       "      <td>6360</td>\n",
       "      <td>Ivlo varalaru pesarelada kena...aprm ethuku da...</td>\n",
       "    </tr>\n",
       "    <tr>\n",
       "      <th>1572</th>\n",
       "      <td>6208</td>\n",
       "      <td>@dineshkumar6695   தம்பி. யார் பேச்சையும் கேட...</td>\n",
       "    </tr>\n",
       "    <tr>\n",
       "      <th>1573</th>\n",
       "      <td>6871</td>\n",
       "      <td>பார்ப்பானும் பறையனும் ஒன்னு  பழமொழி உள்ளது 😁😂</td>\n",
       "    </tr>\n",
       "    <tr>\n",
       "      <th>1574</th>\n",
       "      <td>442</td>\n",
       "      <td>நம்ம இடத்தை காப்பாத்திக்கிரது பேரு ரவுடிசம்னா ...</td>\n",
       "    </tr>\n",
       "    <tr>\n",
       "      <th>1575</th>\n",
       "      <td>377</td>\n",
       "      <td>Same in kerala, youths of kerala moving to us,...</td>\n",
       "    </tr>\n",
       "  </tbody>\n",
       "</table>\n",
       "<p>1576 rows × 2 columns</p>\n",
       "</div>"
      ],
      "text/plain": [
       "        id                                               text\n",
       "0     4594  Humanity paatha intha slag countries prblm var...\n",
       "1     3593               Avanga Holi kondada oruku poranga da\n",
       "2     2533    Avangala avanga ooruke anupura vazhiya parunga.\n",
       "3     6975  பைத்தியமாடா நீ.. நான் சோழிய வேளாளர். நான் என் ...\n",
       "4     6011  Caste is there  parayan think to marry higheru...\n",
       "...    ...                                                ...\n",
       "1571  6360  Ivlo varalaru pesarelada kena...aprm ethuku da...\n",
       "1572  6208   @dineshkumar6695   தம்பி. யார் பேச்சையும் கேட...\n",
       "1573  6871      பார்ப்பானும் பறையனும் ஒன்னு  பழமொழி உள்ளது 😁😂\n",
       "1574   442  நம்ம இடத்தை காப்பாத்திக்கிரது பேரு ரவுடிசம்னா ...\n",
       "1575   377  Same in kerala, youths of kerala moving to us,...\n",
       "\n",
       "[1576 rows x 2 columns]"
      ]
     },
     "execution_count": 38,
     "metadata": {},
     "output_type": "execute_result"
    }
   ],
   "source": [
    "import pandas as pd\n",
    "\n",
    "test_df = pd.read_csv(\"original/test.csv\")\n",
    "test_df"
   ]
  },
  {
   "cell_type": "code",
   "execution_count": 39,
   "metadata": {},
   "outputs": [
    {
     "data": {
      "application/vnd.microsoft.datawrangler.viewer.v0+json": {
       "columns": [
        {
         "name": "index",
         "rawType": "int64",
         "type": "integer"
        },
        {
         "name": "id",
         "rawType": "int64",
         "type": "integer"
        },
        {
         "name": "text",
         "rawType": "object",
         "type": "string"
        },
        {
         "name": "clean_text",
         "rawType": "object",
         "type": "string"
        }
       ],
       "conversionMethod": "pd.DataFrame",
       "ref": "a4a99c4e-0a8a-47f3-8d1a-277818903123",
       "rows": [
        [
         "128",
         "410",
         "தமிழர்கள் மரியாதை கொடுப்பதால். இவ்வளவு வடவர்கள் வருகை அதிகமாக இருக்கு நீங்க தமிழர்களுக்கு மரியாதை கற்று தரவேண்டாம்.",
         "தமிழர்கள் மரியாதை கொடுப்பதால். இவ்வளவு வடவர்கள் வருகை அதிகமாக இருக்கு நீங்க தமிழர்களுக்கு மரியாதை கற்று தரவேண்டாம்."
        ],
        [
         "697",
         "6855",
         "Onnai othu puduvaargal ipdi enagaiyum sollitu irukatha pathuka 🤣🤣🤣",
         "Onnai othu puduvaargal ipdi enagaiyum sollitu irukatha pathuka rolling_on_the_floor_laughing rolling_on_the_floor_laughing rolling_on_the_floor_laughing"
        ],
        [
         "1065",
         "1952",
         "North india la irunthu tamilnadu ku vantha first gst heavya podanum appa than change avanga",
         "North india la irunthu tamilnadu ku vantha first gst heavya podanum appa change avanga"
        ],
        [
         "784",
         "2914",
         "Nalla irukenu soluve.. yenda avanunga inga vandhu vela dhanada seiranunga.. yen unaku vela kadaiklana unoda iruka puthisali tamilar nala uzhaikura tamilara adichi thorathirviya..therama irundha polachipanga yara irundhalum..suma indha mattamana mananilaya vidunga da",
         "Nalla irukenu soluve.. yenda avanunga inga vandhu vela dhanada seiranunga.. yen unaku vela kadaiklana unoda iruka puthisali tamilar nala uzhaikura tamilara adichi thorathirviya..therama irundha polachipanga yara irundhalum..suma indha mattamana mananilaya vidunga da"
        ],
        [
         "1561",
         "812",
         "தமிழர்களை அழிக்க திராவிட முதளாளிகள்தான் வட இந்திய தொழிளாளர்களுக்கு வேலை கொடுக்கிறார்கள்.....",
         "தமிழர்களை அழிக்க திராவிட முதளாளிகள்தான் வட இந்திய தொழிளாளர்களுக்கு வேலை கொடுக்கிறார்கள்....."
        ],
        [
         "951",
         "3230",
         " @manirathnam721  12மணி நேர வேலைக்கு 300 மிக குறைவு சார் 500ஆவது வேண்டும் அவரும் மனைவி மக்களோடு வாழ வேண்டாமா ஏழைகள் படிக்காதவர்கள் பாடு மிக சிரமாக வாழ்க்கை கழிகிறது மிகவும் வருந்துகிறேன் மக்கள் பாவம்",
         "<USER> 12மணி நேர வேலைக்கு 300 குறைவு சார் 500ஆவது அவரும் மனைவி மக்களோடு வாழ வேண்டாமா ஏழைகள் படிக்காதவர்கள் பாடு சிரமாக வாழ்க்கை கழிகிறது வருந்துகிறேன் மக்கள் பாவம்"
        ],
        [
         "649",
         "3120",
         "அவங்களுக்கு எதுக்கு இப்ப சொம்பு அடிக்குறிங்க????",
         "அவங்களுக்கு எதுக்கு இப்ப சொம்பு அடிக்குறிங்க????"
        ],
        [
         "1390",
         "1271",
         "அவர்கள் வட இந்தியர்கள் கிடையாது தமிழர்கள் தமிழ்நாட்டில் தமிழர்கள் மட்டும் இருந்து வட  இந்தியர்கள் வந்தால் தான் அவர்கள் வட இந்தியர்கள்",
         "வட இந்தியர்கள் கிடையாது தமிழர்கள் தமிழ்நாட்டில் தமிழர்கள் வட இந்தியர்கள் வந்தால் வட இந்தியர்கள்"
        ],
        [
         "1351",
         "4965",
         "Karikd avaga solratu karikd rompa nallavaga avaga illana nama illa 🙏🙏",
         "Karikd avaga solratu karikd rompa nallavaga avaga illana nama illa folded_hands folded_hands"
        ],
        [
         "476",
         "4251",
         "மார்வாடிகளும் பீகாரிகளும் தமிழகத்தை வெகு வேகமாக சுரண்டிக் கொண்டிருக்கிறார்கள்.. இப்போதாவது விழித்துக் கொள் தமிழா.. இல்லையேல் சொந்த மண்ணில் அகதிகளாக நிற்கும் நிலை மீண்டும் ஒருமுறை ஏற்படும்.",
         "மார்வாடிகளும் பீகாரிகளும் தமிழகத்தை வெகு வேகமாக சுரண்டிக் கொண்டிருக்கிறார்கள்.. இப்போதாவது விழித்துக் கொள் தமிழா.. இல்லையேல் சொந்த மண்ணில் அகதிகளாக நிற்கும் நிலை மீண்டும் ஒருமுறை ஏற்படும்."
        ],
        [
         "1202",
         "5983",
         "இடையே கேன புன்ட தமிழக தொழிலானரகள பத்தி தப்பா பேசாதடா நாயே",
         "இடையே கேன புன்ட தமிழக தொழிலானரகள பத்தி தப்பா பேசாதடா நாயே"
        ],
        [
         "1057",
         "5964",
         "தமிழ்நாட்டிலிருந்து திருப்பி அனுப்ப வேண்டிய ஒரே நபர் ஆளுநர் ரவி மட்டுமே. மற்றவர்களால் எந்த பிரச்சினையும் இல்லை.",
         "தமிழ்நாட்டிலிருந்து திருப்பி அனுப்ப வேண்டிய நபர் ஆளுநர் ரவி மட்டுமே. மற்றவர்களால் பிரச்சினையும் இல்லை."
        ],
        [
         "826",
         "4084",
         "அண்ணே அடிச்சு நொறுக்குங்கனே கடைய",
         "அண்ணே அடிச்சு நொறுக்குங்கனே கடைய"
        ],
        [
         "862",
         "3723",
         "உண்மையிலே நமது தமிழக அரசை பாராட்டவேண்டும் வடக்கனுக்கு பிரச்சனை யென்றால் அதிரடியாக களத்தில் இறங்கிய தமிழக அரசு இலங்கை ராணுவத்தால் பல ஆண்டுகளாக மீவைர்களை தாக்கும். பிரச்சனையகண்டுகொள்ளாத தமிழக அரசை நினைத்தால் வேதனையாகயிருக்கு",
         "உண்மையிலே நமது தமிழக அரசை பாராட்டவேண்டும் வடக்கனுக்கு பிரச்சனை யென்றால் அதிரடியாக களத்தில் இறங்கிய தமிழக அரசு இலங்கை ராணுவத்தால் ஆண்டுகளாக மீவைர்களை தாக்கும். பிரச்சனையகண்டுகொள்ளாத தமிழக அரசை நினைத்தால் வேதனையாகயிருக்கு"
        ],
        [
         "1340",
         "7769",
         "இருவருக்கும் கத்தி தேவை மற்றும் யார் வலிமையானவர் என்பதை நிரூபிக்கவும். சபாஷ் நன்றாக உள்ளது 👏",
         "இருவருக்கும் கத்தி தேவை வலிமையானவர் நிரூபிக்கவும். சபாஷ் நன்றாக clapping_hands"
        ],
        [
         "821",
         "6984",
         "வெள்ளாளர் வேறு முதலியார் வேறு...",
         "வெள்ளாளர் முதலியார் வேறு..."
        ],
        [
         "1169",
         "7775",
         "Avaakaluku கத்தியால் சண்டை poda theriyathu கத்தி thaan சண்டை poda theriyum😂",
         "Avaakaluku கத்தியால் சண்டை poda theriyathu கத்தி thaan சண்டை poda theriyum face_with_tears_of_joy"
        ],
        [
         "1494",
         "1917",
         "வந்தீங்களா பொழப்பா பார்த்தியா போனமா இருக்கனும். தமிழன் டா. நாம் தமிழர்.",
         "வந்தீங்களா பொழப்பா பார்த்தியா போனமா இருக்கனும். தமிழன் டா. தமிழர்."
        ],
        [
         "655",
         "7223",
         "அரசியல் புத்தி அடிபடை அறிவு இந்தியாவில் இல்லையா  ?",
         "அரசியல் புத்தி அடிபடை அறிவு இந்தியாவில் இல்லையா ?"
        ],
        [
         "259",
         "4598",
         "No need to show dislike against North laborers . Govt should regulate and keep records of migrants coming in and maintain the data to track miscreants if any .",
         "need show dislike North laborers . Govt regulate keep records migrants coming maintain data track miscreants ."
        ],
        [
         "225",
         "1579",
         "Hi, North Indians marvadi, becareful live in our Tamil Nadu and Puducherry... remember don't threatened to our people.... careful with you and your family....",
         "Hi, North Indians marvadi, becareful live Tamil Nadu Puducherry... remember threatened people.... careful family...."
        ],
        [
         "1174",
         "7335",
         "டேய் மாமா பசங்களா நீங்க இரண்டு பேரும் திருட்டு பசங்க தான்.‌....நாங்க கடவுளை பார்க எங்கிட்ட பிச்சை கேட்கும் நீங்க திருடர்கள் தான.....",
         "டேய் மாமா பசங்களா நீங்க இரண்டு பேரும் திருட்டு பசங்க தான்.‌....நாங்க கடவுளை பார்க எங்கிட்ட பிச்சை கேட்கும் நீங்க திருடர்கள் தான....."
        ],
        [
         "1037",
         "4590",
         "வடக்கன்கள் உங்கள் மாநிலங்களில் வேலை பார்த்துக் கொள்ளுங்கள் சிறந்த வேலைகளாக",
         "வடக்கன்கள் உங்கள் மாநிலங்களில் வேலை பார்த்துக் கொள்ளுங்கள் சிறந்த வேலைகளாக"
        ],
        [
         "924",
         "7777",
         "வடகலை மற்றும் தென்கலை என்றால் என்ன?",
         "வடகலை தென்கலை என்றால் என்ன?"
        ],
        [
         "485",
         "5112",
         " @venkat-saivapillai178  இப்படியே உன் சாதி பிடிச்சிக்கிட்டு தொங்கு அவன் பெருசா நமக்கு வெப்பான் வாயில 😂😂😂",
         "<USER> saivapillai178 இப்படியே சாதி பிடிச்சிக்கிட்டு தொங்கு பெருசா நமக்கு வெப்பான் வாயில face_with_tears_of_joy face_with_tears_of_joy face_with_tears_of_joy"
        ],
        [
         "24",
         "6128",
         "திமுக மீது பழி போட அந்த விஷகிறுமிகள் செய்யும் வேலை.கலைஞர்வீட்ல மருமகள் யார் தெரியுமா?",
         "திமுக பழி போட விஷகிறுமிகள் செய்யும் வேலை.கலைஞர்வீட்ல மருமகள் தெரியுமா?"
        ],
        [
         "1114",
         "2732",
         "Im also Tamilan living in mysore. Nangu kannada baruthe. I learnt kannada. Don't show ur stuppid attitude here. Banglore people should talk in kannada , but they speak only hindi with all the people. Then this will happen",
         "Im also Tamilan living mysore. Nangu kannada baruthe. learnt kannada. show ur stuppid attitude here. Banglore people talk kannada , speak hindi people. happen"
        ],
        [
         "39",
         "7695",
         "அப்படி என்றால் எல்லா கோவில்களிலும்  சம உரிமை இருக்கவேண்டும்",
         "அப்படி என்றால் எல்லா கோவில்களிலும் சம உரிமை இருக்கவேண்டும்"
        ],
        [
         "1094",
         "6525",
         "Those, who are eating BEEF, who are eating  FORK. are classified as depressed caste in the year 1840.",
         "Those, eating BEEF, eating FORK. classified depressed caste year 1840."
        ],
        [
         "748",
         "6925",
         " @karthikt3852  poolgundhar kalvetta kaatu da thevdiya paaiya. Vaai pundai pesura.",
         "<USER> poolgundhar kalvetta kaatu da thevdiya paaiya. Vaai pundai pesura."
        ],
        [
         "1475",
         "6034",
         " @mohankumar-hi5rc  ஆமாம் சாதிய மனநிலை தான். மாட்டுக்கறி தின்பவர்களை எப்படி ஒரு சைவ கடவுள் கோயிலில் அனுமதிக்க முடியும்?",
         "<USER> hi5rc ஆமாம் சாதிய மனநிலை தான். மாட்டுக்கறி தின்பவர்களை எப்படி சைவ கடவுள் கோயிலில் அனுமதிக்க முடியும்?"
        ],
        [
         "392",
         "1363",
         "Wat fuck.....    World is one familyI want tamilans rule all over the world don't contain us......",
         "Wat fuck..... World one familyI want tamilans rule world contain us......"
        ],
        [
         "1251",
         "5073",
         "Appo un pondatti ya 2040 avana thukkirva 😂",
         "Appo un pondatti ya 2040 avana thukkirva face_with_tears_of_joy"
        ],
        [
         "636",
         "3768",
         "வடமாநிலத்தவர்  அவர்கள் மாநிலத்தில் நலவாழவு அமையட்டும்அரசியல் விழிப்புர்வு வளரட்டும்",
         "வடமாநிலத்தவர் மாநிலத்தில் நலவாழவு அமையட்டும்அரசியல் விழிப்புர்வு வளரட்டும்"
        ],
        [
         "827",
         "2603",
         "Dei avungalum manusanga dhaan....vandhorai vazha vaikkum tamilagam vazha vaikkalana adhu tamilagame illa...tamilargaloda panba marandhingana neenga tamilare illa",
         "Dei avungalum manusanga dhaan....vandhorai vazha vaikkum tamilagam vazha vaikkalana adhu tamilagame illa...tamilargaloda panba marandhingana neenga tamilare illa"
        ],
        [
         "475",
         "7517",
         "என்ன ஓய் சும்மா பேசிண்டு இருக்கேள்.. அந்த மணிய 🔔 தூக்கி அந்தாளு மண்டைய உடைங்கோ😂",
         "ஓய் சும்மா பேசிண்டு இருக்கேள்.. மணிய bell தூக்கி அந்தாளு மண்டைய உடைங்கோ face_with_tears_of_joy"
        ],
        [
         "1298",
         "1526",
         "அண்ணா அடுத்த ஓட்டு உங்களுக்கு தான்",
         "அண்ணா ஓட்டு உங்களுக்கு"
        ],
        [
         "614",
         "6644",
         " @RajKumar-gl2wd  can you show any pallar  is having his community certificate as Adi-Dravida. In Northern Tamilnadu, only paraiyars are issued with  Adi-Dravida  community certificates because there are only paraiyars are thickly populated. In southern and delta regions, the pallar, paraiyar and chackiliyar can't get their community certificates as Adi-Dravida.  In western  region( coimbatore), pallar can get their community certificate as kudumban or pallan , paraiyar only get their community certificates as Adi-Dravida.  Chackiliyars  are getting their community certificates as   sakkiliyar or Arunthathiyar.  Even government officials won't issue community certificates as Adi-Dravida  in the regions where these three communities are populated.",
         "<USER> gl2wd show pallar community certificate Adi Dravida. Northern Tamilnadu, paraiyars issued Adi Dravida community certificates paraiyars thickly populated. southern delta regions, pallar, paraiyar chackiliyar can't get community certificates Adi Dravida. western region( coimbatore), pallar get community certificate kudumban pallan , paraiyar get community certificates Adi Dravida. Chackiliyars getting community certificates sakkiliyar Arunthathiyar. Even government officials issue community certificates Adi Dravida regions three communities populated."
        ],
        [
         "500",
         "3455",
         "Uruttuda nalla uruttunga...Naya sutta mari suttanga namma alungala kekka oru all illa....",
         "Uruttuda nalla uruttunga...Naya sutta mari suttanga namma alungala kekka oru illa...."
        ],
        [
         "71",
         "4809",
         "nee yetho mudivu pannittu vanthutta enakku therinji nee thamizhan ah irrukka vaippu illa",
         "nee yetho mudivu pannittu vanthutta enakku therinji nee thamizhan ah irrukka vaippu illa"
        ],
        [
         "569",
         "4418",
         " @jokerboys1380  கண்டீப்பா இருந்திருப்போம் வோரு ரூபத்தில்.\nஅந்த உருவம் கண்டு இந்தியா அல்லல் பட்டிருக்கும்,  இந்தியாவிற்கும் ஓர் சந்தர்ப்பத்தை கொடுக்கவேண்டும் என்று தான் இப்போது இந்த உருவத்தில் சீமான் உள்ளார் என்பது பலபேருக்கு தெரிந்திருக்க...\n உ ச்சம் போக இன்னும் மிச்ச தூரம் கடக்க வேண்டும் என்று நினைத்து உள்ளார்..",
         "<USER> கண்டீப்பா இருந்திருப்போம் வோரு ரூபத்தில். உருவம் கண்டு இந்தியா அல்லல் பட்டிருக்கும், இந்தியாவிற்கும் சந்தர்ப்பத்தை கொடுக்கவேண்டும் உருவத்தில் சீமான் உள்ளார் பலபேருக்கு தெரிந்திருக்க... உ ச்சம் போக மிச்ச தூரம் கடக்க நினைத்து உள்ளார்.."
        ],
        [
         "1560",
         "3418",
         "தமிழக இளைஞர்கள் தென்டங்கள் படித்துவிட்டு கெளரவம் பார்க்கிறார் கள்.அதனால் வடக்கன் எனக்கு வேண்டும்.",
         "தமிழக இளைஞர்கள் தென்டங்கள் படித்துவிட்டு கெளரவம் பார்க்கிறார் கள்.அதனால் வடக்கன் வேண்டும்."
        ],
        [
         "1480",
         "4046",
         "டேய் சேட்டு ஒழுங்கு இரு மகன தமிழ் நாட்டில் ஒருத்தனும் இருக்கமாட்டிங்க.",
         "டேய் சேட்டு ஒழுங்கு மகன தமிழ் நாட்டில் ஒருத்தனும் இருக்கமாட்டிங்க."
        ],
        [
         "1141",
         "661",
         "North Indian people's நமக்கு பிரச்சனை இல்லை இங்க வேளை கொடுக்கும் தமிழ் people's தான் காரணம்",
         "North Indian people's நமக்கு பிரச்சனை இல்லை இங்க வேளை கொடுக்கும் தமிழ் people's காரணம்"
        ],
        [
         "670",
         "5494",
         "Holly பண்டிகை க்கு ஊருக்கு போரானுங்க திரும்பி கண்டீப்பா வருவானுங்க...\nஜல்லிக்கட்டு க்கு ஒன்று ஊடியது போல் ஓன்று கூடித்தான் ஆகனும்",
         "Holly பண்டிகை க்கு ஊருக்கு போரானுங்க திரும்பி கண்டீப்பா வருவானுங்க... ஜல்லிக்கட்டு க்கு ஒன்று ஊடியது ஓன்று கூடித்தான் ஆகனும்"
        ],
        [
         "1075",
         "5107",
         "What the ****.i am born TAMILAN but Bharath thu thu",
         "****.i born TAMILAN Bharath thu thu"
        ],
        [
         "626",
         "2770",
         "But to be honest There are some who are really hardworking",
         "honest really hardworking"
        ],
        [
         "617",
         "3421",
         "Ponkada ponka enke thamilargal munnera vazhi vidungal",
         "Ponkada ponka enke thamilargal munnera vazhi vidungal"
        ],
        [
         "311",
         "2479",
         "IndiaGlitz உன்னோட நோக்கம் தெரியும். மூடிட்டு இரு",
         "IndiaGlitz உன்னோட நோக்கம் தெரியும். மூடிட்டு"
        ],
        [
         "282",
         "596",
         "Ithuku karanam yarum illai.. nama Tamilnadu'la irukaravaga tha karanam.. idathai koduthal madathai piduguvan...",
         "Ithuku karanam yarum illai.. nama Tamilnadu'la irukaravaga tha karanam.. idathai koduthal madathai piduguvan..."
        ]
       ],
       "shape": {
        "columns": 3,
        "rows": 50
       }
      },
      "text/html": [
       "<div>\n",
       "<style scoped>\n",
       "    .dataframe tbody tr th:only-of-type {\n",
       "        vertical-align: middle;\n",
       "    }\n",
       "\n",
       "    .dataframe tbody tr th {\n",
       "        vertical-align: top;\n",
       "    }\n",
       "\n",
       "    .dataframe thead th {\n",
       "        text-align: right;\n",
       "    }\n",
       "</style>\n",
       "<table border=\"1\" class=\"dataframe\">\n",
       "  <thead>\n",
       "    <tr style=\"text-align: right;\">\n",
       "      <th></th>\n",
       "      <th>id</th>\n",
       "      <th>text</th>\n",
       "      <th>clean_text</th>\n",
       "    </tr>\n",
       "  </thead>\n",
       "  <tbody>\n",
       "    <tr>\n",
       "      <th>128</th>\n",
       "      <td>410</td>\n",
       "      <td>தமிழர்கள் மரியாதை கொடுப்பதால். இவ்வளவு வடவர்கள...</td>\n",
       "      <td>தமிழர்கள் மரியாதை கொடுப்பதால். இவ்வளவு வடவர்கள...</td>\n",
       "    </tr>\n",
       "    <tr>\n",
       "      <th>697</th>\n",
       "      <td>6855</td>\n",
       "      <td>Onnai othu puduvaargal ipdi enagaiyum sollitu ...</td>\n",
       "      <td>Onnai othu puduvaargal ipdi enagaiyum sollitu ...</td>\n",
       "    </tr>\n",
       "    <tr>\n",
       "      <th>1065</th>\n",
       "      <td>1952</td>\n",
       "      <td>North india la irunthu tamilnadu ku vantha fir...</td>\n",
       "      <td>North india la irunthu tamilnadu ku vantha fir...</td>\n",
       "    </tr>\n",
       "    <tr>\n",
       "      <th>784</th>\n",
       "      <td>2914</td>\n",
       "      <td>Nalla irukenu soluve.. yenda avanunga inga van...</td>\n",
       "      <td>Nalla irukenu soluve.. yenda avanunga inga van...</td>\n",
       "    </tr>\n",
       "    <tr>\n",
       "      <th>1561</th>\n",
       "      <td>812</td>\n",
       "      <td>தமிழர்களை அழிக்க திராவிட முதளாளிகள்தான் வட இந்...</td>\n",
       "      <td>தமிழர்களை அழிக்க திராவிட முதளாளிகள்தான் வட இந்...</td>\n",
       "    </tr>\n",
       "    <tr>\n",
       "      <th>951</th>\n",
       "      <td>3230</td>\n",
       "      <td>@manirathnam721  12மணி நேர வேலைக்கு 300 மிக க...</td>\n",
       "      <td>&lt;USER&gt; 12மணி நேர வேலைக்கு 300 குறைவு சார் 500ஆ...</td>\n",
       "    </tr>\n",
       "    <tr>\n",
       "      <th>649</th>\n",
       "      <td>3120</td>\n",
       "      <td>அவங்களுக்கு எதுக்கு இப்ப சொம்பு அடிக்குறிங்க????</td>\n",
       "      <td>அவங்களுக்கு எதுக்கு இப்ப சொம்பு அடிக்குறிங்க????</td>\n",
       "    </tr>\n",
       "    <tr>\n",
       "      <th>1390</th>\n",
       "      <td>1271</td>\n",
       "      <td>அவர்கள் வட இந்தியர்கள் கிடையாது தமிழர்கள் தமிழ...</td>\n",
       "      <td>வட இந்தியர்கள் கிடையாது தமிழர்கள் தமிழ்நாட்டில...</td>\n",
       "    </tr>\n",
       "    <tr>\n",
       "      <th>1351</th>\n",
       "      <td>4965</td>\n",
       "      <td>Karikd avaga solratu karikd rompa nallavaga av...</td>\n",
       "      <td>Karikd avaga solratu karikd rompa nallavaga av...</td>\n",
       "    </tr>\n",
       "    <tr>\n",
       "      <th>476</th>\n",
       "      <td>4251</td>\n",
       "      <td>மார்வாடிகளும் பீகாரிகளும் தமிழகத்தை வெகு வேகமா...</td>\n",
       "      <td>மார்வாடிகளும் பீகாரிகளும் தமிழகத்தை வெகு வேகமா...</td>\n",
       "    </tr>\n",
       "    <tr>\n",
       "      <th>1202</th>\n",
       "      <td>5983</td>\n",
       "      <td>இடையே கேன புன்ட தமிழக தொழிலானரகள பத்தி தப்பா ப...</td>\n",
       "      <td>இடையே கேன புன்ட தமிழக தொழிலானரகள பத்தி தப்பா ப...</td>\n",
       "    </tr>\n",
       "    <tr>\n",
       "      <th>1057</th>\n",
       "      <td>5964</td>\n",
       "      <td>தமிழ்நாட்டிலிருந்து திருப்பி அனுப்ப வேண்டிய ஒர...</td>\n",
       "      <td>தமிழ்நாட்டிலிருந்து திருப்பி அனுப்ப வேண்டிய நப...</td>\n",
       "    </tr>\n",
       "    <tr>\n",
       "      <th>826</th>\n",
       "      <td>4084</td>\n",
       "      <td>அண்ணே அடிச்சு நொறுக்குங்கனே கடைய</td>\n",
       "      <td>அண்ணே அடிச்சு நொறுக்குங்கனே கடைய</td>\n",
       "    </tr>\n",
       "    <tr>\n",
       "      <th>862</th>\n",
       "      <td>3723</td>\n",
       "      <td>உண்மையிலே நமது தமிழக அரசை பாராட்டவேண்டும் வடக்...</td>\n",
       "      <td>உண்மையிலே நமது தமிழக அரசை பாராட்டவேண்டும் வடக்...</td>\n",
       "    </tr>\n",
       "    <tr>\n",
       "      <th>1340</th>\n",
       "      <td>7769</td>\n",
       "      <td>இருவருக்கும் கத்தி தேவை மற்றும் யார் வலிமையானவ...</td>\n",
       "      <td>இருவருக்கும் கத்தி தேவை வலிமையானவர் நிரூபிக்கவ...</td>\n",
       "    </tr>\n",
       "    <tr>\n",
       "      <th>821</th>\n",
       "      <td>6984</td>\n",
       "      <td>வெள்ளாளர் வேறு முதலியார் வேறு...</td>\n",
       "      <td>வெள்ளாளர் முதலியார் வேறு...</td>\n",
       "    </tr>\n",
       "    <tr>\n",
       "      <th>1169</th>\n",
       "      <td>7775</td>\n",
       "      <td>Avaakaluku கத்தியால் சண்டை poda theriyathu கத்...</td>\n",
       "      <td>Avaakaluku கத்தியால் சண்டை poda theriyathu கத்...</td>\n",
       "    </tr>\n",
       "    <tr>\n",
       "      <th>1494</th>\n",
       "      <td>1917</td>\n",
       "      <td>வந்தீங்களா பொழப்பா பார்த்தியா போனமா இருக்கனும்...</td>\n",
       "      <td>வந்தீங்களா பொழப்பா பார்த்தியா போனமா இருக்கனும்...</td>\n",
       "    </tr>\n",
       "    <tr>\n",
       "      <th>655</th>\n",
       "      <td>7223</td>\n",
       "      <td>அரசியல் புத்தி அடிபடை அறிவு இந்தியாவில் இல்லைய...</td>\n",
       "      <td>அரசியல் புத்தி அடிபடை அறிவு இந்தியாவில் இல்லையா ?</td>\n",
       "    </tr>\n",
       "    <tr>\n",
       "      <th>259</th>\n",
       "      <td>4598</td>\n",
       "      <td>No need to show dislike against North laborers...</td>\n",
       "      <td>need show dislike North laborers . Govt regula...</td>\n",
       "    </tr>\n",
       "    <tr>\n",
       "      <th>225</th>\n",
       "      <td>1579</td>\n",
       "      <td>Hi, North Indians marvadi, becareful live in o...</td>\n",
       "      <td>Hi, North Indians marvadi, becareful live Tami...</td>\n",
       "    </tr>\n",
       "    <tr>\n",
       "      <th>1174</th>\n",
       "      <td>7335</td>\n",
       "      <td>டேய் மாமா பசங்களா நீங்க இரண்டு பேரும் திருட்டு...</td>\n",
       "      <td>டேய் மாமா பசங்களா நீங்க இரண்டு பேரும் திருட்டு...</td>\n",
       "    </tr>\n",
       "    <tr>\n",
       "      <th>1037</th>\n",
       "      <td>4590</td>\n",
       "      <td>வடக்கன்கள் உங்கள் மாநிலங்களில் வேலை பார்த்துக்...</td>\n",
       "      <td>வடக்கன்கள் உங்கள் மாநிலங்களில் வேலை பார்த்துக்...</td>\n",
       "    </tr>\n",
       "    <tr>\n",
       "      <th>924</th>\n",
       "      <td>7777</td>\n",
       "      <td>வடகலை மற்றும் தென்கலை என்றால் என்ன?</td>\n",
       "      <td>வடகலை தென்கலை என்றால் என்ன?</td>\n",
       "    </tr>\n",
       "    <tr>\n",
       "      <th>485</th>\n",
       "      <td>5112</td>\n",
       "      <td>@venkat-saivapillai178  இப்படியே உன் சாதி பிட...</td>\n",
       "      <td>&lt;USER&gt; saivapillai178 இப்படியே சாதி பிடிச்சிக்...</td>\n",
       "    </tr>\n",
       "    <tr>\n",
       "      <th>24</th>\n",
       "      <td>6128</td>\n",
       "      <td>திமுக மீது பழி போட அந்த விஷகிறுமிகள் செய்யும் ...</td>\n",
       "      <td>திமுக பழி போட விஷகிறுமிகள் செய்யும் வேலை.கலைஞர...</td>\n",
       "    </tr>\n",
       "    <tr>\n",
       "      <th>1114</th>\n",
       "      <td>2732</td>\n",
       "      <td>Im also Tamilan living in mysore. Nangu kannad...</td>\n",
       "      <td>Im also Tamilan living mysore. Nangu kannada b...</td>\n",
       "    </tr>\n",
       "    <tr>\n",
       "      <th>39</th>\n",
       "      <td>7695</td>\n",
       "      <td>அப்படி என்றால் எல்லா கோவில்களிலும்  சம உரிமை இ...</td>\n",
       "      <td>அப்படி என்றால் எல்லா கோவில்களிலும் சம உரிமை இர...</td>\n",
       "    </tr>\n",
       "    <tr>\n",
       "      <th>1094</th>\n",
       "      <td>6525</td>\n",
       "      <td>Those, who are eating BEEF, who are eating  FO...</td>\n",
       "      <td>Those, eating BEEF, eating FORK. classified de...</td>\n",
       "    </tr>\n",
       "    <tr>\n",
       "      <th>748</th>\n",
       "      <td>6925</td>\n",
       "      <td>@karthikt3852  poolgundhar kalvetta kaatu da ...</td>\n",
       "      <td>&lt;USER&gt; poolgundhar kalvetta kaatu da thevdiya ...</td>\n",
       "    </tr>\n",
       "    <tr>\n",
       "      <th>1475</th>\n",
       "      <td>6034</td>\n",
       "      <td>@mohankumar-hi5rc  ஆமாம் சாதிய மனநிலை தான். ம...</td>\n",
       "      <td>&lt;USER&gt; hi5rc ஆமாம் சாதிய மனநிலை தான். மாட்டுக்...</td>\n",
       "    </tr>\n",
       "    <tr>\n",
       "      <th>392</th>\n",
       "      <td>1363</td>\n",
       "      <td>Wat fuck.....    World is one familyI want tam...</td>\n",
       "      <td>Wat fuck..... World one familyI want tamilans ...</td>\n",
       "    </tr>\n",
       "    <tr>\n",
       "      <th>1251</th>\n",
       "      <td>5073</td>\n",
       "      <td>Appo un pondatti ya 2040 avana thukkirva 😂</td>\n",
       "      <td>Appo un pondatti ya 2040 avana thukkirva face_...</td>\n",
       "    </tr>\n",
       "    <tr>\n",
       "      <th>636</th>\n",
       "      <td>3768</td>\n",
       "      <td>வடமாநிலத்தவர்  அவர்கள் மாநிலத்தில் நலவாழவு அமை...</td>\n",
       "      <td>வடமாநிலத்தவர் மாநிலத்தில் நலவாழவு அமையட்டும்அர...</td>\n",
       "    </tr>\n",
       "    <tr>\n",
       "      <th>827</th>\n",
       "      <td>2603</td>\n",
       "      <td>Dei avungalum manusanga dhaan....vandhorai vaz...</td>\n",
       "      <td>Dei avungalum manusanga dhaan....vandhorai vaz...</td>\n",
       "    </tr>\n",
       "    <tr>\n",
       "      <th>475</th>\n",
       "      <td>7517</td>\n",
       "      <td>என்ன ஓய் சும்மா பேசிண்டு இருக்கேள்.. அந்த மணிய...</td>\n",
       "      <td>ஓய் சும்மா பேசிண்டு இருக்கேள்.. மணிய bell தூக்...</td>\n",
       "    </tr>\n",
       "    <tr>\n",
       "      <th>1298</th>\n",
       "      <td>1526</td>\n",
       "      <td>அண்ணா அடுத்த ஓட்டு உங்களுக்கு தான்</td>\n",
       "      <td>அண்ணா ஓட்டு உங்களுக்கு</td>\n",
       "    </tr>\n",
       "    <tr>\n",
       "      <th>614</th>\n",
       "      <td>6644</td>\n",
       "      <td>@RajKumar-gl2wd  can you show any pallar  is ...</td>\n",
       "      <td>&lt;USER&gt; gl2wd show pallar community certificate...</td>\n",
       "    </tr>\n",
       "    <tr>\n",
       "      <th>500</th>\n",
       "      <td>3455</td>\n",
       "      <td>Uruttuda nalla uruttunga...Naya sutta mari sut...</td>\n",
       "      <td>Uruttuda nalla uruttunga...Naya sutta mari sut...</td>\n",
       "    </tr>\n",
       "    <tr>\n",
       "      <th>71</th>\n",
       "      <td>4809</td>\n",
       "      <td>nee yetho mudivu pannittu vanthutta enakku the...</td>\n",
       "      <td>nee yetho mudivu pannittu vanthutta enakku the...</td>\n",
       "    </tr>\n",
       "    <tr>\n",
       "      <th>569</th>\n",
       "      <td>4418</td>\n",
       "      <td>@jokerboys1380  கண்டீப்பா இருந்திருப்போம் வோர...</td>\n",
       "      <td>&lt;USER&gt; கண்டீப்பா இருந்திருப்போம் வோரு ரூபத்தில...</td>\n",
       "    </tr>\n",
       "    <tr>\n",
       "      <th>1560</th>\n",
       "      <td>3418</td>\n",
       "      <td>தமிழக இளைஞர்கள் தென்டங்கள் படித்துவிட்டு கெளரவ...</td>\n",
       "      <td>தமிழக இளைஞர்கள் தென்டங்கள் படித்துவிட்டு கெளரவ...</td>\n",
       "    </tr>\n",
       "    <tr>\n",
       "      <th>1480</th>\n",
       "      <td>4046</td>\n",
       "      <td>டேய் சேட்டு ஒழுங்கு இரு மகன தமிழ் நாட்டில் ஒரு...</td>\n",
       "      <td>டேய் சேட்டு ஒழுங்கு மகன தமிழ் நாட்டில் ஒருத்தன...</td>\n",
       "    </tr>\n",
       "    <tr>\n",
       "      <th>1141</th>\n",
       "      <td>661</td>\n",
       "      <td>North Indian people's நமக்கு பிரச்சனை இல்லை இங...</td>\n",
       "      <td>North Indian people's நமக்கு பிரச்சனை இல்லை இங...</td>\n",
       "    </tr>\n",
       "    <tr>\n",
       "      <th>670</th>\n",
       "      <td>5494</td>\n",
       "      <td>Holly பண்டிகை க்கு ஊருக்கு போரானுங்க திரும்பி ...</td>\n",
       "      <td>Holly பண்டிகை க்கு ஊருக்கு போரானுங்க திரும்பி ...</td>\n",
       "    </tr>\n",
       "    <tr>\n",
       "      <th>1075</th>\n",
       "      <td>5107</td>\n",
       "      <td>What the ****.i am born TAMILAN but Bharath th...</td>\n",
       "      <td>****.i born TAMILAN Bharath thu thu</td>\n",
       "    </tr>\n",
       "    <tr>\n",
       "      <th>626</th>\n",
       "      <td>2770</td>\n",
       "      <td>But to be honest There are some who are really...</td>\n",
       "      <td>honest really hardworking</td>\n",
       "    </tr>\n",
       "    <tr>\n",
       "      <th>617</th>\n",
       "      <td>3421</td>\n",
       "      <td>Ponkada ponka enke thamilargal munnera vazhi v...</td>\n",
       "      <td>Ponkada ponka enke thamilargal munnera vazhi v...</td>\n",
       "    </tr>\n",
       "    <tr>\n",
       "      <th>311</th>\n",
       "      <td>2479</td>\n",
       "      <td>IndiaGlitz உன்னோட நோக்கம் தெரியும். மூடிட்டு இரு</td>\n",
       "      <td>IndiaGlitz உன்னோட நோக்கம் தெரியும். மூடிட்டு</td>\n",
       "    </tr>\n",
       "    <tr>\n",
       "      <th>282</th>\n",
       "      <td>596</td>\n",
       "      <td>Ithuku karanam yarum illai.. nama Tamilnadu'la...</td>\n",
       "      <td>Ithuku karanam yarum illai.. nama Tamilnadu'la...</td>\n",
       "    </tr>\n",
       "  </tbody>\n",
       "</table>\n",
       "</div>"
      ],
      "text/plain": [
       "        id                                               text  \\\n",
       "128    410  தமிழர்கள் மரியாதை கொடுப்பதால். இவ்வளவு வடவர்கள...   \n",
       "697   6855  Onnai othu puduvaargal ipdi enagaiyum sollitu ...   \n",
       "1065  1952  North india la irunthu tamilnadu ku vantha fir...   \n",
       "784   2914  Nalla irukenu soluve.. yenda avanunga inga van...   \n",
       "1561   812  தமிழர்களை அழிக்க திராவிட முதளாளிகள்தான் வட இந்...   \n",
       "951   3230   @manirathnam721  12மணி நேர வேலைக்கு 300 மிக க...   \n",
       "649   3120   அவங்களுக்கு எதுக்கு இப்ப சொம்பு அடிக்குறிங்க????   \n",
       "1390  1271  அவர்கள் வட இந்தியர்கள் கிடையாது தமிழர்கள் தமிழ...   \n",
       "1351  4965  Karikd avaga solratu karikd rompa nallavaga av...   \n",
       "476   4251  மார்வாடிகளும் பீகாரிகளும் தமிழகத்தை வெகு வேகமா...   \n",
       "1202  5983  இடையே கேன புன்ட தமிழக தொழிலானரகள பத்தி தப்பா ப...   \n",
       "1057  5964  தமிழ்நாட்டிலிருந்து திருப்பி அனுப்ப வேண்டிய ஒர...   \n",
       "826   4084                   அண்ணே அடிச்சு நொறுக்குங்கனே கடைய   \n",
       "862   3723  உண்மையிலே நமது தமிழக அரசை பாராட்டவேண்டும் வடக்...   \n",
       "1340  7769  இருவருக்கும் கத்தி தேவை மற்றும் யார் வலிமையானவ...   \n",
       "821   6984                   வெள்ளாளர் வேறு முதலியார் வேறு...   \n",
       "1169  7775  Avaakaluku கத்தியால் சண்டை poda theriyathu கத்...   \n",
       "1494  1917  வந்தீங்களா பொழப்பா பார்த்தியா போனமா இருக்கனும்...   \n",
       "655   7223  அரசியல் புத்தி அடிபடை அறிவு இந்தியாவில் இல்லைய...   \n",
       "259   4598  No need to show dislike against North laborers...   \n",
       "225   1579  Hi, North Indians marvadi, becareful live in o...   \n",
       "1174  7335  டேய் மாமா பசங்களா நீங்க இரண்டு பேரும் திருட்டு...   \n",
       "1037  4590  வடக்கன்கள் உங்கள் மாநிலங்களில் வேலை பார்த்துக்...   \n",
       "924   7777                வடகலை மற்றும் தென்கலை என்றால் என்ன?   \n",
       "485   5112   @venkat-saivapillai178  இப்படியே உன் சாதி பிட...   \n",
       "24    6128  திமுக மீது பழி போட அந்த விஷகிறுமிகள் செய்யும் ...   \n",
       "1114  2732  Im also Tamilan living in mysore. Nangu kannad...   \n",
       "39    7695  அப்படி என்றால் எல்லா கோவில்களிலும்  சம உரிமை இ...   \n",
       "1094  6525  Those, who are eating BEEF, who are eating  FO...   \n",
       "748   6925   @karthikt3852  poolgundhar kalvetta kaatu da ...   \n",
       "1475  6034   @mohankumar-hi5rc  ஆமாம் சாதிய மனநிலை தான். ம...   \n",
       "392   1363  Wat fuck.....    World is one familyI want tam...   \n",
       "1251  5073         Appo un pondatti ya 2040 avana thukkirva 😂   \n",
       "636   3768  வடமாநிலத்தவர்  அவர்கள் மாநிலத்தில் நலவாழவு அமை...   \n",
       "827   2603  Dei avungalum manusanga dhaan....vandhorai vaz...   \n",
       "475   7517  என்ன ஓய் சும்மா பேசிண்டு இருக்கேள்.. அந்த மணிய...   \n",
       "1298  1526                 அண்ணா அடுத்த ஓட்டு உங்களுக்கு தான்   \n",
       "614   6644   @RajKumar-gl2wd  can you show any pallar  is ...   \n",
       "500   3455  Uruttuda nalla uruttunga...Naya sutta mari sut...   \n",
       "71    4809  nee yetho mudivu pannittu vanthutta enakku the...   \n",
       "569   4418   @jokerboys1380  கண்டீப்பா இருந்திருப்போம் வோர...   \n",
       "1560  3418  தமிழக இளைஞர்கள் தென்டங்கள் படித்துவிட்டு கெளரவ...   \n",
       "1480  4046  டேய் சேட்டு ஒழுங்கு இரு மகன தமிழ் நாட்டில் ஒரு...   \n",
       "1141   661  North Indian people's நமக்கு பிரச்சனை இல்லை இங...   \n",
       "670   5494  Holly பண்டிகை க்கு ஊருக்கு போரானுங்க திரும்பி ...   \n",
       "1075  5107  What the ****.i am born TAMILAN but Bharath th...   \n",
       "626   2770  But to be honest There are some who are really...   \n",
       "617   3421  Ponkada ponka enke thamilargal munnera vazhi v...   \n",
       "311   2479   IndiaGlitz உன்னோட நோக்கம் தெரியும். மூடிட்டு இரு   \n",
       "282    596  Ithuku karanam yarum illai.. nama Tamilnadu'la...   \n",
       "\n",
       "                                             clean_text  \n",
       "128   தமிழர்கள் மரியாதை கொடுப்பதால். இவ்வளவு வடவர்கள...  \n",
       "697   Onnai othu puduvaargal ipdi enagaiyum sollitu ...  \n",
       "1065  North india la irunthu tamilnadu ku vantha fir...  \n",
       "784   Nalla irukenu soluve.. yenda avanunga inga van...  \n",
       "1561  தமிழர்களை அழிக்க திராவிட முதளாளிகள்தான் வட இந்...  \n",
       "951   <USER> 12மணி நேர வேலைக்கு 300 குறைவு சார் 500ஆ...  \n",
       "649    அவங்களுக்கு எதுக்கு இப்ப சொம்பு அடிக்குறிங்க????  \n",
       "1390  வட இந்தியர்கள் கிடையாது தமிழர்கள் தமிழ்நாட்டில...  \n",
       "1351  Karikd avaga solratu karikd rompa nallavaga av...  \n",
       "476   மார்வாடிகளும் பீகாரிகளும் தமிழகத்தை வெகு வேகமா...  \n",
       "1202  இடையே கேன புன்ட தமிழக தொழிலானரகள பத்தி தப்பா ப...  \n",
       "1057  தமிழ்நாட்டிலிருந்து திருப்பி அனுப்ப வேண்டிய நப...  \n",
       "826                    அண்ணே அடிச்சு நொறுக்குங்கனே கடைய  \n",
       "862   உண்மையிலே நமது தமிழக அரசை பாராட்டவேண்டும் வடக்...  \n",
       "1340  இருவருக்கும் கத்தி தேவை வலிமையானவர் நிரூபிக்கவ...  \n",
       "821                         வெள்ளாளர் முதலியார் வேறு...  \n",
       "1169  Avaakaluku கத்தியால் சண்டை poda theriyathu கத்...  \n",
       "1494  வந்தீங்களா பொழப்பா பார்த்தியா போனமா இருக்கனும்...  \n",
       "655   அரசியல் புத்தி அடிபடை அறிவு இந்தியாவில் இல்லையா ?  \n",
       "259   need show dislike North laborers . Govt regula...  \n",
       "225   Hi, North Indians marvadi, becareful live Tami...  \n",
       "1174  டேய் மாமா பசங்களா நீங்க இரண்டு பேரும் திருட்டு...  \n",
       "1037  வடக்கன்கள் உங்கள் மாநிலங்களில் வேலை பார்த்துக்...  \n",
       "924                         வடகலை தென்கலை என்றால் என்ன?  \n",
       "485   <USER> saivapillai178 இப்படியே சாதி பிடிச்சிக்...  \n",
       "24    திமுக பழி போட விஷகிறுமிகள் செய்யும் வேலை.கலைஞர...  \n",
       "1114  Im also Tamilan living mysore. Nangu kannada b...  \n",
       "39    அப்படி என்றால் எல்லா கோவில்களிலும் சம உரிமை இர...  \n",
       "1094  Those, eating BEEF, eating FORK. classified de...  \n",
       "748   <USER> poolgundhar kalvetta kaatu da thevdiya ...  \n",
       "1475  <USER> hi5rc ஆமாம் சாதிய மனநிலை தான். மாட்டுக்...  \n",
       "392   Wat fuck..... World one familyI want tamilans ...  \n",
       "1251  Appo un pondatti ya 2040 avana thukkirva face_...  \n",
       "636   வடமாநிலத்தவர் மாநிலத்தில் நலவாழவு அமையட்டும்அர...  \n",
       "827   Dei avungalum manusanga dhaan....vandhorai vaz...  \n",
       "475   ஓய் சும்மா பேசிண்டு இருக்கேள்.. மணிய bell தூக்...  \n",
       "1298                             அண்ணா ஓட்டு உங்களுக்கு  \n",
       "614   <USER> gl2wd show pallar community certificate...  \n",
       "500   Uruttuda nalla uruttunga...Naya sutta mari sut...  \n",
       "71    nee yetho mudivu pannittu vanthutta enakku the...  \n",
       "569   <USER> கண்டீப்பா இருந்திருப்போம் வோரு ரூபத்தில...  \n",
       "1560  தமிழக இளைஞர்கள் தென்டங்கள் படித்துவிட்டு கெளரவ...  \n",
       "1480  டேய் சேட்டு ஒழுங்கு மகன தமிழ் நாட்டில் ஒருத்தன...  \n",
       "1141  North Indian people's நமக்கு பிரச்சனை இல்லை இங...  \n",
       "670   Holly பண்டிகை க்கு ஊருக்கு போரானுங்க திரும்பி ...  \n",
       "1075                ****.i born TAMILAN Bharath thu thu  \n",
       "626                           honest really hardworking  \n",
       "617   Ponkada ponka enke thamilargal munnera vazhi v...  \n",
       "311        IndiaGlitz உன்னோட நோக்கம் தெரியும். மூடிட்டு  \n",
       "282   Ithuku karanam yarum illai.. nama Tamilnadu'la...  "
      ]
     },
     "execution_count": 39,
     "metadata": {},
     "output_type": "execute_result"
    }
   ],
   "source": [
    "test_df['clean_text'] = test_df['text'].apply(preprocess_text).apply(remove_stopwords)\n",
    "test_df.sample(50)"
   ]
  },
  {
   "cell_type": "code",
   "execution_count": 40,
   "metadata": {},
   "outputs": [
    {
     "data": {
      "text/plain": [
       "(1576, 7000)"
      ]
     },
     "execution_count": 40,
     "metadata": {},
     "output_type": "execute_result"
    }
   ],
   "source": [
    "X = test_df['clean_text']\n",
    "\n",
    "vectorizer = TfidfVectorizer(\n",
    "    max_features=7000,\n",
    "    ngram_range=(1,2),\n",
    "    analyzer='word',\n",
    "    token_pattern=r\"(?u)\\b\\w+\\b\"\n",
    ")\n",
    "\n",
    "X_vectorized = vectorizer.fit_transform(X)\n",
    "X_vectorized = X_vectorized.toarray()\n",
    "X_vectorized.shape"
   ]
  },
  {
   "cell_type": "code",
   "execution_count": 41,
   "metadata": {},
   "outputs": [
    {
     "data": {
      "text/plain": [
       "array([0, 1, 1, ..., 1, 1, 1])"
      ]
     },
     "execution_count": 41,
     "metadata": {},
     "output_type": "execute_result"
    }
   ],
   "source": [
    "predictions = model.predict(X_vectorized)\n",
    "predictions"
   ]
  },
  {
   "cell_type": "code",
   "execution_count": 42,
   "metadata": {},
   "outputs": [],
   "source": [
    "test_df['predictions'] = predictions"
   ]
  },
  {
   "cell_type": "code",
   "execution_count": 43,
   "metadata": {},
   "outputs": [],
   "source": [
    "test_df.drop(columns=['clean_text'], inplace=True)\n",
    "test_df.drop(columns=['text'], inplace=True)"
   ]
  },
  {
   "cell_type": "code",
   "execution_count": 44,
   "metadata": {},
   "outputs": [
    {
     "data": {
      "text/plain": [
       "predictions\n",
       "0    796\n",
       "1    780\n",
       "Name: count, dtype: int64"
      ]
     },
     "execution_count": 44,
     "metadata": {},
     "output_type": "execute_result"
    }
   ],
   "source": [
    "test_df[\"predictions\"].value_counts()  "
   ]
  },
  {
   "cell_type": "code",
   "execution_count": 45,
   "metadata": {},
   "outputs": [],
   "source": [
    "test_df.to_csv(\"tfidf_7000.csv\", index=False, header=False)"
   ]
  },
  {
   "cell_type": "code",
   "execution_count": null,
   "metadata": {},
   "outputs": [],
   "source": []
  }
 ],
 "metadata": {
  "kaggle": {
   "accelerator": "nvidiaTeslaT4",
   "dataSources": [
    {
     "datasetId": 6848383,
     "sourceId": 11155441,
     "sourceType": "datasetVersion"
    }
   ],
   "dockerImageVersionId": 30919,
   "isGpuEnabled": true,
   "isInternetEnabled": true,
   "language": "python",
   "sourceType": "notebook"
  },
  "kernelspec": {
   "display_name": "Python 3",
   "language": "python",
   "name": "python3"
  },
  "language_info": {
   "codemirror_mode": {
    "name": "ipython",
    "version": 3
   },
   "file_extension": ".py",
   "mimetype": "text/x-python",
   "name": "python",
   "nbconvert_exporter": "python",
   "pygments_lexer": "ipython3",
   "version": "3.12.5"
  }
 },
 "nbformat": 4,
 "nbformat_minor": 4
}
